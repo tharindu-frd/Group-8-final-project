{
 "cells": [
  {
   "cell_type": "code",
   "execution_count": 2,
   "id": "c1906a6c-1e8d-4c88-b70a-a385711b845c",
   "metadata": {},
   "outputs": [],
   "source": [
    "#import important libraries\n",
    "import pandas as pd\n",
    "import numpy as np\n",
    "import sys\n",
    "import os\n",
    "#ignore warnings\n",
    "import warnings\n",
    "warnings.filterwarnings('ignore')\n",
    "\n",
    "from sklearn.preprocessing import OneHotEncoder, LabelEncoder\n",
    "from sklearn import model_selection\n",
    "from sklearn import preprocessing\n",
    "from scipy.stats import chi2_contingency\n",
    "\n",
    "from imblearn.over_sampling import SMOTE\n",
    "from sklearn.datasets import make_classification\n",
    "\n",
    "from sklearn import metrics\n",
    "from sklearn.model_selection import train_test_split\n",
    "from sklearn.model_selection import cross_val_score\n",
    "from sklearn.model_selection import GridSearchCV\n",
    "from statsmodels.stats.outliers_influence import variance_inflation_factor\n",
    "from tabulate import tabulate\n",
    "from sklearn.preprocessing import StandardScaler\n",
    "\n",
    "from sklearn.linear_model import LogisticRegression\n",
    "from sklearn.svm import SVC\n",
    "from sklearn.tree import DecisionTreeClassifier\n",
    "from sklearn.ensemble import RandomForestClassifier\n",
    "from sklearn.neighbors import KNeighborsClassifier\n",
    "import xgboost as xgb\n",
    "from xgboost import XGBClassifier\n",
    "from sklearn.ensemble import GradientBoostingClassifier\n",
    "from sklearn.ensemble import AdaBoostClassifier\n",
    "from sklearn.neural_network import MLPClassifier\n",
    "\n",
    "from kmodes.kprototypes import KPrototypes\n",
    "from sklearn.metrics import silhouette_score\n",
    "from sklearn.metrics import silhouette_samples\n",
    "from sklearn_extra.cluster import KMedoids\n",
    "from factor_analyzer import FactorAnalyzer\n",
    "\n",
    "from prince import FAMD\n",
    "\n",
    "import matplotlib.pyplot as plt\n",
    "import seaborn as sns"
   ]
  },
  {
   "cell_type": "code",
   "execution_count": 3,
   "id": "6e5d4793-1f00-4d70-bc08-52e14a575f0e",
   "metadata": {},
   "outputs": [
    {
     "data": {
      "text/html": [
       "<div>\n",
       "<style scoped>\n",
       "    .dataframe tbody tr th:only-of-type {\n",
       "        vertical-align: middle;\n",
       "    }\n",
       "\n",
       "    .dataframe tbody tr th {\n",
       "        vertical-align: top;\n",
       "    }\n",
       "\n",
       "    .dataframe thead th {\n",
       "        text-align: right;\n",
       "    }\n",
       "</style>\n",
       "<table border=\"1\" class=\"dataframe\">\n",
       "  <thead>\n",
       "    <tr style=\"text-align: right;\">\n",
       "      <th></th>\n",
       "      <th>Age of the patient</th>\n",
       "      <th>Total Bilirubin</th>\n",
       "      <th>Direct Bilirubin</th>\n",
       "      <th>Alkphos Alkaline Phosphotase</th>\n",
       "      <th>Sgpt Alamine Aminotransferase</th>\n",
       "      <th>Sgot Aspartate Aminotransferase</th>\n",
       "      <th>Total Protiens</th>\n",
       "      <th>ALB Albumin</th>\n",
       "      <th>A/G Ratio Albumin and Globulin Ratio</th>\n",
       "      <th>Result</th>\n",
       "    </tr>\n",
       "  </thead>\n",
       "  <tbody>\n",
       "    <tr>\n",
       "      <th>count</th>\n",
       "      <td>30689.000000</td>\n",
       "      <td>30043.000000</td>\n",
       "      <td>30130.000000</td>\n",
       "      <td>29895.000000</td>\n",
       "      <td>30153.000000</td>\n",
       "      <td>30229.000000</td>\n",
       "      <td>30228.000000</td>\n",
       "      <td>30197.000000</td>\n",
       "      <td>30132.000000</td>\n",
       "      <td>30691.000000</td>\n",
       "    </tr>\n",
       "    <tr>\n",
       "      <th>mean</th>\n",
       "      <td>44.107205</td>\n",
       "      <td>3.370319</td>\n",
       "      <td>1.528042</td>\n",
       "      <td>289.075364</td>\n",
       "      <td>81.488641</td>\n",
       "      <td>111.469979</td>\n",
       "      <td>6.480237</td>\n",
       "      <td>3.130142</td>\n",
       "      <td>0.943467</td>\n",
       "      <td>1.285882</td>\n",
       "    </tr>\n",
       "    <tr>\n",
       "      <th>std</th>\n",
       "      <td>15.981043</td>\n",
       "      <td>6.255522</td>\n",
       "      <td>2.869592</td>\n",
       "      <td>238.537589</td>\n",
       "      <td>182.158850</td>\n",
       "      <td>280.851078</td>\n",
       "      <td>1.081980</td>\n",
       "      <td>0.792281</td>\n",
       "      <td>0.323164</td>\n",
       "      <td>0.451841</td>\n",
       "    </tr>\n",
       "    <tr>\n",
       "      <th>min</th>\n",
       "      <td>4.000000</td>\n",
       "      <td>0.400000</td>\n",
       "      <td>0.100000</td>\n",
       "      <td>63.000000</td>\n",
       "      <td>10.000000</td>\n",
       "      <td>10.000000</td>\n",
       "      <td>2.700000</td>\n",
       "      <td>0.900000</td>\n",
       "      <td>0.300000</td>\n",
       "      <td>1.000000</td>\n",
       "    </tr>\n",
       "    <tr>\n",
       "      <th>25%</th>\n",
       "      <td>32.000000</td>\n",
       "      <td>0.800000</td>\n",
       "      <td>0.200000</td>\n",
       "      <td>175.000000</td>\n",
       "      <td>23.000000</td>\n",
       "      <td>26.000000</td>\n",
       "      <td>5.800000</td>\n",
       "      <td>2.600000</td>\n",
       "      <td>0.700000</td>\n",
       "      <td>1.000000</td>\n",
       "    </tr>\n",
       "    <tr>\n",
       "      <th>50%</th>\n",
       "      <td>45.000000</td>\n",
       "      <td>1.000000</td>\n",
       "      <td>0.300000</td>\n",
       "      <td>209.000000</td>\n",
       "      <td>35.000000</td>\n",
       "      <td>42.000000</td>\n",
       "      <td>6.600000</td>\n",
       "      <td>3.100000</td>\n",
       "      <td>0.900000</td>\n",
       "      <td>1.000000</td>\n",
       "    </tr>\n",
       "    <tr>\n",
       "      <th>75%</th>\n",
       "      <td>55.000000</td>\n",
       "      <td>2.700000</td>\n",
       "      <td>1.300000</td>\n",
       "      <td>298.000000</td>\n",
       "      <td>62.000000</td>\n",
       "      <td>88.000000</td>\n",
       "      <td>7.200000</td>\n",
       "      <td>3.800000</td>\n",
       "      <td>1.100000</td>\n",
       "      <td>2.000000</td>\n",
       "    </tr>\n",
       "    <tr>\n",
       "      <th>max</th>\n",
       "      <td>90.000000</td>\n",
       "      <td>75.000000</td>\n",
       "      <td>19.700000</td>\n",
       "      <td>2110.000000</td>\n",
       "      <td>2000.000000</td>\n",
       "      <td>4929.000000</td>\n",
       "      <td>9.600000</td>\n",
       "      <td>5.500000</td>\n",
       "      <td>2.800000</td>\n",
       "      <td>2.000000</td>\n",
       "    </tr>\n",
       "  </tbody>\n",
       "</table>\n",
       "</div>"
      ],
      "text/plain": [
       "       Age of the patient  Total Bilirubin  Direct Bilirubin  \\\n",
       "count        30689.000000     30043.000000      30130.000000   \n",
       "mean            44.107205         3.370319          1.528042   \n",
       "std             15.981043         6.255522          2.869592   \n",
       "min              4.000000         0.400000          0.100000   \n",
       "25%             32.000000         0.800000          0.200000   \n",
       "50%             45.000000         1.000000          0.300000   \n",
       "75%             55.000000         2.700000          1.300000   \n",
       "max             90.000000        75.000000         19.700000   \n",
       "\n",
       "        Alkphos Alkaline Phosphotase   Sgpt Alamine Aminotransferase  \\\n",
       "count                   29895.000000                    30153.000000   \n",
       "mean                      289.075364                       81.488641   \n",
       "std                       238.537589                      182.158850   \n",
       "min                        63.000000                       10.000000   \n",
       "25%                       175.000000                       23.000000   \n",
       "50%                       209.000000                       35.000000   \n",
       "75%                       298.000000                       62.000000   \n",
       "max                      2110.000000                     2000.000000   \n",
       "\n",
       "       Sgot Aspartate Aminotransferase  Total Protiens   ALB Albumin  \\\n",
       "count                     30229.000000    30228.000000  30197.000000   \n",
       "mean                        111.469979        6.480237      3.130142   \n",
       "std                         280.851078        1.081980      0.792281   \n",
       "min                          10.000000        2.700000      0.900000   \n",
       "25%                          26.000000        5.800000      2.600000   \n",
       "50%                          42.000000        6.600000      3.100000   \n",
       "75%                          88.000000        7.200000      3.800000   \n",
       "max                        4929.000000        9.600000      5.500000   \n",
       "\n",
       "       A/G Ratio Albumin and Globulin Ratio        Result  \n",
       "count                          30132.000000  30691.000000  \n",
       "mean                               0.943467      1.285882  \n",
       "std                                0.323164      0.451841  \n",
       "min                                0.300000      1.000000  \n",
       "25%                                0.700000      1.000000  \n",
       "50%                                0.900000      1.000000  \n",
       "75%                                1.100000      2.000000  \n",
       "max                                2.800000      2.000000  "
      ]
     },
     "execution_count": 3,
     "metadata": {},
     "output_type": "execute_result"
    }
   ],
   "source": [
    "#import  traain dataset\n",
    "df = pd.read_csv(\"train.csv\", encoding='ISO-8859-1')\n",
    "\n",
    "df.head()\n",
    "df.describe()"
   ]
  },
  {
   "cell_type": "code",
   "execution_count": 4,
   "id": "2121d2e9-c9ae-491b-9efc-6ab7fd5cf0ba",
   "metadata": {},
   "outputs": [
    {
     "name": "stdout",
     "output_type": "stream",
     "text": [
      "<class 'pandas.core.frame.DataFrame'>\n",
      "RangeIndex: 30691 entries, 0 to 30690\n",
      "Data columns (total 11 columns):\n",
      " #   Column                                Non-Null Count  Dtype  \n",
      "---  ------                                --------------  -----  \n",
      " 0   Age of the patient                    30689 non-null  float64\n",
      " 1   Gender of the patient                 29789 non-null  object \n",
      " 2   Total Bilirubin                       30043 non-null  float64\n",
      " 3   Direct Bilirubin                      30130 non-null  float64\n",
      " 4    Alkphos Alkaline Phosphotase         29895 non-null  float64\n",
      " 5    Sgpt Alamine Aminotransferase        30153 non-null  float64\n",
      " 6   Sgot Aspartate Aminotransferase       30229 non-null  float64\n",
      " 7   Total Protiens                        30228 non-null  float64\n",
      " 8    ALB Albumin                          30197 non-null  float64\n",
      " 9   A/G Ratio Albumin and Globulin Ratio  30132 non-null  float64\n",
      " 10  Result                                30691 non-null  int64  \n",
      "dtypes: float64(9), int64(1), object(1)\n",
      "memory usage: 2.6+ MB\n"
     ]
    }
   ],
   "source": [
    "df.info()"
   ]
  },
  {
   "cell_type": "code",
   "execution_count": 5,
   "id": "515654ba-0d03-4491-8862-dc6195cc4444",
   "metadata": {},
   "outputs": [
    {
     "data": {
      "text/plain": [
       "Age of the patient                        2\n",
       "Gender of the patient                   902\n",
       "Total Bilirubin                         648\n",
       "Direct Bilirubin                        561\n",
       " Alkphos Alkaline Phosphotase           796\n",
       " Sgpt Alamine Aminotransferase          538\n",
       "Sgot Aspartate Aminotransferase         462\n",
       "Total Protiens                          463\n",
       " ALB Albumin                            494\n",
       "A/G Ratio Albumin and Globulin Ratio    559\n",
       "Result                                    0\n",
       "dtype: int64"
      ]
     },
     "execution_count": 5,
     "metadata": {},
     "output_type": "execute_result"
    }
   ],
   "source": [
    "#finding count of missing values in each column\n",
    "df.isna().sum()"
   ]
  },
  {
   "cell_type": "markdown",
   "id": "8cfb988b-f5b3-4c49-a0d5-53a043652d6d",
   "metadata": {},
   "source": [
    "DATA PREPROCESSING\n"
   ]
  },
  {
   "cell_type": "code",
   "execution_count": 6,
   "id": "9faafbdd-6f00-4628-be0a-3266dbf60661",
   "metadata": {},
   "outputs": [
    {
     "data": {
      "text/html": [
       "<div>\n",
       "<style scoped>\n",
       "    .dataframe tbody tr th:only-of-type {\n",
       "        vertical-align: middle;\n",
       "    }\n",
       "\n",
       "    .dataframe tbody tr th {\n",
       "        vertical-align: top;\n",
       "    }\n",
       "\n",
       "    .dataframe thead th {\n",
       "        text-align: right;\n",
       "    }\n",
       "</style>\n",
       "<table border=\"1\" class=\"dataframe\">\n",
       "  <thead>\n",
       "    <tr style=\"text-align: right;\">\n",
       "      <th></th>\n",
       "      <th>Age</th>\n",
       "      <th>Total_Bilirubin</th>\n",
       "      <th>Direct_Bilirubin</th>\n",
       "      <th>Alkphos_Alkaline_Phosphotase</th>\n",
       "      <th>Sgpt_Alamine_Aminotransferase</th>\n",
       "      <th>Sgot_Aspartate_Aminotransferase</th>\n",
       "      <th>Total_Protiens</th>\n",
       "      <th>ALB_Albumin</th>\n",
       "      <th>A/G_Ratio_Albumin_and_Globulin_Ratio</th>\n",
       "      <th>Liver_disease</th>\n",
       "    </tr>\n",
       "  </thead>\n",
       "  <tbody>\n",
       "    <tr>\n",
       "      <th>count</th>\n",
       "      <td>30689.000000</td>\n",
       "      <td>30043.000000</td>\n",
       "      <td>30130.000000</td>\n",
       "      <td>29895.000000</td>\n",
       "      <td>30153.000000</td>\n",
       "      <td>30229.000000</td>\n",
       "      <td>30228.000000</td>\n",
       "      <td>30197.000000</td>\n",
       "      <td>30132.000000</td>\n",
       "      <td>30691.000000</td>\n",
       "    </tr>\n",
       "    <tr>\n",
       "      <th>mean</th>\n",
       "      <td>44.107205</td>\n",
       "      <td>3.370319</td>\n",
       "      <td>1.528042</td>\n",
       "      <td>289.075364</td>\n",
       "      <td>81.488641</td>\n",
       "      <td>111.469979</td>\n",
       "      <td>6.480237</td>\n",
       "      <td>3.130142</td>\n",
       "      <td>0.943467</td>\n",
       "      <td>1.285882</td>\n",
       "    </tr>\n",
       "    <tr>\n",
       "      <th>std</th>\n",
       "      <td>15.981043</td>\n",
       "      <td>6.255522</td>\n",
       "      <td>2.869592</td>\n",
       "      <td>238.537589</td>\n",
       "      <td>182.158850</td>\n",
       "      <td>280.851078</td>\n",
       "      <td>1.081980</td>\n",
       "      <td>0.792281</td>\n",
       "      <td>0.323164</td>\n",
       "      <td>0.451841</td>\n",
       "    </tr>\n",
       "    <tr>\n",
       "      <th>min</th>\n",
       "      <td>4.000000</td>\n",
       "      <td>0.400000</td>\n",
       "      <td>0.100000</td>\n",
       "      <td>63.000000</td>\n",
       "      <td>10.000000</td>\n",
       "      <td>10.000000</td>\n",
       "      <td>2.700000</td>\n",
       "      <td>0.900000</td>\n",
       "      <td>0.300000</td>\n",
       "      <td>1.000000</td>\n",
       "    </tr>\n",
       "    <tr>\n",
       "      <th>25%</th>\n",
       "      <td>32.000000</td>\n",
       "      <td>0.800000</td>\n",
       "      <td>0.200000</td>\n",
       "      <td>175.000000</td>\n",
       "      <td>23.000000</td>\n",
       "      <td>26.000000</td>\n",
       "      <td>5.800000</td>\n",
       "      <td>2.600000</td>\n",
       "      <td>0.700000</td>\n",
       "      <td>1.000000</td>\n",
       "    </tr>\n",
       "    <tr>\n",
       "      <th>50%</th>\n",
       "      <td>45.000000</td>\n",
       "      <td>1.000000</td>\n",
       "      <td>0.300000</td>\n",
       "      <td>209.000000</td>\n",
       "      <td>35.000000</td>\n",
       "      <td>42.000000</td>\n",
       "      <td>6.600000</td>\n",
       "      <td>3.100000</td>\n",
       "      <td>0.900000</td>\n",
       "      <td>1.000000</td>\n",
       "    </tr>\n",
       "    <tr>\n",
       "      <th>75%</th>\n",
       "      <td>55.000000</td>\n",
       "      <td>2.700000</td>\n",
       "      <td>1.300000</td>\n",
       "      <td>298.000000</td>\n",
       "      <td>62.000000</td>\n",
       "      <td>88.000000</td>\n",
       "      <td>7.200000</td>\n",
       "      <td>3.800000</td>\n",
       "      <td>1.100000</td>\n",
       "      <td>2.000000</td>\n",
       "    </tr>\n",
       "    <tr>\n",
       "      <th>max</th>\n",
       "      <td>90.000000</td>\n",
       "      <td>75.000000</td>\n",
       "      <td>19.700000</td>\n",
       "      <td>2110.000000</td>\n",
       "      <td>2000.000000</td>\n",
       "      <td>4929.000000</td>\n",
       "      <td>9.600000</td>\n",
       "      <td>5.500000</td>\n",
       "      <td>2.800000</td>\n",
       "      <td>2.000000</td>\n",
       "    </tr>\n",
       "  </tbody>\n",
       "</table>\n",
       "</div>"
      ],
      "text/plain": [
       "                Age  Total_Bilirubin  Direct_Bilirubin  \\\n",
       "count  30689.000000     30043.000000      30130.000000   \n",
       "mean      44.107205         3.370319          1.528042   \n",
       "std       15.981043         6.255522          2.869592   \n",
       "min        4.000000         0.400000          0.100000   \n",
       "25%       32.000000         0.800000          0.200000   \n",
       "50%       45.000000         1.000000          0.300000   \n",
       "75%       55.000000         2.700000          1.300000   \n",
       "max       90.000000        75.000000         19.700000   \n",
       "\n",
       "       Alkphos_Alkaline_Phosphotase  Sgpt_Alamine_Aminotransferase  \\\n",
       "count                  29895.000000                   30153.000000   \n",
       "mean                     289.075364                      81.488641   \n",
       "std                      238.537589                     182.158850   \n",
       "min                       63.000000                      10.000000   \n",
       "25%                      175.000000                      23.000000   \n",
       "50%                      209.000000                      35.000000   \n",
       "75%                      298.000000                      62.000000   \n",
       "max                     2110.000000                    2000.000000   \n",
       "\n",
       "       Sgot_Aspartate_Aminotransferase  Total_Protiens   ALB_Albumin  \\\n",
       "count                     30229.000000    30228.000000  30197.000000   \n",
       "mean                        111.469979        6.480237      3.130142   \n",
       "std                         280.851078        1.081980      0.792281   \n",
       "min                          10.000000        2.700000      0.900000   \n",
       "25%                          26.000000        5.800000      2.600000   \n",
       "50%                          42.000000        6.600000      3.100000   \n",
       "75%                          88.000000        7.200000      3.800000   \n",
       "max                        4929.000000        9.600000      5.500000   \n",
       "\n",
       "       A/G_Ratio_Albumin_and_Globulin_Ratio  Liver_disease  \n",
       "count                          30132.000000   30691.000000  \n",
       "mean                               0.943467       1.285882  \n",
       "std                                0.323164       0.451841  \n",
       "min                                0.300000       1.000000  \n",
       "25%                                0.700000       1.000000  \n",
       "50%                                0.900000       1.000000  \n",
       "75%                                1.100000       2.000000  \n",
       "max                                2.800000       2.000000  "
      ]
     },
     "execution_count": 6,
     "metadata": {},
     "output_type": "execute_result"
    }
   ],
   "source": [
    "df.columns = ['Age', 'Gender', 'Total_Bilirubin',\n",
    "       'Direct_Bilirubin', 'Alkphos_Alkaline_Phosphotase',\n",
    "       'Sgpt_Alamine_Aminotransferase', 'Sgot_Aspartate_Aminotransferase',\n",
    "       'Total_Protiens', 'ALB_Albumin',\n",
    "       'A/G_Ratio_Albumin_and_Globulin_Ratio', 'Liver_disease']\n",
    "## RENAMED RESULT AS Liver_disease\n",
    "# Renaming Done\n",
    "df.describe()"
   ]
  },
  {
   "cell_type": "code",
   "execution_count": 7,
   "id": "01958bb6-bf8b-4f2e-84d5-7a7d5070fa2d",
   "metadata": {},
   "outputs": [
    {
     "name": "stdout",
     "output_type": "stream",
     "text": [
      "[1 2]\n",
      "[1 0]\n"
     ]
    }
   ],
   "source": [
    "#unique values in Liver_disease variable\n",
    "values_in_Liver_disease = df[\"Liver_disease\"].unique()\n",
    "print(values_in_Liver_disease)\n",
    "\n",
    "#recoding Liver_disease variable - 2 means dont have disease - converted that to 0; 1 remains the same\n",
    "df['Liver_disease'] = df['Liver_disease'].replace(2, 0)\n",
    "print(df[\"Liver_disease\"].unique())"
   ]
  },
  {
   "cell_type": "code",
   "execution_count": 8,
   "id": "b4db5178-74ba-4548-80ee-086f1d22bb31",
   "metadata": {},
   "outputs": [],
   "source": [
    "#encoding Gender column into categorical data \n",
    "LabelEncoder = LabelEncoder()\n",
    "df['is_male'] = LabelEncoder.fit_transform(df['Gender'])\n",
    "df = df.drop(columns='Gender')\n",
    "df =  df.rename(columns={'is_male':'Gender'}, inplace=False)\n",
    "\n",
    "#new gender column where male=1 and female=0"
   ]
  },
  {
   "cell_type": "code",
   "execution_count": 9,
   "id": "3f957b32-eae1-4762-b08b-8ceb7e6d7d46",
   "metadata": {},
   "outputs": [
    {
     "data": {
      "text/html": [
       "<div>\n",
       "<style scoped>\n",
       "    .dataframe tbody tr th:only-of-type {\n",
       "        vertical-align: middle;\n",
       "    }\n",
       "\n",
       "    .dataframe tbody tr th {\n",
       "        vertical-align: top;\n",
       "    }\n",
       "\n",
       "    .dataframe thead th {\n",
       "        text-align: right;\n",
       "    }\n",
       "</style>\n",
       "<table border=\"1\" class=\"dataframe\">\n",
       "  <thead>\n",
       "    <tr style=\"text-align: right;\">\n",
       "      <th></th>\n",
       "      <th>Age</th>\n",
       "      <th>Total_Bilirubin</th>\n",
       "      <th>Direct_Bilirubin</th>\n",
       "      <th>Alkphos_Alkaline_Phosphotase</th>\n",
       "      <th>Sgpt_Alamine_Aminotransferase</th>\n",
       "      <th>Sgot_Aspartate_Aminotransferase</th>\n",
       "      <th>Total_Protiens</th>\n",
       "      <th>ALB_Albumin</th>\n",
       "      <th>A/G_Ratio_Albumin_and_Globulin_Ratio</th>\n",
       "      <th>Liver_disease</th>\n",
       "      <th>Gender</th>\n",
       "    </tr>\n",
       "  </thead>\n",
       "  <tbody>\n",
       "    <tr>\n",
       "      <th>0</th>\n",
       "      <td>65.0</td>\n",
       "      <td>0.7</td>\n",
       "      <td>0.1</td>\n",
       "      <td>187.0</td>\n",
       "      <td>16.0</td>\n",
       "      <td>18.0</td>\n",
       "      <td>6.8</td>\n",
       "      <td>3.3</td>\n",
       "      <td>0.90</td>\n",
       "      <td>1</td>\n",
       "      <td>0</td>\n",
       "    </tr>\n",
       "    <tr>\n",
       "      <th>1</th>\n",
       "      <td>62.0</td>\n",
       "      <td>10.9</td>\n",
       "      <td>5.5</td>\n",
       "      <td>699.0</td>\n",
       "      <td>64.0</td>\n",
       "      <td>100.0</td>\n",
       "      <td>7.5</td>\n",
       "      <td>3.2</td>\n",
       "      <td>0.74</td>\n",
       "      <td>1</td>\n",
       "      <td>1</td>\n",
       "    </tr>\n",
       "    <tr>\n",
       "      <th>2</th>\n",
       "      <td>62.0</td>\n",
       "      <td>7.3</td>\n",
       "      <td>4.1</td>\n",
       "      <td>490.0</td>\n",
       "      <td>60.0</td>\n",
       "      <td>68.0</td>\n",
       "      <td>7.0</td>\n",
       "      <td>3.3</td>\n",
       "      <td>0.89</td>\n",
       "      <td>1</td>\n",
       "      <td>1</td>\n",
       "    </tr>\n",
       "    <tr>\n",
       "      <th>3</th>\n",
       "      <td>58.0</td>\n",
       "      <td>1.0</td>\n",
       "      <td>0.4</td>\n",
       "      <td>182.0</td>\n",
       "      <td>14.0</td>\n",
       "      <td>20.0</td>\n",
       "      <td>6.8</td>\n",
       "      <td>3.4</td>\n",
       "      <td>1.00</td>\n",
       "      <td>1</td>\n",
       "      <td>1</td>\n",
       "    </tr>\n",
       "    <tr>\n",
       "      <th>4</th>\n",
       "      <td>72.0</td>\n",
       "      <td>3.9</td>\n",
       "      <td>2.0</td>\n",
       "      <td>195.0</td>\n",
       "      <td>27.0</td>\n",
       "      <td>59.0</td>\n",
       "      <td>7.3</td>\n",
       "      <td>2.4</td>\n",
       "      <td>0.40</td>\n",
       "      <td>1</td>\n",
       "      <td>1</td>\n",
       "    </tr>\n",
       "  </tbody>\n",
       "</table>\n",
       "</div>"
      ],
      "text/plain": [
       "    Age  Total_Bilirubin  Direct_Bilirubin  Alkphos_Alkaline_Phosphotase  \\\n",
       "0  65.0              0.7               0.1                         187.0   \n",
       "1  62.0             10.9               5.5                         699.0   \n",
       "2  62.0              7.3               4.1                         490.0   \n",
       "3  58.0              1.0               0.4                         182.0   \n",
       "4  72.0              3.9               2.0                         195.0   \n",
       "\n",
       "   Sgpt_Alamine_Aminotransferase  Sgot_Aspartate_Aminotransferase  \\\n",
       "0                           16.0                             18.0   \n",
       "1                           64.0                            100.0   \n",
       "2                           60.0                             68.0   \n",
       "3                           14.0                             20.0   \n",
       "4                           27.0                             59.0   \n",
       "\n",
       "   Total_Protiens  ALB_Albumin  A/G_Ratio_Albumin_and_Globulin_Ratio  \\\n",
       "0             6.8          3.3                                  0.90   \n",
       "1             7.5          3.2                                  0.74   \n",
       "2             7.0          3.3                                  0.89   \n",
       "3             6.8          3.4                                  1.00   \n",
       "4             7.3          2.4                                  0.40   \n",
       "\n",
       "   Liver_disease  Gender  \n",
       "0              1       0  \n",
       "1              1       1  \n",
       "2              1       1  \n",
       "3              1       1  \n",
       "4              1       1  "
      ]
     },
     "execution_count": 9,
     "metadata": {},
     "output_type": "execute_result"
    }
   ],
   "source": [
    "df.head()"
   ]
  },
  {
   "cell_type": "code",
   "execution_count": 10,
   "id": "938410cf-f471-4545-b0c7-59f567066d70",
   "metadata": {},
   "outputs": [],
   "source": [
    "#dropping null values - does not affect data\n",
    "df = df.dropna()"
   ]
  },
  {
   "cell_type": "code",
   "execution_count": 11,
   "id": "056f834e-c111-483c-9aec-82221a381e5b",
   "metadata": {},
   "outputs": [
    {
     "data": {
      "text/plain": [
       "Age                                     0\n",
       "Total_Bilirubin                         0\n",
       "Direct_Bilirubin                        0\n",
       "Alkphos_Alkaline_Phosphotase            0\n",
       "Sgpt_Alamine_Aminotransferase           0\n",
       "Sgot_Aspartate_Aminotransferase         0\n",
       "Total_Protiens                          0\n",
       "ALB_Albumin                             0\n",
       "A/G_Ratio_Albumin_and_Globulin_Ratio    0\n",
       "Liver_disease                           0\n",
       "Gender                                  0\n",
       "dtype: int64"
      ]
     },
     "execution_count": 11,
     "metadata": {},
     "output_type": "execute_result"
    }
   ],
   "source": [
    "#finding count of missing values in each column\n",
    "df.isna().sum()"
   ]
  },
  {
   "cell_type": "code",
   "execution_count": 12,
   "id": "42766918-fb24-4bd4-a2d0-e750ae7ae332",
   "metadata": {},
   "outputs": [
    {
     "name": "stdout",
     "output_type": "stream",
     "text": [
      "False\n"
     ]
    }
   ],
   "source": [
    "#identifying if there are duplicates\n",
    "duplicates = df.duplicated().all()\n",
    "print(duplicates)"
   ]
  },
  {
   "cell_type": "code",
   "execution_count": 13,
   "id": "6432b665-e53a-45e8-b09a-489e44692672",
   "metadata": {
    "scrolled": true
   },
   "outputs": [
    {
     "data": {
      "text/html": [
       "<div>\n",
       "<style scoped>\n",
       "    .dataframe tbody tr th:only-of-type {\n",
       "        vertical-align: middle;\n",
       "    }\n",
       "\n",
       "    .dataframe tbody tr th {\n",
       "        vertical-align: top;\n",
       "    }\n",
       "\n",
       "    .dataframe thead th {\n",
       "        text-align: right;\n",
       "    }\n",
       "</style>\n",
       "<table border=\"1\" class=\"dataframe\">\n",
       "  <thead>\n",
       "    <tr style=\"text-align: right;\">\n",
       "      <th></th>\n",
       "      <th>Age</th>\n",
       "      <th>Total_Bilirubin</th>\n",
       "      <th>Direct_Bilirubin</th>\n",
       "      <th>Alkphos_Alkaline_Phosphotase</th>\n",
       "      <th>Sgpt_Alamine_Aminotransferase</th>\n",
       "      <th>Sgot_Aspartate_Aminotransferase</th>\n",
       "      <th>Total_Protiens</th>\n",
       "      <th>ALB_Albumin</th>\n",
       "      <th>A/G_Ratio_Albumin_and_Globulin_Ratio</th>\n",
       "      <th>Liver_disease</th>\n",
       "      <th>Gender</th>\n",
       "    </tr>\n",
       "  </thead>\n",
       "  <tbody>\n",
       "    <tr>\n",
       "      <th>count</th>\n",
       "      <td>27666.000000</td>\n",
       "      <td>27666.000000</td>\n",
       "      <td>27666.000000</td>\n",
       "      <td>27666.000000</td>\n",
       "      <td>27666.000000</td>\n",
       "      <td>27666.000000</td>\n",
       "      <td>27666.000000</td>\n",
       "      <td>27666.000000</td>\n",
       "      <td>27666.000000</td>\n",
       "      <td>27666.000000</td>\n",
       "      <td>27666.000000</td>\n",
       "    </tr>\n",
       "    <tr>\n",
       "      <th>mean</th>\n",
       "      <td>44.104460</td>\n",
       "      <td>3.408686</td>\n",
       "      <td>1.541379</td>\n",
       "      <td>289.851876</td>\n",
       "      <td>81.295489</td>\n",
       "      <td>112.209788</td>\n",
       "      <td>6.472201</td>\n",
       "      <td>3.124680</td>\n",
       "      <td>0.943883</td>\n",
       "      <td>0.716873</td>\n",
       "      <td>0.760862</td>\n",
       "    </tr>\n",
       "    <tr>\n",
       "      <th>std</th>\n",
       "      <td>15.972032</td>\n",
       "      <td>6.343109</td>\n",
       "      <td>2.894564</td>\n",
       "      <td>239.188932</td>\n",
       "      <td>181.567045</td>\n",
       "      <td>285.494878</td>\n",
       "      <td>1.082415</td>\n",
       "      <td>0.791945</td>\n",
       "      <td>0.323851</td>\n",
       "      <td>0.450526</td>\n",
       "      <td>0.467635</td>\n",
       "    </tr>\n",
       "    <tr>\n",
       "      <th>min</th>\n",
       "      <td>4.000000</td>\n",
       "      <td>0.400000</td>\n",
       "      <td>0.100000</td>\n",
       "      <td>63.000000</td>\n",
       "      <td>10.000000</td>\n",
       "      <td>10.000000</td>\n",
       "      <td>2.700000</td>\n",
       "      <td>0.900000</td>\n",
       "      <td>0.300000</td>\n",
       "      <td>0.000000</td>\n",
       "      <td>0.000000</td>\n",
       "    </tr>\n",
       "    <tr>\n",
       "      <th>25%</th>\n",
       "      <td>32.000000</td>\n",
       "      <td>0.800000</td>\n",
       "      <td>0.200000</td>\n",
       "      <td>175.000000</td>\n",
       "      <td>23.000000</td>\n",
       "      <td>26.000000</td>\n",
       "      <td>5.800000</td>\n",
       "      <td>2.600000</td>\n",
       "      <td>0.700000</td>\n",
       "      <td>0.000000</td>\n",
       "      <td>0.000000</td>\n",
       "    </tr>\n",
       "    <tr>\n",
       "      <th>50%</th>\n",
       "      <td>45.000000</td>\n",
       "      <td>1.000000</td>\n",
       "      <td>0.300000</td>\n",
       "      <td>209.000000</td>\n",
       "      <td>36.000000</td>\n",
       "      <td>42.000000</td>\n",
       "      <td>6.600000</td>\n",
       "      <td>3.100000</td>\n",
       "      <td>0.900000</td>\n",
       "      <td>1.000000</td>\n",
       "      <td>1.000000</td>\n",
       "    </tr>\n",
       "    <tr>\n",
       "      <th>75%</th>\n",
       "      <td>55.000000</td>\n",
       "      <td>2.700000</td>\n",
       "      <td>1.300000</td>\n",
       "      <td>298.000000</td>\n",
       "      <td>62.000000</td>\n",
       "      <td>88.000000</td>\n",
       "      <td>7.200000</td>\n",
       "      <td>3.700000</td>\n",
       "      <td>1.100000</td>\n",
       "      <td>1.000000</td>\n",
       "      <td>1.000000</td>\n",
       "    </tr>\n",
       "    <tr>\n",
       "      <th>max</th>\n",
       "      <td>90.000000</td>\n",
       "      <td>75.000000</td>\n",
       "      <td>19.700000</td>\n",
       "      <td>2110.000000</td>\n",
       "      <td>2000.000000</td>\n",
       "      <td>4929.000000</td>\n",
       "      <td>9.600000</td>\n",
       "      <td>5.500000</td>\n",
       "      <td>2.800000</td>\n",
       "      <td>1.000000</td>\n",
       "      <td>2.000000</td>\n",
       "    </tr>\n",
       "  </tbody>\n",
       "</table>\n",
       "</div>"
      ],
      "text/plain": [
       "                Age  Total_Bilirubin  Direct_Bilirubin  \\\n",
       "count  27666.000000     27666.000000      27666.000000   \n",
       "mean      44.104460         3.408686          1.541379   \n",
       "std       15.972032         6.343109          2.894564   \n",
       "min        4.000000         0.400000          0.100000   \n",
       "25%       32.000000         0.800000          0.200000   \n",
       "50%       45.000000         1.000000          0.300000   \n",
       "75%       55.000000         2.700000          1.300000   \n",
       "max       90.000000        75.000000         19.700000   \n",
       "\n",
       "       Alkphos_Alkaline_Phosphotase  Sgpt_Alamine_Aminotransferase  \\\n",
       "count                  27666.000000                   27666.000000   \n",
       "mean                     289.851876                      81.295489   \n",
       "std                      239.188932                     181.567045   \n",
       "min                       63.000000                      10.000000   \n",
       "25%                      175.000000                      23.000000   \n",
       "50%                      209.000000                      36.000000   \n",
       "75%                      298.000000                      62.000000   \n",
       "max                     2110.000000                    2000.000000   \n",
       "\n",
       "       Sgot_Aspartate_Aminotransferase  Total_Protiens   ALB_Albumin  \\\n",
       "count                     27666.000000    27666.000000  27666.000000   \n",
       "mean                        112.209788        6.472201      3.124680   \n",
       "std                         285.494878        1.082415      0.791945   \n",
       "min                          10.000000        2.700000      0.900000   \n",
       "25%                          26.000000        5.800000      2.600000   \n",
       "50%                          42.000000        6.600000      3.100000   \n",
       "75%                          88.000000        7.200000      3.700000   \n",
       "max                        4929.000000        9.600000      5.500000   \n",
       "\n",
       "       A/G_Ratio_Albumin_and_Globulin_Ratio  Liver_disease        Gender  \n",
       "count                          27666.000000   27666.000000  27666.000000  \n",
       "mean                               0.943883       0.716873      0.760862  \n",
       "std                                0.323851       0.450526      0.467635  \n",
       "min                                0.300000       0.000000      0.000000  \n",
       "25%                                0.700000       0.000000      0.000000  \n",
       "50%                                0.900000       1.000000      1.000000  \n",
       "75%                                1.100000       1.000000      1.000000  \n",
       "max                                2.800000       1.000000      2.000000  "
      ]
     },
     "execution_count": 13,
     "metadata": {},
     "output_type": "execute_result"
    }
   ],
   "source": [
    "df.describe()"
   ]
  },
  {
   "cell_type": "code",
   "execution_count": 14,
   "id": "1d056185-7558-43dc-b832-61ea08c56efc",
   "metadata": {},
   "outputs": [
    {
     "name": "stdout",
     "output_type": "stream",
     "text": [
      "Total persons without liver disease :  7833 and its percentage is 28.31 %\n",
      "Total persons with liver disease :  19833 and its percentage is 71.69 %\n"
     ]
    }
   ],
   "source": [
    "print ('Total persons without liver disease :  {} and its percentage is {} %'.format(df.Liver_disease.value_counts()[0], round(df.Liver_disease.value_counts()[0]/df.Liver_disease.value_counts().sum()*100,2)) )\n",
    "print ('Total persons with liver disease :  {} and its percentage is {} %'.format(df.Liver_disease.value_counts()[1], round(df.Liver_disease.value_counts()[1]/df.Liver_disease.value_counts().sum()*100,2)) )"
   ]
  },
  {
   "cell_type": "markdown",
   "id": "6b07272c-2f36-4453-ab49-ec6c7b9bc482",
   "metadata": {},
   "source": [
    "DATA SET IS UNBALANCED WE HATE TO APPLY SMOTE UPSAMPLING AND DOWNSAMPLING"
   ]
  },
  {
   "cell_type": "code",
   "execution_count": 15,
   "id": "fd02689c-8c78-476f-9cbf-d675443e9f78",
   "metadata": {},
   "outputs": [
    {
     "data": {
      "text/plain": [
       "Age                                      0.020470\n",
       "Total_Bilirubin                          4.663518\n",
       "Direct_Bilirubin                         3.144359\n",
       "Alkphos_Alkaline_Phosphotase             3.764795\n",
       "Sgpt_Alamine_Aminotransferase            6.517181\n",
       "Sgot_Aspartate_Aminotransferase         10.358753\n",
       "Total_Protiens                          -0.304125\n",
       "ALB_Albumin                             -0.046914\n",
       "A/G_Ratio_Albumin_and_Globulin_Ratio     1.076229\n",
       "Liver_disease                           -0.962823\n",
       "Gender                                  -0.670711\n",
       "dtype: float64"
      ]
     },
     "execution_count": 15,
     "metadata": {},
     "output_type": "execute_result"
    }
   ],
   "source": [
    "df.skew(axis = 0, skipna = True) "
   ]
  },
  {
   "cell_type": "code",
   "execution_count": null,
   "id": "e3cb0817-40d5-458a-8b38-770b2f996ed8",
   "metadata": {},
   "outputs": [],
   "source": []
  },
  {
   "cell_type": "markdown",
   "id": "b1105a2f-c227-4051-bd22-50468f2cba17",
   "metadata": {},
   "source": [
    "TEST TRAIN SPLIT"
   ]
  },
  {
   "cell_type": "code",
   "execution_count": 16,
   "id": "207fa46e-be35-426a-a594-f1102f9030e9",
   "metadata": {},
   "outputs": [],
   "source": [
    "X = df.drop(columns=['Liver_disease'])\n",
    "y = df['Liver_disease']\n",
    "\n",
    "#20% allocated for test data and 80% for train data\n",
    "X_train, X_test, y_train, y_test = train_test_split(X, y, test_size=0.2, random_state=28)"
   ]
  },
  {
   "cell_type": "code",
   "execution_count": 17,
   "id": "57591529-b392-4597-a6f5-38a049a5ce26",
   "metadata": {},
   "outputs": [],
   "source": [
    "#train data\n",
    "train = pd.concat([X_train, y_train], axis=1)\n",
    "#test data\n",
    "test = pd.concat([X_test, y_test], axis=1)"
   ]
  },
  {
   "cell_type": "markdown",
   "id": "f8976c3d-6fe9-44f5-8a65-5493f526b3c5",
   "metadata": {},
   "source": [
    "APPLYING DOWNSAMPLING"
   ]
  },
  {
   "cell_type": "code",
   "execution_count": 18,
   "id": "5ddc95cd-1df8-4b16-87a9-3e73db2d30ad",
   "metadata": {},
   "outputs": [
    {
     "name": "stdout",
     "output_type": "stream",
     "text": [
      "Size of majority class before downsampling: 15855\n",
      "Size of minority class before downsampling: 6277\n"
     ]
    }
   ],
   "source": [
    "import numpy as np\n",
    "from sklearn.utils import resample\n",
    "# Separate majority and minority classes\n",
    "majority_class = X_train[y_train == 1]\n",
    "minority_class = X_train[y_train == 0]\n",
    "\n",
    "# Print sizes of majority and minority classes before upsampling\n",
    "print(\"Size of majority class before downsampling:\", majority_class.shape[0])\n",
    "print(\"Size of minority class before downsampling:\", minority_class.shape[0])\n",
    "\n",
    "# Now you can use X_upsampled and y_upsampled for training your model"
   ]
  },
  {
   "cell_type": "code",
   "execution_count": 19,
   "id": "ca739ea4-e24c-4e53-a149-66b3d827492d",
   "metadata": {},
   "outputs": [
    {
     "name": "stdout",
     "output_type": "stream",
     "text": [
      "Class counts after downsampling:\n",
      "Class 0: 6277\n",
      "Class 1: 6277\n"
     ]
    }
   ],
   "source": [
    "from sklearn.utils import resample\n",
    "\n",
    "\n",
    "# Downsample majority class\n",
    "majority_downsampled = resample(majority_class,\n",
    "                                replace=False,     # Sample without replacement\n",
    "                                n_samples=minority_class.shape[0],  # Match number in minority class\n",
    "                                random_state=42)  # Reproducible results\n",
    "\n",
    "# Combine minority class with downsampled majority class\n",
    "X_downsampled = np.vstack([minority_class, majority_downsampled])\n",
    "y_downsampled = np.concatenate([np.zeros(minority_class.shape[0]), np.ones(minority_class.shape[0])])\n",
    "\n",
    "# Shuffle the data\n",
    "shuffle_indices = np.arange(len(X_downsampled))\n",
    "np.random.shuffle(shuffle_indices)\n",
    "X_downsampled = X_downsampled[shuffle_indices]\n",
    "y_downsampled = y_downsampled[shuffle_indices]\n",
    "\n",
    "\n",
    "\n",
    "# Print the class counts after downsampling\n",
    "unique_classes, class_counts = np.unique(y_downsampled, return_counts=True)\n",
    "print(\"Class counts after downsampling:\")\n",
    "for cls, count in zip(unique_classes, class_counts):\n",
    "    print(f\"Class {int(cls)}: {count}\")\n",
    "\n",
    "# Now you can use X_downsampled and y_downsampled for training your model\n"
   ]
  },
  {
   "cell_type": "code",
   "execution_count": 20,
   "id": "3d60d547-36a8-40cd-a466-b114d7df88bc",
   "metadata": {},
   "outputs": [
    {
     "name": "stdout",
     "output_type": "stream",
     "text": [
      "Before DOWNSAMPLING:\n",
      "(array([0, 1], dtype=int64), array([ 6277, 15855], dtype=int64))\n",
      "After DOWNSAMPLING:\n",
      "(array([0., 1.]), array([6277, 6277], dtype=int64))\n"
     ]
    }
   ],
   "source": [
    "# Now you can use X_upsampled and y_upsampled for training your model\n",
    "\n",
    "#class distribution before and after DOWNSAMPLING\n",
    "\n",
    "\n",
    "\n",
    "X_resampled_train = pd.DataFrame(X_downsampled)\n",
    "y_resampled_train = pd.DataFrame(y_downsampled)\n",
    "\n",
    "\n",
    "print(\"Before DOWNSAMPLING:\")\n",
    "print(np.unique(y_train, return_counts=True))\n",
    "print(\"After DOWNSAMPLING:\")\n",
    "print(np.unique(y_resampled_train, return_counts=True))"
   ]
  },
  {
   "cell_type": "code",
   "execution_count": 21,
   "id": "7a41923a-b2c9-4a87-86a2-9a88bc7957e5",
   "metadata": {},
   "outputs": [
    {
     "name": "stdout",
     "output_type": "stream",
     "text": [
      "Before Upsampling:\n",
      "Total persons without liver disease: 6277\n",
      "Total persons with liver disease: 15855\n",
      "After Upsampling:\n",
      "Total persons without liver disease: 6277\n",
      "Total persons with liver disease: 6277\n"
     ]
    }
   ],
   "source": [
    "import numpy as np\n",
    "\n",
    "# Class distribution before upsampling\n",
    "print(\"Before Upsampling:\")\n",
    "unique_labels_before, counts_before = np.unique(y_train, return_counts=True)\n",
    "total_persons_no_liver_disease_before = counts_before[0]\n",
    "total_persons_with_liver_disease_before = counts_before[1]\n",
    "print(\"Total persons without liver disease:\", total_persons_no_liver_disease_before)\n",
    "print(\"Total persons with liver disease:\", total_persons_with_liver_disease_before)\n",
    "\n",
    "# Class distribution after upsampling\n",
    "print(\"After Upsampling:\")\n",
    "unique_labels_after, counts_after = np.unique(y_resampled_train, return_counts=True)\n",
    "total_persons_no_liver_disease_after = counts_after[0]\n",
    "total_persons_with_liver_disease_after = counts_after[1]\n",
    "print(\"Total persons without liver disease:\", total_persons_no_liver_disease_after)\n",
    "print(\"Total persons with liver disease:\", total_persons_with_liver_disease_after)\n"
   ]
  },
  {
   "cell_type": "code",
   "execution_count": 22,
   "id": "f2a87fed-1853-4c10-8ff5-fd1c1d136097",
   "metadata": {},
   "outputs": [
    {
     "name": "stdout",
     "output_type": "stream",
     "text": [
      "Shape of X_train: (22132, 10)\n",
      "Shape of X_train: (22132,)\n"
     ]
    }
   ],
   "source": [
    "X_train_shape = X_train.shape\n",
    "print(\"Shape of X_train:\", X_train_shape)\n",
    "y_train_shape = y_train.shape\n",
    "print(\"Shape of X_train:\", y_train_shape)\n",
    "\n"
   ]
  },
  {
   "cell_type": "code",
   "execution_count": null,
   "id": "3a388dd2-0d81-41f3-8a9b-3837fa2ec9d7",
   "metadata": {},
   "outputs": [],
   "source": []
  },
  {
   "cell_type": "code",
   "execution_count": null,
   "id": "37b77e67-bb7c-48e6-becf-420419000bd7",
   "metadata": {},
   "outputs": [],
   "source": []
  },
  {
   "cell_type": "markdown",
   "id": "682d0683-a8f9-46dc-9e84-a69e2d101b60",
   "metadata": {},
   "source": [
    "FITTING MODELS"
   ]
  },
  {
   "cell_type": "markdown",
   "id": "92f86b40-d26b-410a-b1e5-51979147539e",
   "metadata": {},
   "source": [
    "LOGISTIC REGRESSION"
   ]
  },
  {
   "cell_type": "code",
   "execution_count": 23,
   "id": "8b1e1c67-66f2-45e9-8b2f-9b6923f0a4b5",
   "metadata": {},
   "outputs": [
    {
     "name": "stdout",
     "output_type": "stream",
     "text": [
      "Accuracy score of this model:  64.49 %\n",
      "Misclassification rate of this model:  35.51 %\n",
      "\n",
      "Report card of this model: \n",
      "              precision    recall  f1-score   support\n",
      "\n",
      "           0      0.434     0.858     0.576      1556\n",
      "           1      0.910     0.562     0.695      3978\n",
      "\n",
      "    accuracy                          0.645      5534\n",
      "   macro avg      0.672     0.710     0.635      5534\n",
      "weighted avg      0.776     0.645     0.661      5534\n",
      "\n",
      "Confusion Matrix:\n",
      "+-----------------+----------------------+----------------------+\n",
      "|                 |   Predicted Negative |   Predicted Positive |\n",
      "+=================+======================+======================+\n",
      "| Actual Negative |                 1335 |                  221 |\n",
      "+-----------------+----------------------+----------------------+\n",
      "| Actual Positive |                 1744 |                 2234 |\n",
      "+-----------------+----------------------+----------------------+\n"
     ]
    }
   ],
   "source": [
    "lr = LogisticRegression()\n",
    "result = lr.fit(X_resampled_train,y_resampled_train)\n",
    "y_pred = lr.predict(X_test)\n",
    "\n",
    "accuracy = round(metrics.accuracy_score(y_test, y_pred)*100, 2)\n",
    "print(\"Accuracy score of this model: \", accuracy, \"%\") \n",
    "\n",
    "misclassification_rate = round(np.mean(y_test != y_pred)*100, 2)\n",
    "print(\"Misclassification rate of this model: \", misclassification_rate, \"%\")\n",
    "\n",
    "print(\"\\nReport card of this model: \")\n",
    "print(metrics.classification_report(y_test, y_pred, digits=3))\n",
    "\n",
    "conf_matrix = metrics.confusion_matrix(y_test, y_pred)\n",
    "labels = ['Actual Negative', 'Actual Positive']\n",
    "columns = ['Predicted Negative', 'Predicted Positive']\n",
    "confusion_table = tabulate(conf_matrix, headers=columns, showindex=labels, tablefmt='grid')\n",
    "print(\"Confusion Matrix:\")\n",
    "print(confusion_table)"
   ]
  },
  {
   "cell_type": "markdown",
   "id": "5ca08c71-3edd-409f-9b32-05ed4b84c256",
   "metadata": {},
   "source": [
    "SVM"
   ]
  },
  {
   "cell_type": "code",
   "execution_count": 25,
   "id": "6606d03d-acca-497f-a2c1-9a49f47db551",
   "metadata": {},
   "outputs": [
    {
     "data": {
      "image/png": "[encoded data removed]",
      "text/plain": [
       "<Figure size 640x480 with 1 Axes>"
      ]
     },
     "metadata": {},
     "output_type": "display_data"
    }
   ],
   "source": [
    "g = [0.00001, 0.0001, 0.001, 0.01, 0.1]\n",
    "hist = []\n",
    "for val in g:\n",
    "    clf = SVC(gamma=val)\n",
    "    cross_val = cross_val_score(clf, X_resampled_train, y_resampled_train, cv=5)\n",
    "    hist.append(np.mean(cross_val))\n",
    "plt.plot([str(i) for i in g], hist)\n",
    "plt.title('Cross Validations score for SVC')\n",
    "plt.xlabel('gamma')\n",
    "plt.ylabel('Accuracy')\n",
    "plt.grid()\n",
    "plt.show()"
   ]
  },
  {
   "cell_type": "code",
   "execution_count": 26,
   "id": "cb2ae9c0-d1ec-4f5e-b01f-822abc567408",
   "metadata": {},
   "outputs": [
    {
     "name": "stdout",
     "output_type": "stream",
     "text": [
      "Accuracy score of this model:  61.22 %\n",
      "Misclassification rate of this model:  38.78 %\n",
      "\n",
      "Report card of this model: \n",
      "              precision    recall  f1-score   support\n",
      "\n",
      "           0      0.414     0.912     0.569      1556\n",
      "           1      0.935     0.495     0.647      3978\n",
      "\n",
      "    accuracy                          0.612      5534\n",
      "   macro avg      0.674     0.703     0.608      5534\n",
      "weighted avg      0.788     0.612     0.625      5534\n",
      "\n",
      "Confusion Matrix:\n",
      "+-----------------+----------------------+----------------------+\n",
      "|                 |   Predicted Negative |   Predicted Positive |\n",
      "+=================+======================+======================+\n",
      "| Actual Negative |                 1419 |                  137 |\n",
      "+-----------------+----------------------+----------------------+\n",
      "| Actual Positive |                 2009 |                 1969 |\n",
      "+-----------------+----------------------+----------------------+\n"
     ]
    }
   ],
   "source": [
    "svm = SVC(kernel= \"linear\",C=0.025, random_state = 0 , gamma=0.00001)\n",
    "svm.fit(X_resampled_train,y_resampled_train)\n",
    "y_pred = svm.predict(X_test)\n",
    "\n",
    "accuracy = round(metrics.accuracy_score(y_test, y_pred)*100, 2)\n",
    "print(\"Accuracy score of this model: \", accuracy, \"%\") \n",
    "\n",
    "misclassification_rate = round(np.mean(y_test != y_pred)*100, 2)\n",
    "print(\"Misclassification rate of this model: \", misclassification_rate, \"%\")\n",
    "\n",
    "print(\"\\nReport card of this model: \")\n",
    "print(metrics.classification_report(y_test, y_pred, digits=3))\n",
    "\n",
    "conf_matrix = metrics.confusion_matrix(y_test, y_pred)\n",
    "labels = ['Actual Negative', 'Actual Positive']\n",
    "columns = ['Predicted Negative', 'Predicted Positive']\n",
    "confusion_table = tabulate(conf_matrix, headers=columns, showindex=labels, tablefmt='grid')\n",
    "print(\"Confusion Matrix:\")\n",
    "print(confusion_table)"
   ]
  },
  {
   "cell_type": "code",
   "execution_count": null,
   "id": "979a8238-e087-4b17-b25f-0c476587269f",
   "metadata": {},
   "outputs": [],
   "source": []
  },
  {
   "cell_type": "markdown",
   "id": "8d0a25cf-28a6-4805-8bc5-3c2105dc7f84",
   "metadata": {},
   "source": [
    "DECISION TREE"
   ]
  },
  {
   "cell_type": "code",
   "execution_count": 26,
   "id": "53400ed7-f23e-4a25-8bff-2a1b3401f9ed",
   "metadata": {},
   "outputs": [
    {
     "name": "stdout",
     "output_type": "stream",
     "text": [
      "{'max_depth': None, 'max_features': 'auto', 'min_samples_leaf': 1, 'min_samples_split': 4}\n",
      "0.9991238233049483\n"
     ]
    }
   ],
   "source": [
    "dt = DecisionTreeClassifier(random_state=28)\n",
    "param_grid = {\n",
    "    'max_depth': [3, 4, 5, None],\n",
    "    'min_samples_split': [2, 3, 4],\n",
    "    'min_samples_leaf': [1, 2, 3],\n",
    "    'max_features': ['auto', 'sqrt', 'log2']\n",
    "}\n",
    "\n",
    "# Create the GridSearchCV object\n",
    "grid_search = GridSearchCV(estimator=dt, param_grid=param_grid, cv=5, n_jobs=-1)\n",
    "\n",
    "# Fit the GridSearchCV object to the data\n",
    "grid_search.fit(X_resampled_train, y_resampled_train)\n",
    "\n",
    "# Print the best hyperparameters\n",
    "print(grid_search.best_params_)\n",
    "\n",
    "# Print the best score\n",
    "print(grid_search.best_score_)"
   ]
  },
  {
   "cell_type": "code",
   "execution_count": 28,
   "id": "66c0614f-2bf3-4092-bf48-c6d5bda25085",
   "metadata": {},
   "outputs": [
    {
     "name": "stdout",
     "output_type": "stream",
     "text": [
      "Accuracy score of this model:  99.89 %\n",
      "Misclassification rate of this model:  0.11 %\n",
      "\n",
      "Report card of this model: \n",
      "              precision    recall  f1-score   support\n",
      "\n",
      "           0      0.997     0.999     0.998      1556\n",
      "           1      1.000     0.999     0.999      3978\n",
      "\n",
      "    accuracy                          0.999      5534\n",
      "   macro avg      0.998     0.999     0.999      5534\n",
      "weighted avg      0.999     0.999     0.999      5534\n",
      "\n",
      "Confusion Matrix:\n",
      "+-----------------+----------------------+----------------------+\n",
      "|                 |   Predicted Negative |   Predicted Positive |\n",
      "+=================+======================+======================+\n",
      "| Actual Negative |                 1555 |                    1 |\n",
      "+-----------------+----------------------+----------------------+\n",
      "| Actual Positive |                    5 |                 3973 |\n",
      "+-----------------+----------------------+----------------------+\n"
     ]
    }
   ],
   "source": [
    "dtree = DecisionTreeClassifier(max_depth = None,  min_samples_split = 4, min_samples_leaf = 1, max_features = 'auto' #but auto is optimal for some reason its not working for me\n",
    "                               , random_state = 28)\n",
    "dtree.fit(X_resampled_train,y_resampled_train)\n",
    "y_pred = dtree.predict(X_test)\n",
    "\n",
    "accuracy = round(metrics.accuracy_score(y_test, y_pred)*100, 2)\n",
    "print(\"Accuracy score of this model: \", accuracy, \"%\") \n",
    "\n",
    "misclassification_rate = round(np.mean(y_test != y_pred)*100, 2)\n",
    "print(\"Misclassification rate of this model: \", misclassification_rate, \"%\")\n",
    "\n",
    "print(\"\\nReport card of this model: \")\n",
    "print(metrics.classification_report(y_test, y_pred, digits=3))\n",
    "\n",
    "conf_matrix = metrics.confusion_matrix(y_test, y_pred)\n",
    "labels = ['Actual Negative', 'Actual Positive']\n",
    "columns = ['Predicted Negative', 'Predicted Positive']\n",
    "confusion_table = tabulate(conf_matrix, headers=columns, showindex=labels, tablefmt='grid')\n",
    "print(\"Confusion Matrix:\")\n",
    "print(confusion_table)"
   ]
  },
  {
   "cell_type": "code",
   "execution_count": null,
   "id": "7991476b-334c-4e2f-9c5a-219133676e12",
   "metadata": {},
   "outputs": [],
   "source": []
  },
  {
   "cell_type": "markdown",
   "id": "9cde3aeb-240c-4402-bda9-12e06c203997",
   "metadata": {},
   "source": [
    "RANDOM FOREST"
   ]
  },
  {
   "cell_type": "code",
   "execution_count": 27,
   "id": "f8947848-8003-4a6a-a56e-cd2fc4520e5c",
   "metadata": {},
   "outputs": [
    {
     "name": "stdout",
     "output_type": "stream",
     "text": [
      "{'max_depth': None, 'max_features': 'auto', 'min_samples_leaf': 1, 'min_samples_split': 2, 'n_estimators': 50}\n",
      "0.9997610196410693\n"
     ]
    }
   ],
   "source": [
    "np.random.seed(28)\n",
    "\n",
    "rf = RandomForestClassifier(random_state=28)\n",
    "param_grid = {\n",
    "    'n_estimators': [50, 60, 70, 80, 90, 100, 150],\n",
    "    'max_depth': [3, 4, 5, None],\n",
    "    'min_samples_split': [2, 3, 4],\n",
    "    'min_samples_leaf': [1, 2, 3],\n",
    "    'max_features': ['auto', 'sqrt', 'log2']\n",
    "}\n",
    "\n",
    "# Create the GridSearchCV object\n",
    "grid_search = GridSearchCV(estimator=rf, param_grid=param_grid, cv=5, n_jobs=-1)\n",
    "\n",
    "# Fit the GridSearchCV object to the data\n",
    "grid_search.fit(X_resampled_train, y_resampled_train)\n",
    "\n",
    "# Print the best hyperparameters\n",
    "print(grid_search.best_params_)\n",
    "\n",
    "# Print the best score\n",
    "print(grid_search.best_score_)"
   ]
  },
  {
   "cell_type": "code",
   "execution_count": 29,
   "id": "37547e5d-34c9-4753-8131-5c6975d84ea4",
   "metadata": {},
   "outputs": [
    {
     "name": "stdout",
     "output_type": "stream",
     "text": [
      "Accuracy score of this model:  99.98 %\n",
      "Misclassification rate of this model:  0.02 %\n",
      "\n",
      "Report card of this model: \n",
      "              precision    recall  f1-score   support\n",
      "\n",
      "           0      1.000     0.999     1.000      1556\n",
      "           1      1.000     1.000     1.000      3978\n",
      "\n",
      "    accuracy                          1.000      5534\n",
      "   macro avg      1.000     1.000     1.000      5534\n",
      "weighted avg      1.000     1.000     1.000      5534\n",
      "\n",
      "Confusion Matrix:\n",
      "+-----------------+----------------------+----------------------+\n",
      "|                 |   Predicted Negative |   Predicted Positive |\n",
      "+=================+======================+======================+\n",
      "| Actual Negative |                 1555 |                    1 |\n",
      "+-----------------+----------------------+----------------------+\n",
      "| Actual Positive |                    0 |                 3978 |\n",
      "+-----------------+----------------------+----------------------+\n"
     ]
    }
   ],
   "source": [
    "rf = RandomForestClassifier(n_estimators=90, max_depth=None, max_features='auto', min_samples_leaf=1, min_samples_split=2, random_state=28)\n",
    "rf.fit(X_resampled_train,y_resampled_train)\n",
    "y_pred = rf.predict(X_test)\n",
    "\n",
    "accuracy = round(metrics.accuracy_score(y_test, y_pred)*100, 2)\n",
    "print(\"Accuracy score of this model: \", accuracy, \"%\") \n",
    "\n",
    "misclassification_rate = round(np.mean(y_test != y_pred)*100, 2)\n",
    "print(\"Misclassification rate of this model: \", misclassification_rate, \"%\")\n",
    "\n",
    "print(\"\\nReport card of this model: \")\n",
    "print(metrics.classification_report(y_test, y_pred, digits=3))\n",
    "\n",
    "conf_matrix = metrics.confusion_matrix(y_test, y_pred)\n",
    "labels = ['Actual Negative', 'Actual Positive']\n",
    "columns = ['Predicted Negative', 'Predicted Positive']\n",
    "confusion_table = tabulate(conf_matrix, headers=columns, showindex=labels, tablefmt='grid')\n",
    "print(\"Confusion Matrix:\")\n",
    "print(confusion_table)"
   ]
  },
  {
   "cell_type": "code",
   "execution_count": null,
   "id": "3b881633-44c6-4e44-a652-076094e5bb65",
   "metadata": {},
   "outputs": [],
   "source": []
  },
  {
   "cell_type": "markdown",
   "id": "4cb3fcc7-d781-45eb-98c6-11069fecc95f",
   "metadata": {},
   "source": [
    "XGB"
   ]
  },
  {
   "cell_type": "code",
   "execution_count": 30,
   "id": "8dde40b8-aa56-42e9-9153-08e3499207a2",
   "metadata": {},
   "outputs": [
    {
     "name": "stdout",
     "output_type": "stream",
     "text": [
      "Best Hyperparameters: {'max_depth': 5, 'max_features': 'auto', 'min_samples_leaf': 1, 'min_samples_split': 2, 'n_estimators': 90}\n",
      "Best Score: 0.9998644476225307\n"
     ]
    }
   ],
   "source": [
    "np.random.seed(28)\n",
    "\n",
    "xgb_classifier = xgb.XGBClassifier(random_state=28)\n",
    "\n",
    "param_grid = {\n",
    "    'n_estimators': [50, 60, 70, 80, 90, 100,120,150],\n",
    "    'max_depth': [3, 4, 5, None],\n",
    "    'min_samples_split': [2, 3, 4],\n",
    "    'min_samples_leaf': [1, 2, 3],\n",
    "    'max_features': ['auto', 'sqrt', 'log2']\n",
    "}\n",
    "\n",
    "grid_search = GridSearchCV(estimator=xgb_classifier, param_grid=param_grid, cv=5, n_jobs=-1)\n",
    "grid_search.fit(X_train, y_train)\n",
    "\n",
    "print(\"Best Hyperparameters:\", grid_search.best_params_)\n",
    "\n",
    "print(\"Best Score:\", grid_search.best_score_)"
   ]
  },
  {
   "cell_type": "code",
   "execution_count": 33,
   "id": "0004500f-d346-4207-b3d6-bd7cee7f9d73",
   "metadata": {},
   "outputs": [],
   "source": [
    "import pandas as pd\n",
    "\n",
    "# Assuming X_resampled_train is your DataFrame\n",
    "# Assuming you have the columns as ['Col1', 'Col2', ...] which you want to rename\n",
    "\n",
    "# Define the new column names\n",
    "new_column_names = ['Age', 'Total_Bilirubin', 'Direct_Bilirubin', \n",
    "                    'Alkphos_Alkaline_Phosphotase', 'Sgpt_Alamine_Aminotransferase', \n",
    "                    'Sgot_Aspartate_Aminotransferase', 'Total_Protiens', \n",
    "                    'ALB_Albumin', 'A/G_Ratio_Albumin_and_Globulin_Ratio', \n",
    "                    'Gender']\n",
    "\n",
    "# Rename the columns\n",
    "X_resampled_train.columns = new_column_names\n"
   ]
  },
  {
   "cell_type": "code",
   "execution_count": 34,
   "id": "c28e2cb9-d9d5-4555-95d7-f3c4b72abeb3",
   "metadata": {},
   "outputs": [
    {
     "name": "stdout",
     "output_type": "stream",
     "text": [
      "Accuracy score of this model:  99.96 %\n",
      "Misclassification rate of this model:  0.04 %\n",
      "\n",
      "Report card of this model: \n",
      "              precision    recall  f1-score   support\n",
      "\n",
      "           0      0.999     0.999     0.999      1556\n",
      "           1      1.000     1.000     1.000      3978\n",
      "\n",
      "    accuracy                          1.000      5534\n",
      "   macro avg      1.000     1.000     1.000      5534\n",
      "weighted avg      1.000     1.000     1.000      5534\n",
      "\n",
      "Confusion Matrix:\n",
      "+-----------------+----------------------+----------------------+\n",
      "|                 |   Predicted Negative |   Predicted Positive |\n",
      "+=================+======================+======================+\n",
      "| Actual Negative |                 1555 |                    1 |\n",
      "+-----------------+----------------------+----------------------+\n",
      "| Actual Positive |                    1 |                 3977 |\n",
      "+-----------------+----------------------+----------------------+\n"
     ]
    }
   ],
   "source": [
    "xgb_classifier = XGBClassifier(n_estimators=90, max_depth=5, min_samples_split=2, min_samples_leaf=1, max_features=\"auto\", random_state=28)\n",
    "xgb_classifier.fit(X_resampled_train, y_resampled_train)\n",
    "# Train the classifier\n",
    "xgb_classifier.fit(X_resampled_train, y_resampled_train)\n",
    "\n",
    "# Predict labels for test set\n",
    "y_pred_xgb = xgb_classifier.predict(X_test)\n",
    "\n",
    "# Calculate accuracy\n",
    "accuracy = round(metrics.accuracy_score(y_test, y_pred_xgb) * 100, 2)\n",
    "print(\"Accuracy score of this model: \", accuracy, \"%\")\n",
    "\n",
    "# Calculate misclassification rate\n",
    "misclassification_rate = round(np.mean(y_test != y_pred_xgb) * 100, 2)\n",
    "print(\"Misclassification rate of this model: \", misclassification_rate, \"%\")\n",
    "\n",
    "# Print classification report\n",
    "print(\"\\nReport card of this model: \")\n",
    "print(metrics.classification_report(y_test, y_pred_xgb, digits=3))\n",
    "\n",
    "# Calculate confusion matrix\n",
    "conf_matrix = metrics.confusion_matrix(y_test, y_pred_xgb)\n",
    "labels = ['Actual Negative', 'Actual Positive']\n",
    "columns = ['Predicted Negative', 'Predicted Positive']\n",
    "confusion_table = tabulate(conf_matrix, headers=columns, showindex=labels, tablefmt='grid')\n",
    "print(\"Confusion Matrix:\")\n",
    "print(confusion_table)"
   ]
  },
  {
   "cell_type": "code",
   "execution_count": null,
   "id": "c8a57a58-88cf-4714-8ca8-7a7790196897",
   "metadata": {},
   "outputs": [],
   "source": []
  },
  {
   "cell_type": "markdown",
   "id": "5b7cfe9f-847e-4a5d-af98-641434d5422a",
   "metadata": {},
   "source": [
    "KNN"
   ]
  },
  {
   "cell_type": "code",
   "execution_count": 31,
   "id": "f0468862-05f8-495c-b418-e666712a564e",
   "metadata": {},
   "outputs": [
    {
     "data": {
      "image/png": "[encoded data removed]",
      "text/plain": [
       "<Figure size 640x480 with 1 Axes>"
      ]
     },
     "metadata": {},
     "output_type": "display_data"
    }
   ],
   "source": [
    "scores = []\n",
    "\n",
    "k_values = range(1, 11)\n",
    "\n",
    "for k in k_values:\n",
    "    knn = KNeighborsClassifier(n_neighbors=k)\n",
    "    score = cross_val_score(knn, X_resampled_train, y_resampled_train, cv=5)\n",
    "    scores.append(score.mean())\n",
    "\n",
    "plt.plot(k_values, scores, marker='o')\n",
    "plt.xlabel('Number of neighbors (k)')\n",
    "plt.ylabel('Cross-validation score')\n",
    "plt.title('Elbow Plot for KNeighborsClassifier')\n",
    "plt.show()"
   ]
  },
  {
   "cell_type": "code",
   "execution_count": 39,
   "id": "7cebea4b-cd2f-4f50-8df8-4044e4268610",
   "metadata": {},
   "outputs": [
    {
     "name": "stdout",
     "output_type": "stream",
     "text": [
      "Accuracy score of this model:  92.75 %\n",
      "Misclassification rate of this model:  7.25 %\n",
      "\n",
      "Report card of this model: \n",
      "              precision    recall  f1-score   support\n",
      "\n",
      "           0      0.798     0.994     0.885      1556\n",
      "           1      0.997     0.901     0.947      3978\n",
      "\n",
      "    accuracy                          0.928      5534\n",
      "   macro avg      0.898     0.948     0.916      5534\n",
      "weighted avg      0.941     0.928     0.930      5534\n",
      "\n",
      "Confusion Matrix:\n",
      "+-----------------+----------------------+----------------------+\n",
      "|                 |   Predicted Negative |   Predicted Positive |\n",
      "+=================+======================+======================+\n",
      "| Actual Negative |                 1547 |                    9 |\n",
      "+-----------------+----------------------+----------------------+\n",
      "| Actual Positive |                  392 |                 3586 |\n",
      "+-----------------+----------------------+----------------------+\n"
     ]
    }
   ],
   "source": [
    "np.random.seed(28)\n",
    "\n",
    "knn = KNeighborsClassifier(n_neighbors = 4)\n",
    "knn.fit(X_resampled_train,y_resampled_train)\n",
    "y_pred = knn.predict(X_test)\n",
    "\n",
    "accuracy = round(metrics.accuracy_score(y_test, y_pred)*100, 2)\n",
    "print(\"Accuracy score of this model: \", accuracy, \"%\") \n",
    "\n",
    "misclassification_rate = round(np.mean(y_test != y_pred)*100, 2)\n",
    "print(\"Misclassification rate of this model: \", misclassification_rate, \"%\")\n",
    "\n",
    "print(\"\\nReport card of this model: \")\n",
    "print(metrics.classification_report(y_test, y_pred, digits=3))\n",
    "\n",
    "conf_matrix = metrics.confusion_matrix(y_test, y_pred)\n",
    "labels = ['Actual Negative', 'Actual Positive']\n",
    "columns = ['Predicted Negative', 'Predicted Positive']\n",
    "confusion_table = tabulate(conf_matrix, headers=columns, showindex=labels, tablefmt='grid')\n",
    "print(\"Confusion Matrix:\")\n",
    "print(confusion_table)"
   ]
  },
  {
   "cell_type": "code",
   "execution_count": null,
   "id": "5863c7f9-fcb4-4cf9-99fd-6ea4a8232a5e",
   "metadata": {},
   "outputs": [],
   "source": []
  },
  {
   "cell_type": "code",
   "execution_count": null,
   "id": "3a8f8b7a-6b72-4879-8f70-3d6c102e2dce",
   "metadata": {},
   "outputs": [],
   "source": [
    "ADB"
   ]
  },
  {
   "cell_type": "code",
   "execution_count": 40,
   "id": "cc905af5-bb1e-41cd-9885-4e296233a5a0",
   "metadata": {},
   "outputs": [
    {
     "name": "stdout",
     "output_type": "stream",
     "text": [
      "Best Hyperparameters: {'algorithm': 'SAMME.R', 'learning_rate': 1.0, 'n_estimators': 150}\n",
      "Best Score: 0.8559832196502718\n"
     ]
    }
   ],
   "source": [
    "np.random.seed(28)\n",
    "\n",
    "ada_classifier = AdaBoostClassifier(random_state=28)\n",
    "\n",
    "param_grid = {\n",
    "    'n_estimators': [50, 60, 70, 80, 90, 100, 120, 150],\n",
    "    'learning_rate': [0.01, 0.05, 0.1, 0.5, 1.0],\n",
    "        'algorithm': ['SAMME', 'SAMME.R']\n",
    "}\n",
    "\n",
    "grid_search = GridSearchCV(estimator=ada_classifier, param_grid=param_grid, cv=5, n_jobs=-1)\n",
    "\n",
    "grid_search.fit(X_resampled_train, y_resampled_train)\n",
    "\n",
    "print(\"Best Hyperparameters:\", grid_search.best_params_)\n",
    "\n",
    "print(\"Best Score:\", grid_search.best_score_)"
   ]
  },
  {
   "cell_type": "code",
   "execution_count": 44,
   "id": "9af1600f-1450-4b03-a200-614c2bc24587",
   "metadata": {},
   "outputs": [
    {
     "name": "stdout",
     "output_type": "stream",
     "text": [
      "Accuracy score of this model:  83.39 %\n",
      "Misclassification rate of this model:  16.61 %\n",
      "\n",
      "Report card of this model: \n",
      "              precision    recall  f1-score   support\n",
      "\n",
      "           0      0.641     0.928     0.759      1556\n",
      "           1      0.966     0.797     0.873      3978\n",
      "\n",
      "    accuracy                          0.834      5534\n",
      "   macro avg      0.804     0.863     0.816      5534\n",
      "weighted avg      0.875     0.834     0.841      5534\n",
      "\n",
      "Confusion Matrix:\n",
      "+-----------------+----------------------+----------------------+\n",
      "|                 |   Predicted Negative |   Predicted Positive |\n",
      "+=================+======================+======================+\n",
      "| Actual Negative |                 1444 |                  112 |\n",
      "+-----------------+----------------------+----------------------+\n",
      "| Actual Positive |                  807 |                 3171 |\n",
      "+-----------------+----------------------+----------------------+\n"
     ]
    }
   ],
   "source": [
    "ada_classifier = AdaBoostClassifier(n_estimators=150, learning_rate=1.0, algorithm='SAMME.R', random_state=28)\n",
    "\n",
    "ada_classifier.fit(X_resampled_train, y_resampled_train)\n",
    "\n",
    "y_pred_ada = ada_classifier.predict(X_test)\n",
    "\n",
    "accuracy = round(metrics.accuracy_score(y_test, y_pred_ada) * 100, 2)\n",
    "print(\"Accuracy score of this model: \", accuracy, \"%\")\n",
    "\n",
    "misclassification_rate = round(np.mean(y_test != y_pred_ada) * 100, 2)\n",
    "print(\"Misclassification rate of this model: \", misclassification_rate, \"%\")\n",
    "\n",
    "print(\"\\nReport card of this model: \")\n",
    "print(metrics.classification_report(y_test, y_pred_ada, digits=3))\n",
    "\n",
    "conf_matrix = metrics.confusion_matrix(y_test, y_pred_ada)\n",
    "labels = ['Actual Negative', 'Actual Positive']\n",
    "columns = ['Predicted Negative', 'Predicted Positive']\n",
    "confusion_table = tabulate(conf_matrix, headers=columns, showindex=labels, tablefmt='grid')\n",
    "print(\"Confusion Matrix:\")\n",
    "print(confusion_table)"
   ]
  },
  {
   "cell_type": "code",
   "execution_count": null,
   "id": "032b3e91-a33d-4ddd-9d7a-bb3d0e53398a",
   "metadata": {},
   "outputs": [],
   "source": []
  },
  {
   "cell_type": "code",
   "execution_count": null,
   "id": "d0b5535c-c53b-4b47-b7d6-4d31ae353cb8",
   "metadata": {},
   "outputs": [],
   "source": [
    "GB"
   ]
  },
  {
   "cell_type": "code",
   "execution_count": 41,
   "id": "a3091305-4440-45e1-9ef4-3f8e10f63447",
   "metadata": {},
   "outputs": [
    {
     "name": "stdout",
     "output_type": "stream",
     "text": [
      "Best Hyperparameters: {'learning_rate': 0.2, 'max_depth': 5, 'n_estimators': 100}\n",
      "Best Score: 0.9997610196410693\n"
     ]
    }
   ],
   "source": [
    "np.random.seed(28)\n",
    "\n",
    "gb_classifier = GradientBoostingClassifier(random_state=28)\n",
    "\n",
    "param_grid = {\n",
    "    'n_estimators': [50, 80, 100, 120, 150, 200],\n",
    "    'learning_rate': [0.05, 0.1, 0.2],\n",
    "    'max_depth': [3, 4, 5, None],\n",
    "}\n",
    "\n",
    "grid_search = GridSearchCV(estimator=gb_classifier, param_grid=param_grid, cv=5, n_jobs=-1)\n",
    "grid_search.fit(X_resampled_train, y_resampled_train)\n",
    "\n",
    "print(\"Best Hyperparameters:\", grid_search.best_params_)\n",
    "\n",
    "print(\"Best Score:\", grid_search.best_score_)"
   ]
  },
  {
   "cell_type": "code",
   "execution_count": 43,
   "id": "92d1c0cc-dc05-45c3-8ec8-d93837d65cb4",
   "metadata": {},
   "outputs": [
    {
     "name": "stdout",
     "output_type": "stream",
     "text": [
      "Accuracy score of this model:  99.93 %\n",
      "Misclassification rate of this model:  0.07 %\n",
      "\n",
      "Report card of this model: \n",
      "              precision    recall  f1-score   support\n",
      "\n",
      "           0      0.999     0.999     0.999      1556\n",
      "           1      0.999     0.999     0.999      3978\n",
      "\n",
      "    accuracy                          0.999      5534\n",
      "   macro avg      0.999     0.999     0.999      5534\n",
      "weighted avg      0.999     0.999     0.999      5534\n",
      "\n",
      "Confusion Matrix:\n",
      "+-----------------+----------------------+----------------------+\n",
      "|                 |   Predicted Negative |   Predicted Positive |\n",
      "+=================+======================+======================+\n",
      "| Actual Negative |                 1554 |                    2 |\n",
      "+-----------------+----------------------+----------------------+\n",
      "| Actual Positive |                    2 |                 3976 |\n",
      "+-----------------+----------------------+----------------------+\n"
     ]
    }
   ],
   "source": [
    "gb_classifier = GradientBoostingClassifier(n_estimators=100, learning_rate=0.2, max_depth = 5, random_state=28)\n",
    "gb_classifier.fit(X_resampled_train, y_resampled_train)\n",
    "y_pred = gb_classifier.predict(X_test)\n",
    "\n",
    "accuracy = round(metrics.accuracy_score(y_test, y_pred)*100, 2)\n",
    "print(\"Accuracy score of this model: \", accuracy, \"%\") \n",
    "\n",
    "misclassification_rate = round(np.mean(y_test != y_pred)*100, 2)\n",
    "print(\"Misclassification rate of this model: \", misclassification_rate, \"%\")\n",
    "\n",
    "print(\"\\nReport card of this model: \")\n",
    "print(metrics.classification_report(y_test, y_pred, digits=3))\n",
    "\n",
    "conf_matrix = metrics.confusion_matrix(y_test, y_pred)\n",
    "labels = ['Actual Negative', 'Actual Positive']\n",
    "columns = ['Predicted Negative', 'Predicted Positive']\n",
    "confusion_table = tabulate(conf_matrix, headers=columns, showindex=labels, tablefmt='grid')\n",
    "print(\"Confusion Matrix:\")\n",
    "print(confusion_table)"
   ]
  },
  {
   "cell_type": "code",
   "execution_count": null,
   "id": "e707f489-557e-4867-bf51-80f530bfc332",
   "metadata": {},
   "outputs": [],
   "source": []
  },
  {
   "cell_type": "markdown",
   "id": "18b7e6bf-772d-40e6-9622-6859ac96622f",
   "metadata": {},
   "source": [
    "MLP"
   ]
  },
  {
   "cell_type": "code",
   "execution_count": 42,
   "id": "ef30ef55-ae6b-4e5d-901d-22b83ff6075c",
   "metadata": {},
   "outputs": [
    {
     "name": "stdout",
     "output_type": "stream",
     "text": [
      "Accuracy score of this model:  93.89 %\n",
      "Misclassification rate of this model:  6.11 %\n",
      "\n",
      "Report card of this model: \n",
      "              precision    recall  f1-score   support\n",
      "\n",
      "           0      0.844     0.961     0.898      1556\n",
      "           1      0.984     0.930     0.956      3978\n",
      "\n",
      "    accuracy                          0.939      5534\n",
      "   macro avg      0.914     0.946     0.927      5534\n",
      "weighted avg      0.944     0.939     0.940      5534\n",
      "\n",
      "Confusion Matrix:\n",
      "+-----------------+----------------------+----------------------+\n",
      "|                 |   Predicted Negative |   Predicted Positive |\n",
      "+=================+======================+======================+\n",
      "| Actual Negative |                 1495 |                   61 |\n",
      "+-----------------+----------------------+----------------------+\n",
      "| Actual Positive |                  277 |                 3701 |\n",
      "+-----------------+----------------------+----------------------+\n"
     ]
    }
   ],
   "source": [
    "scaler = StandardScaler()\n",
    "X_train_scaled = scaler.fit_transform(X_resampled_train)\n",
    "X_test_scaled = scaler.transform(X_test)\n",
    "\n",
    "mlp = MLPClassifier(hidden_layer_sizes=(100,), activation='relu', solver='adam', max_iter=1000, random_state=42)\n",
    "mlp.fit(X_train_scaled, y_resampled_train)\n",
    "y_pred = mlp.predict(X_test_scaled)\n",
    "\n",
    "accuracy = round(metrics.accuracy_score(y_test, y_pred)*100, 2)\n",
    "print(\"Accuracy score of this model: \", accuracy, \"%\") \n",
    "\n",
    "misclassification_rate = round(np.mean(y_test != y_pred)*100, 2)\n",
    "print(\"Misclassification rate of this model: \", misclassification_rate, \"%\")\n",
    "\n",
    "print(\"\\nReport card of this model: \")\n",
    "print(metrics.classification_report(y_test, y_pred, digits=3))\n",
    "\n",
    "conf_matrix = metrics.confusion_matrix(y_test, y_pred)\n",
    "labels = ['Actual Negative', 'Actual Positive']\n",
    "columns = ['Predicted Negative', 'Predicted Positive']\n",
    "confusion_table = tabulate(conf_matrix, headers=columns, showindex=labels, tablefmt='grid')\n",
    "print(\"Confusion Matrix:\")\n",
    "print(confusion_table)"
   ]
  },
  {
   "cell_type": "code",
   "execution_count": null,
   "id": "eb456645-b61e-42c9-a6a5-dfb20f12a59f",
   "metadata": {},
   "outputs": [],
   "source": []
  },
  {
   "cell_type": "markdown",
   "id": "81c5c2c0-88e6-47f9-a38f-77d04e470bef",
   "metadata": {},
   "source": [
    "ALL THE MODELS COMPARISON UNDER downsampling DATA WITHOUT PCA"
   ]
  },
  {
   "cell_type": "code",
   "execution_count": 45,
   "id": "59dfff25-dda8-4e93-9c61-456fb623d91d",
   "metadata": {},
   "outputs": [
    {
     "data": {
      "image/png": "[encoded data removed]",
      "text/plain": [
       "<Figure size 1000x600 with 1 Axes>"
      ]
     },
     "metadata": {},
     "output_type": "display_data"
    }
   ],
   "source": [
    "import matplotlib.pyplot as plt\n",
    "\n",
    "# Define the models and their corresponding scores\n",
    "models = ['Logistic Regression', 'SVM', 'Decision Tree', 'Random Forest', 'XGBoost', 'KNN', 'Gradient Boosting', 'AdaBoost', 'MLP']\n",
    "scores = [0.6449, 0.6122, 0.9989, 0.9998, 0.9996, 0.9275, 0.8339, 0.9993, 0.9389]\n",
    "\n",
    "# Create a horizontal bar chart\n",
    "plt.figure(figsize=(10, 6))\n",
    "bars = plt.barh(models, scores, color='skyblue')\n",
    "plt.xlabel('Accuracy')\n",
    "plt.title('Model Performance For DOWNSAMPLED Data WITHOUT applying PCA')\n",
    "plt.xlim(0, 1)  # Set the limit for the x-axis from 0 to 1\n",
    "plt.gca().invert_yaxis()  # Invert y-axis to display models from top to bottom\n",
    "\n",
    "# Add the numerical values on top of the bars\n",
    "for bar, score in zip(bars, scores):\n",
    "    plt.text(bar.get_width(), bar.get_y() + bar.get_height()/2, '{:.4f}'.format(score), \n",
    "             va='center', ha='left', fontsize=9)\n",
    "\n",
    "plt.show()\n"
   ]
  },
  {
   "cell_type": "code",
   "execution_count": null,
   "id": "a93a810f-2fa7-4cd8-80f1-eee97a49ec76",
   "metadata": {},
   "outputs": [],
   "source": []
  },
  {
   "cell_type": "code",
   "execution_count": null,
   "id": "bd37c436-4035-47cb-805d-9319148961d2",
   "metadata": {},
   "outputs": [],
   "source": []
  }
 ],
 "metadata": {
  "kernelspec": {
   "display_name": "Python 3 (ipykernel)",
   "language": "python",
   "name": "python3"
  },
  "language_info": {
   "codemirror_mode": {
    "name": "ipython",
    "version": 3
   },
   "file_extension": ".py",
   "mimetype": "text/x-python",
   "name": "python",
   "nbconvert_exporter": "python",
   "pygments_lexer": "ipython3",
   "version": "3.11.7"
  }
 },
 "nbformat": 4,
 "nbformat_minor": 5
}
