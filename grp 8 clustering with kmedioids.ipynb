{
 "cells": [
  {
   "cell_type": "code",
   "execution_count": 1,
   "id": "78732285-d329-4d38-a25d-af6c55aedf37",
   "metadata": {},
   "outputs": [],
   "source": [
    "#import important libraries\n",
    "import pandas as pd\n",
    "import numpy as np\n",
    "import sys\n",
    "import os\n",
    "#ignore warnings\n",
    "import warnings\n",
    "warnings.filterwarnings('ignore')\n",
    "#Common Model Helpers\n",
    "from sklearn.preprocessing import OneHotEncoder, LabelEncoder\n",
    "from sklearn import model_selection\n",
    "from sklearn import metrics\n",
    "\n",
    "#Visualization\n",
    "import matplotlib.pyplot as plt\n",
    "import seaborn as sns\n",
    "\n",
    "\n",
    "from sklearn import preprocessing\n",
    "\n",
    "from sklearn.model_selection import train_test_split\n",
    "from sklearn.model_selection import cross_val_score\n",
    "from sklearn.tree import DecisionTreeClassifier\n",
    "\n",
    "from sklearn.ensemble import RandomForestClassifier\n",
    "\n",
    "\n",
    "from sklearn.model_selection import GridSearchCV\n",
    "from sklearn.tree import DecisionTreeClassifier\n",
    "from sklearn.datasets import load_iris\n",
    "\n",
    "from sklearn.ensemble import RandomForestClassifier\n",
    "from sklearn.model_selection import GridSearchCV\n",
    "import numpy as np\n",
    "\n",
    "import xgboost as xgb\n",
    "from sklearn.model_selection import GridSearchCV\n",
    "import numpy as np\n",
    "from xgboost import XGBClassifier\n",
    "from sklearn import metrics\n",
    "import numpy as np\n",
    "from tabulate import tabulate\n",
    "\n",
    "from sklearn.neighbors import KNeighborsClassifier\n",
    "from sklearn.ensemble import GradientBoostingClassifier\n",
    "from sklearn.model_selection import GridSearchCV\n",
    "\n",
    "from sklearn.ensemble import AdaBoostClassifier\n",
    "from sklearn.model_selection import GridSearchCV\n",
    "from kmodes.kprototypes import KPrototypes\n",
    "from sklearn.metrics import silhouette_score\n"
   ]
  },
  {
   "cell_type": "code",
   "execution_count": 2,
   "id": "355b99df-19ab-4456-bfdc-fd5ba13c6522",
   "metadata": {},
   "outputs": [
    {
     "data": {
      "text/html": [
       "<div>\n",
       "<style scoped>\n",
       "    .dataframe tbody tr th:only-of-type {\n",
       "        vertical-align: middle;\n",
       "    }\n",
       "\n",
       "    .dataframe tbody tr th {\n",
       "        vertical-align: top;\n",
       "    }\n",
       "\n",
       "    .dataframe thead th {\n",
       "        text-align: right;\n",
       "    }\n",
       "</style>\n",
       "<table border=\"1\" class=\"dataframe\">\n",
       "  <thead>\n",
       "    <tr style=\"text-align: right;\">\n",
       "      <th></th>\n",
       "      <th>Age of the patient</th>\n",
       "      <th>Gender of the patient</th>\n",
       "      <th>Total Bilirubin</th>\n",
       "      <th>Direct Bilirubin</th>\n",
       "      <th>Alkphos Alkaline Phosphotase</th>\n",
       "      <th>Sgpt Alamine Aminotransferase</th>\n",
       "      <th>Sgot Aspartate Aminotransferase</th>\n",
       "      <th>Total Protiens</th>\n",
       "      <th>ALB Albumin</th>\n",
       "      <th>A/G Ratio Albumin and Globulin Ratio</th>\n",
       "      <th>Result</th>\n",
       "    </tr>\n",
       "  </thead>\n",
       "  <tbody>\n",
       "    <tr>\n",
       "      <th>0</th>\n",
       "      <td>65.0</td>\n",
       "      <td>Female</td>\n",
       "      <td>0.7</td>\n",
       "      <td>0.1</td>\n",
       "      <td>187.0</td>\n",
       "      <td>16.0</td>\n",
       "      <td>18.0</td>\n",
       "      <td>6.8</td>\n",
       "      <td>3.3</td>\n",
       "      <td>0.90</td>\n",
       "      <td>1</td>\n",
       "    </tr>\n",
       "    <tr>\n",
       "      <th>1</th>\n",
       "      <td>62.0</td>\n",
       "      <td>Male</td>\n",
       "      <td>10.9</td>\n",
       "      <td>5.5</td>\n",
       "      <td>699.0</td>\n",
       "      <td>64.0</td>\n",
       "      <td>100.0</td>\n",
       "      <td>7.5</td>\n",
       "      <td>3.2</td>\n",
       "      <td>0.74</td>\n",
       "      <td>1</td>\n",
       "    </tr>\n",
       "    <tr>\n",
       "      <th>2</th>\n",
       "      <td>62.0</td>\n",
       "      <td>Male</td>\n",
       "      <td>7.3</td>\n",
       "      <td>4.1</td>\n",
       "      <td>490.0</td>\n",
       "      <td>60.0</td>\n",
       "      <td>68.0</td>\n",
       "      <td>7.0</td>\n",
       "      <td>3.3</td>\n",
       "      <td>0.89</td>\n",
       "      <td>1</td>\n",
       "    </tr>\n",
       "    <tr>\n",
       "      <th>3</th>\n",
       "      <td>58.0</td>\n",
       "      <td>Male</td>\n",
       "      <td>1.0</td>\n",
       "      <td>0.4</td>\n",
       "      <td>182.0</td>\n",
       "      <td>14.0</td>\n",
       "      <td>20.0</td>\n",
       "      <td>6.8</td>\n",
       "      <td>3.4</td>\n",
       "      <td>1.00</td>\n",
       "      <td>1</td>\n",
       "    </tr>\n",
       "    <tr>\n",
       "      <th>4</th>\n",
       "      <td>72.0</td>\n",
       "      <td>Male</td>\n",
       "      <td>3.9</td>\n",
       "      <td>2.0</td>\n",
       "      <td>195.0</td>\n",
       "      <td>27.0</td>\n",
       "      <td>59.0</td>\n",
       "      <td>7.3</td>\n",
       "      <td>2.4</td>\n",
       "      <td>0.40</td>\n",
       "      <td>1</td>\n",
       "    </tr>\n",
       "  </tbody>\n",
       "</table>\n",
       "</div>"
      ],
      "text/plain": [
       "   Age of the patient Gender of the patient  Total Bilirubin  \\\n",
       "0                65.0                Female              0.7   \n",
       "1                62.0                  Male             10.9   \n",
       "2                62.0                  Male              7.3   \n",
       "3                58.0                  Male              1.0   \n",
       "4                72.0                  Male              3.9   \n",
       "\n",
       "   Direct Bilirubin   Alkphos Alkaline Phosphotase  \\\n",
       "0               0.1                          187.0   \n",
       "1               5.5                          699.0   \n",
       "2               4.1                          490.0   \n",
       "3               0.4                          182.0   \n",
       "4               2.0                          195.0   \n",
       "\n",
       "    Sgpt Alamine Aminotransferase  Sgot Aspartate Aminotransferase  \\\n",
       "0                            16.0                             18.0   \n",
       "1                            64.0                            100.0   \n",
       "2                            60.0                             68.0   \n",
       "3                            14.0                             20.0   \n",
       "4                            27.0                             59.0   \n",
       "\n",
       "   Total Protiens   ALB Albumin  A/G Ratio Albumin and Globulin Ratio  Result  \n",
       "0             6.8           3.3                                  0.90       1  \n",
       "1             7.5           3.2                                  0.74       1  \n",
       "2             7.0           3.3                                  0.89       1  \n",
       "3             6.8           3.4                                  1.00       1  \n",
       "4             7.3           2.4                                  0.40       1  "
      ]
     },
     "execution_count": 2,
     "metadata": {},
     "output_type": "execute_result"
    }
   ],
   "source": [
    "#import  traain dataset\n",
    "df = pd.read_csv(\"train.csv\", encoding='ISO-8859-1')\n",
    "\n",
    "df.head()"
   ]
  },
  {
   "cell_type": "code",
   "execution_count": 3,
   "id": "7d1d035d-0dcf-46fa-b15c-d02cd4ef4995",
   "metadata": {},
   "outputs": [
    {
     "name": "stdout",
     "output_type": "stream",
     "text": [
      "<class 'pandas.core.frame.DataFrame'>\n",
      "RangeIndex: 30691 entries, 0 to 30690\n",
      "Data columns (total 11 columns):\n",
      " #   Column                                Non-Null Count  Dtype  \n",
      "---  ------                                --------------  -----  \n",
      " 0   Age of the patient                    30689 non-null  float64\n",
      " 1   Gender of the patient                 29789 non-null  object \n",
      " 2   Total Bilirubin                       30043 non-null  float64\n",
      " 3   Direct Bilirubin                      30130 non-null  float64\n",
      " 4    Alkphos Alkaline Phosphotase         29895 non-null  float64\n",
      " 5    Sgpt Alamine Aminotransferase        30153 non-null  float64\n",
      " 6   Sgot Aspartate Aminotransferase       30229 non-null  float64\n",
      " 7   Total Protiens                        30228 non-null  float64\n",
      " 8    ALB Albumin                          30197 non-null  float64\n",
      " 9   A/G Ratio Albumin and Globulin Ratio  30132 non-null  float64\n",
      " 10  Result                                30691 non-null  int64  \n",
      "dtypes: float64(9), int64(1), object(1)\n",
      "memory usage: 2.6+ MB\n"
     ]
    }
   ],
   "source": [
    "\n",
    "df.info()"
   ]
  },
  {
   "cell_type": "code",
   "execution_count": 4,
   "id": "43f3a5f5-6a5d-4f20-a305-a98f0371b0c9",
   "metadata": {},
   "outputs": [
    {
     "data": {
      "text/plain": [
       "(30691, 11)"
      ]
     },
     "execution_count": 4,
     "metadata": {},
     "output_type": "execute_result"
    }
   ],
   "source": [
    "df.shape\n"
   ]
  },
  {
   "cell_type": "code",
   "execution_count": 5,
   "id": "f46005eb-f694-4d80-9f80-f19ca44711ce",
   "metadata": {},
   "outputs": [
    {
     "data": {
      "text/plain": [
       "Index(['Age of the patient', 'Gender of the patient', 'Total Bilirubin',\n",
       "       'Direct Bilirubin', ' Alkphos Alkaline Phosphotase',\n",
       "       ' Sgpt Alamine Aminotransferase', 'Sgot Aspartate Aminotransferase',\n",
       "       'Total Protiens', ' ALB Albumin',\n",
       "       'A/G Ratio Albumin and Globulin Ratio', 'Result'],\n",
       "      dtype='object')"
      ]
     },
     "execution_count": 5,
     "metadata": {},
     "output_type": "execute_result"
    }
   ],
   "source": [
    "df.columns\n"
   ]
  },
  {
   "cell_type": "code",
   "execution_count": 6,
   "id": "10b7a303-8028-4f21-a438-0ff6154efbe5",
   "metadata": {},
   "outputs": [
    {
     "data": {
      "text/html": [
       "<div>\n",
       "<style scoped>\n",
       "    .dataframe tbody tr th:only-of-type {\n",
       "        vertical-align: middle;\n",
       "    }\n",
       "\n",
       "    .dataframe tbody tr th {\n",
       "        vertical-align: top;\n",
       "    }\n",
       "\n",
       "    .dataframe thead th {\n",
       "        text-align: right;\n",
       "    }\n",
       "</style>\n",
       "<table border=\"1\" class=\"dataframe\">\n",
       "  <thead>\n",
       "    <tr style=\"text-align: right;\">\n",
       "      <th></th>\n",
       "      <th>Age of the patient</th>\n",
       "      <th>Total Bilirubin</th>\n",
       "      <th>Direct Bilirubin</th>\n",
       "      <th>Alkphos Alkaline Phosphotase</th>\n",
       "      <th>Sgpt Alamine Aminotransferase</th>\n",
       "      <th>Sgot Aspartate Aminotransferase</th>\n",
       "      <th>Total Protiens</th>\n",
       "      <th>ALB Albumin</th>\n",
       "      <th>A/G Ratio Albumin and Globulin Ratio</th>\n",
       "      <th>Result</th>\n",
       "    </tr>\n",
       "  </thead>\n",
       "  <tbody>\n",
       "    <tr>\n",
       "      <th>count</th>\n",
       "      <td>30689.000000</td>\n",
       "      <td>30043.000000</td>\n",
       "      <td>30130.000000</td>\n",
       "      <td>29895.000000</td>\n",
       "      <td>30153.000000</td>\n",
       "      <td>30229.000000</td>\n",
       "      <td>30228.000000</td>\n",
       "      <td>30197.000000</td>\n",
       "      <td>30132.000000</td>\n",
       "      <td>30691.000000</td>\n",
       "    </tr>\n",
       "    <tr>\n",
       "      <th>mean</th>\n",
       "      <td>44.107205</td>\n",
       "      <td>3.370319</td>\n",
       "      <td>1.528042</td>\n",
       "      <td>289.075364</td>\n",
       "      <td>81.488641</td>\n",
       "      <td>111.469979</td>\n",
       "      <td>6.480237</td>\n",
       "      <td>3.130142</td>\n",
       "      <td>0.943467</td>\n",
       "      <td>1.285882</td>\n",
       "    </tr>\n",
       "    <tr>\n",
       "      <th>std</th>\n",
       "      <td>15.981043</td>\n",
       "      <td>6.255522</td>\n",
       "      <td>2.869592</td>\n",
       "      <td>238.537589</td>\n",
       "      <td>182.158850</td>\n",
       "      <td>280.851078</td>\n",
       "      <td>1.081980</td>\n",
       "      <td>0.792281</td>\n",
       "      <td>0.323164</td>\n",
       "      <td>0.451841</td>\n",
       "    </tr>\n",
       "    <tr>\n",
       "      <th>min</th>\n",
       "      <td>4.000000</td>\n",
       "      <td>0.400000</td>\n",
       "      <td>0.100000</td>\n",
       "      <td>63.000000</td>\n",
       "      <td>10.000000</td>\n",
       "      <td>10.000000</td>\n",
       "      <td>2.700000</td>\n",
       "      <td>0.900000</td>\n",
       "      <td>0.300000</td>\n",
       "      <td>1.000000</td>\n",
       "    </tr>\n",
       "    <tr>\n",
       "      <th>25%</th>\n",
       "      <td>32.000000</td>\n",
       "      <td>0.800000</td>\n",
       "      <td>0.200000</td>\n",
       "      <td>175.000000</td>\n",
       "      <td>23.000000</td>\n",
       "      <td>26.000000</td>\n",
       "      <td>5.800000</td>\n",
       "      <td>2.600000</td>\n",
       "      <td>0.700000</td>\n",
       "      <td>1.000000</td>\n",
       "    </tr>\n",
       "    <tr>\n",
       "      <th>50%</th>\n",
       "      <td>45.000000</td>\n",
       "      <td>1.000000</td>\n",
       "      <td>0.300000</td>\n",
       "      <td>209.000000</td>\n",
       "      <td>35.000000</td>\n",
       "      <td>42.000000</td>\n",
       "      <td>6.600000</td>\n",
       "      <td>3.100000</td>\n",
       "      <td>0.900000</td>\n",
       "      <td>1.000000</td>\n",
       "    </tr>\n",
       "    <tr>\n",
       "      <th>75%</th>\n",
       "      <td>55.000000</td>\n",
       "      <td>2.700000</td>\n",
       "      <td>1.300000</td>\n",
       "      <td>298.000000</td>\n",
       "      <td>62.000000</td>\n",
       "      <td>88.000000</td>\n",
       "      <td>7.200000</td>\n",
       "      <td>3.800000</td>\n",
       "      <td>1.100000</td>\n",
       "      <td>2.000000</td>\n",
       "    </tr>\n",
       "    <tr>\n",
       "      <th>max</th>\n",
       "      <td>90.000000</td>\n",
       "      <td>75.000000</td>\n",
       "      <td>19.700000</td>\n",
       "      <td>2110.000000</td>\n",
       "      <td>2000.000000</td>\n",
       "      <td>4929.000000</td>\n",
       "      <td>9.600000</td>\n",
       "      <td>5.500000</td>\n",
       "      <td>2.800000</td>\n",
       "      <td>2.000000</td>\n",
       "    </tr>\n",
       "  </tbody>\n",
       "</table>\n",
       "</div>"
      ],
      "text/plain": [
       "       Age of the patient  Total Bilirubin  Direct Bilirubin  \\\n",
       "count        30689.000000     30043.000000      30130.000000   \n",
       "mean            44.107205         3.370319          1.528042   \n",
       "std             15.981043         6.255522          2.869592   \n",
       "min              4.000000         0.400000          0.100000   \n",
       "25%             32.000000         0.800000          0.200000   \n",
       "50%             45.000000         1.000000          0.300000   \n",
       "75%             55.000000         2.700000          1.300000   \n",
       "max             90.000000        75.000000         19.700000   \n",
       "\n",
       "        Alkphos Alkaline Phosphotase   Sgpt Alamine Aminotransferase  \\\n",
       "count                   29895.000000                    30153.000000   \n",
       "mean                      289.075364                       81.488641   \n",
       "std                       238.537589                      182.158850   \n",
       "min                        63.000000                       10.000000   \n",
       "25%                       175.000000                       23.000000   \n",
       "50%                       209.000000                       35.000000   \n",
       "75%                       298.000000                       62.000000   \n",
       "max                      2110.000000                     2000.000000   \n",
       "\n",
       "       Sgot Aspartate Aminotransferase  Total Protiens   ALB Albumin  \\\n",
       "count                     30229.000000    30228.000000  30197.000000   \n",
       "mean                        111.469979        6.480237      3.130142   \n",
       "std                         280.851078        1.081980      0.792281   \n",
       "min                          10.000000        2.700000      0.900000   \n",
       "25%                          26.000000        5.800000      2.600000   \n",
       "50%                          42.000000        6.600000      3.100000   \n",
       "75%                          88.000000        7.200000      3.800000   \n",
       "max                        4929.000000        9.600000      5.500000   \n",
       "\n",
       "       A/G Ratio Albumin and Globulin Ratio        Result  \n",
       "count                          30132.000000  30691.000000  \n",
       "mean                               0.943467      1.285882  \n",
       "std                                0.323164      0.451841  \n",
       "min                                0.300000      1.000000  \n",
       "25%                                0.700000      1.000000  \n",
       "50%                                0.900000      1.000000  \n",
       "75%                                1.100000      2.000000  \n",
       "max                                2.800000      2.000000  "
      ]
     },
     "execution_count": 6,
     "metadata": {},
     "output_type": "execute_result"
    }
   ],
   "source": [
    "df.describe()"
   ]
  },
  {
   "cell_type": "code",
   "execution_count": 7,
   "id": "89c0aad0-68ca-403c-b7be-69a84546982a",
   "metadata": {},
   "outputs": [
    {
     "name": "stdout",
     "output_type": "stream",
     "text": [
      "Index(['Age of the patient', 'Gender of the patient', 'Total Bilirubin',\n",
      "       'Direct Bilirubin', ' Alkphos Alkaline Phosphotase',\n",
      "       ' Sgpt Alamine Aminotransferase', 'Sgot Aspartate Aminotransferase',\n",
      "       'Total Protiens', ' ALB Albumin',\n",
      "       'A/G Ratio Albumin and Globulin Ratio', 'Result'],\n",
      "      dtype='object')\n",
      "**************************************************\n",
      "Age of the patient\n",
      "count    30689.000000\n",
      "mean        44.107205\n",
      "std         15.981043\n",
      "min          4.000000\n",
      "25%         32.000000\n",
      "50%         45.000000\n",
      "75%         55.000000\n",
      "max         90.000000\n",
      "Name: Age of the patient, dtype: float64\n",
      "**************************************************\n",
      "Gender of the patient\n",
      "count     29789\n",
      "unique        2\n",
      "top        Male\n",
      "freq      21986\n",
      "Name: Gender of the patient, dtype: object\n",
      "**************************************************\n",
      "Total Bilirubin\n",
      "count    30043.000000\n",
      "mean         3.370319\n",
      "std          6.255522\n",
      "min          0.400000\n",
      "25%          0.800000\n",
      "50%          1.000000\n",
      "75%          2.700000\n",
      "max         75.000000\n",
      "Name: Total Bilirubin, dtype: float64\n",
      "**************************************************\n",
      "Direct Bilirubin\n",
      "count    30130.000000\n",
      "mean         1.528042\n",
      "std          2.869592\n",
      "min          0.100000\n",
      "25%          0.200000\n",
      "50%          0.300000\n",
      "75%          1.300000\n",
      "max         19.700000\n",
      "Name: Direct Bilirubin, dtype: float64\n",
      "**************************************************\n",
      " Alkphos Alkaline Phosphotase\n",
      "count    29895.000000\n",
      "mean       289.075364\n",
      "std        238.537589\n",
      "min         63.000000\n",
      "25%        175.000000\n",
      "50%        209.000000\n",
      "75%        298.000000\n",
      "max       2110.000000\n",
      "Name:  Alkphos Alkaline Phosphotase, dtype: float64\n",
      "**************************************************\n",
      " Sgpt Alamine Aminotransferase\n",
      "count    30153.000000\n",
      "mean        81.488641\n",
      "std        182.158850\n",
      "min         10.000000\n",
      "25%         23.000000\n",
      "50%         35.000000\n",
      "75%         62.000000\n",
      "max       2000.000000\n",
      "Name:  Sgpt Alamine Aminotransferase, dtype: float64\n",
      "**************************************************\n",
      "Sgot Aspartate Aminotransferase\n",
      "count    30229.000000\n",
      "mean       111.469979\n",
      "std        280.851078\n",
      "min         10.000000\n",
      "25%         26.000000\n",
      "50%         42.000000\n",
      "75%         88.000000\n",
      "max       4929.000000\n",
      "Name: Sgot Aspartate Aminotransferase, dtype: float64\n",
      "**************************************************\n",
      "Total Protiens\n",
      "count    30228.000000\n",
      "mean         6.480237\n",
      "std          1.081980\n",
      "min          2.700000\n",
      "25%          5.800000\n",
      "50%          6.600000\n",
      "75%          7.200000\n",
      "max          9.600000\n",
      "Name: Total Protiens, dtype: float64\n",
      "**************************************************\n",
      " ALB Albumin\n",
      "count    30197.000000\n",
      "mean         3.130142\n",
      "std          0.792281\n",
      "min          0.900000\n",
      "25%          2.600000\n",
      "50%          3.100000\n",
      "75%          3.800000\n",
      "max          5.500000\n",
      "Name:  ALB Albumin, dtype: float64\n",
      "**************************************************\n",
      "A/G Ratio Albumin and Globulin Ratio\n",
      "count    30132.000000\n",
      "mean         0.943467\n",
      "std          0.323164\n",
      "min          0.300000\n",
      "25%          0.700000\n",
      "50%          0.900000\n",
      "75%          1.100000\n",
      "max          2.800000\n",
      "Name: A/G Ratio Albumin and Globulin Ratio, dtype: float64\n",
      "**************************************************\n",
      "Result\n",
      "count    30691.000000\n",
      "mean         1.285882\n",
      "std          0.451841\n",
      "min          1.000000\n",
      "25%          1.000000\n",
      "50%          1.000000\n",
      "75%          2.000000\n",
      "max          2.000000\n",
      "Name: Result, dtype: float64\n",
      "**************************************************\n"
     ]
    }
   ],
   "source": [
    "print(df.columns)\n",
    "print('*'*50)\n",
    "for i in df.columns :\n",
    "    print(i)\n",
    "    print(df[i].describe())\n",
    "    print('*'*50)"
   ]
  },
  {
   "cell_type": "code",
   "execution_count": 8,
   "id": "9eeed8ae-8684-4e77-9746-551716397736",
   "metadata": {},
   "outputs": [
    {
     "data": {
      "text/plain": [
       "Age of the patient                      0\n",
       "Gender of the patient                   0\n",
       "Total Bilirubin                         0\n",
       "Direct Bilirubin                        0\n",
       " Alkphos Alkaline Phosphotase           0\n",
       " Sgpt Alamine Aminotransferase          0\n",
       "Sgot Aspartate Aminotransferase         0\n",
       "Total Protiens                          0\n",
       " ALB Albumin                            0\n",
       "A/G Ratio Albumin and Globulin Ratio    0\n",
       "Result                                  0\n",
       "dtype: int64"
      ]
     },
     "execution_count": 8,
     "metadata": {},
     "output_type": "execute_result"
    }
   ],
   "source": [
    "#finding count of missing values in each column\n",
    "df.isna().sum()\n",
    "### cHECKING WHETHER THERE IS STILL ISSING VALUES \n",
    "#dropping null values - does not affect data\n",
    "df = df.dropna()\n",
    "df.isna().sum()"
   ]
  },
  {
   "cell_type": "code",
   "execution_count": 9,
   "id": "257a7b56-5e79-4c78-90c8-fc92be10071a",
   "metadata": {},
   "outputs": [],
   "source": [
    "\n",
    "# Assuming 'df' is your DataFrame\n",
    "df.rename(columns={'Result': 'Liver_disease'}, inplace=True)\n"
   ]
  },
  {
   "cell_type": "code",
   "execution_count": 10,
   "id": "07fcaa56-720b-41e9-889e-7dbf2a4235ed",
   "metadata": {},
   "outputs": [
    {
     "name": "stdout",
     "output_type": "stream",
     "text": [
      "[1 2]\n",
      "[1 0]\n",
      "[1 0]\n"
     ]
    }
   ],
   "source": [
    "#unique values in Liver_disease variable\n",
    "values_in_Liver_disease = df[\"Liver_disease\"].unique()\n",
    "print(values_in_Liver_disease)\n",
    "#recoding Liver_disease variable\n",
    "df['Liver_disease'] = df['Liver_disease'].replace(2,0)\n",
    "\n",
    "print(df[\"Liver_disease\"].unique())\n",
    "#recoding Liver_disease variable\n",
    "df['Liver_disease'] = df['Liver_disease'].replace(2,0)\n",
    "\n",
    "print(df[\"Liver_disease\"].unique())"
   ]
  },
  {
   "cell_type": "code",
   "execution_count": 11,
   "id": "15fbab28-ba75-459b-b93d-e641318a04d7",
   "metadata": {},
   "outputs": [],
   "source": [
    "### liver decease\n",
    "# 1 = 1 Liver Patient, \n",
    "# 0 =0 Mon Liver Patient"
   ]
  },
  {
   "cell_type": "code",
   "execution_count": 12,
   "id": "e8aa25a2-435d-4e87-9502-602766365089",
   "metadata": {},
   "outputs": [
    {
     "name": "stdout",
     "output_type": "stream",
     "text": [
      "Total persons with liver disease: 19478 and its percentage is 71.72%\n",
      "Total persons without liver disease :  7680 and its percentage is 28.28 %\n"
     ]
    }
   ],
   "source": [
    "print('Total persons with liver disease: {} and its percentage is {:.2f}%'.format(df['Liver_disease'].value_counts()[1], (df['Liver_disease'].value_counts()[1] / df['Liver_disease'].value_counts().sum()) * 100))\n",
    "print ('Total persons without liver disease :  {} and its percentage is {} %'.format(df.Liver_disease.value_counts()[0], round(df.Liver_disease.value_counts()[0]/df.Liver_disease.value_counts().sum()*100,2)) )"
   ]
  },
  {
   "cell_type": "code",
   "execution_count": 13,
   "id": "376f3bd0-5b48-483e-b9fb-055fe2cc21aa",
   "metadata": {},
   "outputs": [
    {
     "name": "stdout",
     "output_type": "stream",
     "text": [
      "False\n"
     ]
    }
   ],
   "source": [
    "#identifying if there are duplicates\n",
    "duplicates = df.duplicated().all()\n",
    "print(duplicates)"
   ]
  },
  {
   "cell_type": "code",
   "execution_count": 14,
   "id": "57ca47a6-de27-4708-83d5-8fc397619c73",
   "metadata": {},
   "outputs": [],
   "source": [
    "#encoding Gender column into categorical data \n",
    "LabelEncoder = LabelEncoder()\n",
    "\n",
    "df['is_male'] = LabelEncoder.fit_transform(df['Gender of the patient'])\n",
    "df = df.drop(columns='Gender of the patient')\n",
    "df =  df.rename(columns={'is_male':'Gender of the patient'}, inplace=False)\n",
    "\n",
    "#new Gender of the patient column where male=1 and female=0\n"
   ]
  },
  {
   "cell_type": "code",
   "execution_count": 15,
   "id": "569bd1dd-8f68-4c8c-879e-f6bb17aebc12",
   "metadata": {},
   "outputs": [],
   "source": [
    "df.columns\n",
    "\n",
    "\n",
    "# Assuming 'df' is your DataFrame\n",
    "new_column_names = ['Age', 'Total_Bilirubin', 'Direct_Bilirubin', 'Alkaline_Phosphotase',\n",
    "                    'Alanine_Aminotransferase', 'Aspartate_Aminotransferase',\n",
    "                    'Total_Protiens', 'Albumin', 'Albumin_and_Globulin_Ratio',\n",
    "                    'Liver_disease', 'Gender']\n",
    "\n",
    "df.columns = new_column_names\n"
   ]
  },
  {
   "cell_type": "code",
   "execution_count": 16,
   "id": "4af5d909-58df-4032-868b-6d4f997dbcea",
   "metadata": {},
   "outputs": [
    {
     "data": {
      "text/plain": [
       "Index(['Age', 'Total_Bilirubin', 'Direct_Bilirubin', 'Alkaline_Phosphotase',\n",
       "       'Alanine_Aminotransferase', 'Aspartate_Aminotransferase',\n",
       "       'Total_Protiens', 'Albumin', 'Albumin_and_Globulin_Ratio',\n",
       "       'Liver_disease', 'Gender'],\n",
       "      dtype='object')"
      ]
     },
     "execution_count": 16,
     "metadata": {},
     "output_type": "execute_result"
    }
   ],
   "source": [
    "df.columns"
   ]
  },
  {
   "cell_type": "code",
   "execution_count": 17,
   "id": "af738746-9896-4a99-9e9d-e09c2e9490e0",
   "metadata": {},
   "outputs": [],
   "source": [
    "\n",
    "X=df.drop(columns=['Liver_disease'])\n",
    "y=df['Liver_disease']\n",
    "\n",
    "#20% allocated for test data and 80% for train data\n",
    "X_train, X_test, y_train, y_test = train_test_split(X, y, test_size=0.2, random_state=28)"
   ]
  },
  {
   "cell_type": "code",
   "execution_count": 18,
   "id": "fdc9d309-8ba9-40f8-8406-c116b661580d",
   "metadata": {},
   "outputs": [
    {
     "name": "stdout",
     "output_type": "stream",
     "text": [
      "Dimensionality of X_train: (21726, 10)\n",
      "Dimensionality of y_train: (21726,)\n",
      "Dimensionality of X_test: (5432, 10)\n",
      "Dimensionality of y_test: (5432,)\n"
     ]
    }
   ],
   "source": [
    "# Check the dimensionality of X_train\n",
    "print(\"Dimensionality of X_train:\", X_train.shape)\n",
    "\n",
    "# Check the dimensionality of y_train\n",
    "print(\"Dimensionality of y_train:\", y_train.shape)\n",
    "\n",
    "# Check the dimensionality of X_train\n",
    "print(\"Dimensionality of X_test:\", X_test.shape)\n",
    "\n",
    "# Check the dimensionality of y_train\n",
    "print(\"Dimensionality of y_test:\", y_test.shape)\n"
   ]
  },
  {
   "cell_type": "code",
   "execution_count": 19,
   "id": "b1d38c67-40fb-4648-9543-14cfa5106ab0",
   "metadata": {},
   "outputs": [],
   "source": [
    "train = pd.concat([X_train, y_train], axis=1)\n",
    "test = pd.concat([X_test, y_test], axis=1)"
   ]
  },
  {
   "cell_type": "code",
   "execution_count": 20,
   "id": "ede3b28b-338b-49b7-b3b5-7fdc6d8d0697",
   "metadata": {},
   "outputs": [],
   "source": [
    "df_backup=df\n",
    "train_backup=train\n",
    "test_backup=test"
   ]
  },
  {
   "cell_type": "code",
   "execution_count": 23,
   "id": "9fba8d55-41a2-43c6-847a-c86bff4f12ab",
   "metadata": {},
   "outputs": [
    {
     "name": "stdout",
     "output_type": "stream",
     "text": [
      "Completed for k=2\n",
      "Completed for k=3\n",
      "Completed for k=4\n",
      "Completed for k=5\n",
      "Completed for k=6\n",
      "Completed for k=7\n",
      "Completed for k=8\n",
      "Completed for k=9\n",
      "Completed for k=10\n"
     ]
    },
    {
     "data": {
      "image/png": "[encoded data removed]",
      "text/plain": [
       "<Figure size 1200x600 with 2 Axes>"
      ]
     },
     "metadata": {},
     "output_type": "display_data"
    }
   ],
   "source": [
    "import numpy as np\n",
    "import pandas as pd\n",
    "from sklearn_extra.cluster import KMedoids\n",
    "from sklearn.metrics import silhouette_score\n",
    "from sklearn.preprocessing import OneHotEncoder, StandardScaler\n",
    "from sklearn.compose import ColumnTransformer\n",
    "from sklearn.pipeline import Pipeline\n",
    "from sklearn.metrics import silhouette_score\n",
    "import matplotlib.pyplot as plt\n",
    "from sklearn.model_selection import train_test_split\n",
    "\n",
    "# Assuming X and y are your features and target variable respectively\n",
    "# Split the dataset into train and test sets\n",
    "X_train, X_test, y_train, y_test = train_test_split(X, y, test_size=0.2, random_state=28)\n",
    "\n",
    "# Identify the indices of categorical features\n",
    "categorical_indices = [9]  # Assuming the 9th column is your categorical feature\n",
    "\n",
    "# Create separate transformers for numerical and categorical features\n",
    "numeric_transformer = Pipeline(steps=[\n",
    "    ('scaler', StandardScaler())\n",
    "])\n",
    "\n",
    "categorical_transformer = Pipeline(steps=[\n",
    "    ('onehot', OneHotEncoder(handle_unknown='ignore'))\n",
    "])\n",
    "\n",
    "# Apply transformations to numerical and categorical features\n",
    "preprocessor = ColumnTransformer(\n",
    "    transformers=[\n",
    "        ('num', numeric_transformer, ~X_train.columns.isin(categorical_indices)),\n",
    "        ('cat', categorical_transformer, categorical_indices)\n",
    "    ])\n",
    "\n",
    "# Fit the preprocessor to the training data\n",
    "preprocessor.fit(X_train)\n",
    "\n",
    "# Transform the training data\n",
    "X_train_processed = preprocessor.transform(X_train)\n",
    "\n",
    "# Initialize empty lists to store evaluation metrics\n",
    "wcss = []\n",
    "silhouette_scores = []\n",
    "\n",
    "# Iterate over a range of cluster numbers\n",
    "for k in range(2, 11):\n",
    "    kmedoids = KMedoids(n_clusters=k, random_state=28)\n",
    "    clusters = kmedoids.fit_predict(X_train_processed)\n",
    "\n",
    "    # Calculate within-cluster sum of squares (WCSS)\n",
    "    wcss.append(kmedoids.inertia_)\n",
    "\n",
    "    # Calculate silhouette score\n",
    "    silhouette_score_val = silhouette_score(X_train_processed, clusters)\n",
    "    silhouette_scores.append(silhouette_score_val)\n",
    "\n",
    "    print(f\"Completed for k={k}\")\n",
    "\n",
    "# Plot evaluation metrics\n",
    "plt.figure(figsize=(12, 6))\n",
    "plt.subplot(1, 2, 1)\n",
    "plt.plot(range(2, 11), wcss, marker='o', linestyle='-')\n",
    "plt.title('Elbow Method for Optimal k (WCSS)')\n",
    "plt.xlabel('Number of Clusters')\n",
    "plt.ylabel('Within-Cluster Sum of Squares (WCSS)')\n",
    "\n",
    "plt.subplot(1, 2, 2)\n",
    "plt.plot(range(2, 11), silhouette_scores, marker='o', linestyle='-')\n",
    "plt.title('Silhouette Score for Optimal k')\n",
    "plt.xlabel('Number of Clusters')\n",
    "plt.ylabel('Silhouette Score')\n",
    "plt.show()\n"
   ]
  },
  {
   "cell_type": "code",
   "execution_count": 24,
   "id": "ddcb00c6-a430-4e6c-a8ad-bbb99ec2ba23",
   "metadata": {},
   "outputs": [
    {
     "name": "stdout",
     "output_type": "stream",
     "text": [
      "Cluster Medoids:\n",
      "[[4.50e+01 7.90e+00 4.30e+00 2.82e+02 5.00e+01 7.20e+01 6.00e+00 3.00e+00\n",
      "  1.00e+00 1.00e+00]\n",
      " [4.50e+01 3.70e+00 1.60e+00 6.12e+02 5.00e+01 8.80e+01 6.20e+00 1.90e+00\n",
      "  4.00e-01 0.00e+00]\n",
      " [4.60e+01 7.00e-01 2.00e-01 1.76e+02 2.80e+01 3.40e+01 5.60e+00 2.60e+00\n",
      "  8.00e-01 1.00e+00]\n",
      " [4.40e+01 1.90e+00 6.00e-01 2.98e+02 3.78e+02 6.02e+02 6.60e+00 3.30e+00\n",
      "  1.00e+00 1.00e+00]]\n",
      "\n",
      "Cluster Labels:\n",
      "[2 2 2 ... 2 0 2]\n",
      "Cluster 0: 5954 observations\n",
      "Cluster 1: 2800 observations\n",
      "Cluster 2: 11608 observations\n",
      "Cluster 3: 1364 observations\n"
     ]
    }
   ],
   "source": [
    "from sklearn_extra.cluster import KMedoids\n",
    "\n",
    "n_clusters = 4\n",
    "kmedoids = KMedoids(n_clusters=n_clusters, init='heuristic', random_state=0)\n",
    "\n",
    "# Fit the model to the data\n",
    "clusters = kmedoids.fit_predict(X_train)\n",
    "\n",
    "# Print cluster medoids and labels\n",
    "print(\"Cluster Medoids:\")\n",
    "print(kmedoids.cluster_centers_)\n",
    "print(\"\\nCluster Labels:\")\n",
    "print(clusters)\n",
    "\n",
    "# Count the observations in each cluster\n",
    "cluster_counts = np.bincount(clusters)\n",
    "\n",
    "# Print the counts of observations in each cluster\n",
    "for cluster_id, count in enumerate(cluster_counts):\n",
    "    print(f\"Cluster {cluster_id}: {count} observations\")\n"
   ]
  },
  {
   "cell_type": "code",
   "execution_count": 26,
   "id": "db89fdd3-5a81-47cb-a3d0-12dafdd77c90",
   "metadata": {},
   "outputs": [
    {
     "data": {
      "image/png": "[encoded data removed]",
      "text/plain": [
       "<Figure size 800x600 with 1 Axes>"
      ]
     },
     "metadata": {},
     "output_type": "display_data"
    }
   ],
   "source": [
    "from sklearn.metrics import silhouette_samples\n",
    "\n",
    "# Assuming clusters contain the cluster labels assigned by KMedoids\n",
    "silhouette_vals = silhouette_samples(X_train, clusters)\n",
    "\n",
    "# Plot the histogram of silhouette widths for each sample\n",
    "plt.figure(figsize=(8, 6))\n",
    "plt.hist(silhouette_vals, bins=30)\n",
    "plt.title('Silhouette Width for Clusters')\n",
    "plt.xlabel('Silhouette Width')\n",
    "plt.ylabel('Frequency')\n",
    "plt.show()\n"
   ]
  },
  {
   "cell_type": "markdown",
   "id": "9b68ee60-1a35-4872-9394-bf377e8f1042",
   "metadata": {},
   "source": [
    "A silhouette width close to +1 indicates that the sample is well-clustered, with the distance between the sample and the nearest cluster mean.A higher frequency of samples with positive silhouette widths indicates better cluster separation and more reliable clustering results."
   ]
  },
  {
   "cell_type": "code",
   "execution_count": 27,
   "id": "966bea1b-1ea5-4fad-bdbf-0826f6e075f5",
   "metadata": {},
   "outputs": [
    {
     "data": {
      "image/png": "[encoded data removed]",
      "text/plain": [
       "<Figure size 640x480 with 1 Axes>"
      ]
     },
     "metadata": {},
     "output_type": "display_data"
    }
   ],
   "source": [
    "np.random.seed(28)\n",
    "\n",
    "def plot_silhouette(X, clusters):\n",
    "    silhouette_vals = silhouette_samples(X, clusters)\n",
    "    n_clusters = len(np.unique(clusters))\n",
    "    fig, ax = plt.subplots(1, 1)\n",
    "    ax.set_xlim([-0.1, 1])\n",
    "    ax.set_ylim([0, len(X) + (n_clusters + 1) * 10])\n",
    "\n",
    "    y_lower = 10\n",
    "    for i in range(n_clusters):\n",
    "        cluster_silhouette_vals = silhouette_vals[clusters == i]\n",
    "        cluster_silhouette_vals.sort()\n",
    "\n",
    "        size_cluster_i = cluster_silhouette_vals.shape[0]\n",
    "        y_upper = y_lower + size_cluster_i\n",
    "\n",
    "        color = plt.cm.tab10(float(i) / n_clusters)\n",
    "        ax.fill_betweenx(np.arange(y_lower, y_upper), 0, cluster_silhouette_vals, facecolor=color, edgecolor=color, alpha=0.7)\n",
    "\n",
    "        ax.text(-0.05, y_lower + 0.5 * size_cluster_i, str(i))\n",
    "\n",
    "        y_lower = y_upper + 10\n",
    "\n",
    "    silhouette_avg = silhouette_score(X, clusters)\n",
    "    ax.axvline(x=silhouette_avg, color=\"red\", linestyle=\"--\")\n",
    "    ax.set_xlabel(\"Silhouette Coefficient Values\")\n",
    "    ax.set_ylabel(\"Cluster Label\")\n",
    "\n",
    "    ax.text(silhouette_avg + 0.005, 0.5 * len(X), 'Average Silhouette Score: {:.2f}'.format(silhouette_avg), color=\"red\")\n",
    "    ax.set_title(\"Silhouette Plot for Clusters\")\n",
    "\n",
    "    plt.show()\n",
    "\n",
    "plot_silhouette(X_train, clusters)"
   ]
  },
  {
   "cell_type": "code",
   "execution_count": 28,
   "id": "da399958-c6af-467d-a570-703e773ba510",
   "metadata": {},
   "outputs": [
    {
     "name": "stdout",
     "output_type": "stream",
     "text": [
      "Average Silhouette Value: 0.37897924677231876\n"
     ]
    }
   ],
   "source": [
    "from sklearn.metrics import silhouette_score\n",
    "\n",
    "# Calculate the average silhouette value\n",
    "silhouette_avg = silhouette_score(X_train, clusters)\n",
    "print(\"Average Silhouette Value:\", silhouette_avg)\n"
   ]
  },
  {
   "cell_type": "code",
   "execution_count": 30,
   "id": "980a324b-b892-4e90-b8b1-e43024b69944",
   "metadata": {},
   "outputs": [],
   "source": [
    "X_train['cluster_label'] = clusters"
   ]
  },
  {
   "cell_type": "code",
   "execution_count": 31,
   "id": "5e7a7869-430e-4256-b562-a3b347afd078",
   "metadata": {},
   "outputs": [
    {
     "name": "stdout",
     "output_type": "stream",
     "text": [
      "Cluster Label Categories and Counts:\n",
      "cluster_label\n",
      "2    11608\n",
      "0     5954\n",
      "1     2800\n",
      "3     1364\n",
      "Name: count, dtype: int64\n"
     ]
    }
   ],
   "source": [
    "# Check categories and counts in the 'cluster_label' column\n",
    "cluster_label_counts = X_train['cluster_label'].value_counts()\n",
    "\n",
    "# Print the categories and their counts\n",
    "print(\"Cluster Label Categories and Counts:\")\n",
    "print(cluster_label_counts)\n"
   ]
  },
  {
   "cell_type": "code",
   "execution_count": 32,
   "id": "6ed8c613-5e83-4eee-aee0-2a539710a820",
   "metadata": {},
   "outputs": [],
   "source": [
    "# Assign cluster labels to a new column in X_train_new\n",
    "X_train['cluster_label'] = clusters\n",
    "\n",
    "# Separate data for each cluster\n",
    "X_train_cluster_0 = X_train[X_train['cluster_label'] == 0].drop(columns=['cluster_label'])\n",
    "X_train_cluster_1 = X_train[X_train['cluster_label'] == 1].drop(columns=['cluster_label'])\n",
    "X_train_cluster_2 = X_train[X_train['cluster_label'] == 2].drop(columns=['cluster_label'])\n",
    "X_train_cluster_3 = X_train[X_train['cluster_label'] == 3].drop(columns=['cluster_label'])\n",
    "# Extract target values for each cluster\n",
    "y_train_cluster_0 = y_train[X_train['cluster_label'] == 0]\n",
    "y_train_cluster_1 = y_train[X_train['cluster_label'] == 1]\n",
    "y_train_cluster_2 = y_train[X_train['cluster_label'] == 2]\n",
    "y_train_cluster_3 = y_train[X_train['cluster_label'] == 3]"
   ]
  },
  {
   "cell_type": "code",
   "execution_count": 33,
   "id": "90230edf-4ec6-4787-9a91-7dc42e4aba61",
   "metadata": {},
   "outputs": [
    {
     "name": "stdout",
     "output_type": "stream",
     "text": [
      "Shape of X_train_cluster_0: (5954, 10)\n",
      "Shape of y_train_cluster_0: (5954,)\n"
     ]
    }
   ],
   "source": [
    "\n",
    "# Get the shape of X_train_cluster_0 and y_train_cluster_0\n",
    "X_train_cluster_0_shape = X_train_cluster_0.shape\n",
    "y_train_cluster_0_shape = y_train_cluster_0.shape\n",
    "\n",
    "# Print the shapes\n",
    "print(\"Shape of X_train_cluster_0:\", X_train_cluster_0_shape)\n",
    "print(\"Shape of y_train_cluster_0:\", y_train_cluster_0_shape)\n"
   ]
  },
  {
   "cell_type": "code",
   "execution_count": 34,
   "id": "d70ef08c-85ac-4a65-a868-8db1a155e29b",
   "metadata": {},
   "outputs": [
    {
     "name": "stdout",
     "output_type": "stream",
     "text": [
      "Proportion of cases with liver disease in cluster 0: 0.829190460194827\n",
      "Proportion of cases without liver disease in cluster 0: 0.170809539805173\n"
     ]
    }
   ],
   "source": [
    "# Count the occurrences of each category in y_train_cluster_0\n",
    "y_train_cluster_0_counts = y_train_cluster_0.value_counts()\n",
    "\n",
    "# Calculate the proportion of cases where liver disease is present or not present\n",
    "proportion_have_disease = y_train_cluster_0_counts[1] / len(y_train_cluster_0)\n",
    "proportion_no_disease = y_train_cluster_0_counts[0] / len(y_train_cluster_0)\n",
    "\n",
    "# Print the proportions\n",
    "print(\"Proportion of cases with liver disease in cluster 0:\", proportion_have_disease)\n",
    "print(\"Proportion of cases without liver disease in cluster 0:\", proportion_no_disease)\n"
   ]
  },
  {
   "cell_type": "code",
   "execution_count": 35,
   "id": "978125a7-32c7-4fcf-8e3b-286f8d0d2cc9",
   "metadata": {},
   "outputs": [
    {
     "name": "stdout",
     "output_type": "stream",
     "text": [
      "Shape of X_train_cluster_1: (2800, 10)\n",
      "Shape of y_train_cluster_1: (2800,)\n"
     ]
    }
   ],
   "source": [
    "\n",
    "# Get the shape of X_train_cluster_0 and y_train_cluster_0\n",
    "X_train_cluster_1_shape = X_train_cluster_1.shape\n",
    "y_train_cluster_1_shape = y_train_cluster_1.shape\n",
    "\n",
    "# Print the shapes\n",
    "print(\"Shape of X_train_cluster_1:\", X_train_cluster_1_shape)\n",
    "print(\"Shape of y_train_cluster_1:\", y_train_cluster_1_shape)\n"
   ]
  },
  {
   "cell_type": "code",
   "execution_count": 36,
   "id": "eb642b4e-081b-43e9-b77e-7c1f09e65b89",
   "metadata": {},
   "outputs": [
    {
     "name": "stdout",
     "output_type": "stream",
     "text": [
      "Proportion of cases with liver disease in cluster 1: 0.8932142857142857\n",
      "Proportion of cases without liver disease in cluster 1: 0.10678571428571429\n"
     ]
    }
   ],
   "source": [
    "# Count the occurrences of each category in y_train_cluster_0\n",
    "y_train_cluster_1_counts = y_train_cluster_1.value_counts()\n",
    "\n",
    "# Calculate the proportion of cases where liver disease is present or not present\n",
    "proportion_have_disease = y_train_cluster_1_counts[1] / len(y_train_cluster_1)\n",
    "proportion_no_disease = y_train_cluster_1_counts[0] / len(y_train_cluster_1)\n",
    "\n",
    "# Print the proportions\n",
    "print(\"Proportion of cases with liver disease in cluster 1:\", proportion_have_disease)\n",
    "print(\"Proportion of cases without liver disease in cluster 1:\", proportion_no_disease)\n"
   ]
  },
  {
   "cell_type": "code",
   "execution_count": 37,
   "id": "978e5a4f-e847-4fdc-bb44-14e145b54af4",
   "metadata": {},
   "outputs": [
    {
     "name": "stdout",
     "output_type": "stream",
     "text": [
      "Shape of X_train_cluster_2: (11608, 10)\n",
      "Shape of y_train_cluster_2: (11608,)\n"
     ]
    }
   ],
   "source": [
    "\n",
    "# Get the shape of X_train_cluster_0 and y_train_cluster_0\n",
    "X_train_cluster_2_shape = X_train_cluster_2.shape\n",
    "y_train_cluster_2_shape = y_train_cluster_2.shape\n",
    "\n",
    "# Print the shapes\n",
    "print(\"Shape of X_train_cluster_2:\", X_train_cluster_2_shape)\n",
    "print(\"Shape of y_train_cluster_2:\", y_train_cluster_2_shape)\n"
   ]
  },
  {
   "cell_type": "code",
   "execution_count": 38,
   "id": "09801cb3-e5a7-48b6-9cbb-8c2d511f54da",
   "metadata": {},
   "outputs": [
    {
     "name": "stdout",
     "output_type": "stream",
     "text": [
      "Proportion of cases with liver disease in cluster 2: 0.5872674017918676\n",
      "Proportion of cases without liver disease in cluster 2: 0.4127325982081323\n"
     ]
    }
   ],
   "source": [
    "# Count the occurrences of each category in y_train_cluster_2\n",
    "y_train_cluster_2_counts = y_train_cluster_2.value_counts()\n",
    "\n",
    "# Initialize proportions to zero\n",
    "proportion_have_disease = 0\n",
    "proportion_no_disease = 0\n",
    "\n",
    "# Check if the category '1' exists\n",
    "if 1 in y_train_cluster_2_counts.index:\n",
    "    proportion_have_disease = y_train_cluster_2_counts[1] / len(y_train_cluster_2)\n",
    "\n",
    "# Check if the category '0' exists\n",
    "if 0 in y_train_cluster_2_counts.index:\n",
    "    proportion_no_disease = y_train_cluster_2_counts[0] / len(y_train_cluster_2)\n",
    "\n",
    "# Print the proportions\n",
    "print(\"Proportion of cases with liver disease in cluster 2:\", proportion_have_disease)\n",
    "print(\"Proportion of cases without liver disease in cluster 2:\", proportion_no_disease)\n"
   ]
  },
  {
   "cell_type": "code",
   "execution_count": 39,
   "id": "164e5eb0-a7ff-4d12-ad16-945d054cb512",
   "metadata": {},
   "outputs": [
    {
     "name": "stdout",
     "output_type": "stream",
     "text": [
      "Shape of X_train_cluster_3: (1364, 10)\n",
      "Shape of y_train_cluster_3: (1364,)\n"
     ]
    }
   ],
   "source": [
    "\n",
    "# Get the shape of X_train_cluster_0 and y_train_cluster_0\n",
    "X_train_cluster_3_shape = X_train_cluster_3.shape\n",
    "y_train_cluster_3_shape = y_train_cluster_3.shape\n",
    "\n",
    "# Print the shapes\n",
    "print(\"Shape of X_train_cluster_3:\", X_train_cluster_3_shape)\n",
    "print(\"Shape of y_train_cluster_3:\", y_train_cluster_3_shape)\n"
   ]
  },
  {
   "cell_type": "code",
   "execution_count": 40,
   "id": "280bf5c6-d63d-4229-bf5f-eab6ffc4d53a",
   "metadata": {},
   "outputs": [
    {
     "name": "stdout",
     "output_type": "stream",
     "text": [
      "Proportion of cases with liver disease in cluster 3: 1.0\n",
      "Proportion of cases without liver disease in cluster 3: 0\n"
     ]
    }
   ],
   "source": [
    "# Count the occurrences of each category in y_train_cluster_2\n",
    "y_train_cluster_3_counts = y_train_cluster_3.value_counts()\n",
    "\n",
    "# Initialize proportions to zero\n",
    "proportion_have_disease = 0\n",
    "proportion_no_disease = 0\n",
    "\n",
    "# Check if the category '1' exists\n",
    "if 1 in y_train_cluster_3_counts.index:\n",
    "    proportion_have_disease = y_train_cluster_3_counts[1] / len(y_train_cluster_3)\n",
    "\n",
    "# Check if the category '0' exists\n",
    "if 0 in y_train_cluster_3_counts.index:\n",
    "    proportion_no_disease = y_train_cluster_3_counts[0] / len(y_train_cluster_3)\n",
    "\n",
    "# Print the proportions\n",
    "print(\"Proportion of cases with liver disease in cluster 3:\", proportion_have_disease)\n",
    "print(\"Proportion of cases without liver disease in cluster 3:\", proportion_no_disease)\n"
   ]
  },
  {
   "cell_type": "code",
   "execution_count": null,
   "id": "4ad2cbc6-4fa0-4207-b670-82ca927aea03",
   "metadata": {},
   "outputs": [],
   "source": []
  },
  {
   "cell_type": "code",
   "execution_count": null,
   "id": "f225975e-69e3-48d3-b5aa-7ccbcd6baa92",
   "metadata": {},
   "outputs": [],
   "source": []
  },
  {
   "cell_type": "code",
   "execution_count": null,
   "id": "73dd1f5b-9bd9-47a3-bd55-7fabafd8f71b",
   "metadata": {},
   "outputs": [],
   "source": []
  }
 ],
 "metadata": {
  "kernelspec": {
   "display_name": "Python 3 (ipykernel)",
   "language": "python",
   "name": "python3"
  },
  "language_info": {
   "codemirror_mode": {
    "name": "ipython",
    "version": 3
   },
   "file_extension": ".py",
   "mimetype": "text/x-python",
   "name": "python",
   "nbconvert_exporter": "python",
   "pygments_lexer": "ipython3",
   "version": "3.11.7"
  }
 },
 "nbformat": 4,
 "nbformat_minor": 5
}
