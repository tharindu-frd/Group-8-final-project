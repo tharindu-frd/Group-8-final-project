{
 "cells": [
  {
   "cell_type": "code",
   "execution_count": 39,
   "id": "de7454ec-55de-4538-bf9b-4c1b6cef4806",
   "metadata": {},
   "outputs": [],
   "source": [
    "#import important libraries\n",
    "import pandas as pd\n",
    "import numpy as np\n",
    "import sys\n",
    "import os\n",
    "#ignore warnings\n",
    "import warnings\n",
    "warnings.filterwarnings('ignore')\n",
    "\n",
    "from sklearn.preprocessing import OneHotEncoder, LabelEncoder\n",
    "from sklearn import model_selection\n",
    "from sklearn import preprocessing\n",
    "from scipy.stats import chi2_contingency\n",
    "\n",
    "from imblearn.over_sampling import SMOTE\n",
    "from sklearn.datasets import make_classification\n",
    "\n",
    "from sklearn import metrics\n",
    "from sklearn.model_selection import train_test_split\n",
    "from sklearn.model_selection import cross_val_score\n",
    "from sklearn.model_selection import GridSearchCV\n",
    "from statsmodels.stats.outliers_influence import variance_inflation_factor\n",
    "from tabulate import tabulate\n",
    "from sklearn.preprocessing import StandardScaler\n",
    "\n",
    "from sklearn.linear_model import LogisticRegression\n",
    "from sklearn.svm import SVC\n",
    "from sklearn.tree import DecisionTreeClassifier\n",
    "from sklearn.ensemble import RandomForestClassifier\n",
    "from sklearn.neighbors import KNeighborsClassifier\n",
    "import xgboost as xgb\n",
    "from xgboost import XGBClassifier\n",
    "from sklearn.ensemble import GradientBoostingClassifier\n",
    "from sklearn.ensemble import AdaBoostClassifier\n",
    "from sklearn.neural_network import MLPClassifier\n",
    "\n",
    "from kmodes.kprototypes import KPrototypes\n",
    "from sklearn.metrics import silhouette_score\n",
    "from sklearn.metrics import silhouette_samples\n",
    "from sklearn_extra.cluster import KMedoids\n",
    "from factor_analyzer import FactorAnalyzer\n",
    "\n",
    "from prince import FAMD\n",
    "\n",
    "import matplotlib.pyplot as plt\n",
    "import seaborn as sns"
   ]
  },
  {
   "cell_type": "code",
   "execution_count": null,
   "id": "753588b0-3f44-4b00-9af1-0ab83424d95c",
   "metadata": {},
   "outputs": [],
   "source": []
  },
  {
   "cell_type": "code",
   "execution_count": 40,
   "id": "00c42362-3629-4c04-8cab-90fd3106d519",
   "metadata": {},
   "outputs": [
    {
     "data": {
      "text/html": [
       "<div>\n",
       "<style scoped>\n",
       "    .dataframe tbody tr th:only-of-type {\n",
       "        vertical-align: middle;\n",
       "    }\n",
       "\n",
       "    .dataframe tbody tr th {\n",
       "        vertical-align: top;\n",
       "    }\n",
       "\n",
       "    .dataframe thead th {\n",
       "        text-align: right;\n",
       "    }\n",
       "</style>\n",
       "<table border=\"1\" class=\"dataframe\">\n",
       "  <thead>\n",
       "    <tr style=\"text-align: right;\">\n",
       "      <th></th>\n",
       "      <th>Age of the patient</th>\n",
       "      <th>Total Bilirubin</th>\n",
       "      <th>Direct Bilirubin</th>\n",
       "      <th>Alkphos Alkaline Phosphotase</th>\n",
       "      <th>Sgpt Alamine Aminotransferase</th>\n",
       "      <th>Sgot Aspartate Aminotransferase</th>\n",
       "      <th>Total Protiens</th>\n",
       "      <th>ALB Albumin</th>\n",
       "      <th>A/G Ratio Albumin and Globulin Ratio</th>\n",
       "      <th>Result</th>\n",
       "    </tr>\n",
       "  </thead>\n",
       "  <tbody>\n",
       "    <tr>\n",
       "      <th>count</th>\n",
       "      <td>30689.000000</td>\n",
       "      <td>30043.000000</td>\n",
       "      <td>30130.000000</td>\n",
       "      <td>29895.000000</td>\n",
       "      <td>30153.000000</td>\n",
       "      <td>30229.000000</td>\n",
       "      <td>30228.000000</td>\n",
       "      <td>30197.000000</td>\n",
       "      <td>30132.000000</td>\n",
       "      <td>30691.000000</td>\n",
       "    </tr>\n",
       "    <tr>\n",
       "      <th>mean</th>\n",
       "      <td>44.107205</td>\n",
       "      <td>3.370319</td>\n",
       "      <td>1.528042</td>\n",
       "      <td>289.075364</td>\n",
       "      <td>81.488641</td>\n",
       "      <td>111.469979</td>\n",
       "      <td>6.480237</td>\n",
       "      <td>3.130142</td>\n",
       "      <td>0.943467</td>\n",
       "      <td>1.285882</td>\n",
       "    </tr>\n",
       "    <tr>\n",
       "      <th>std</th>\n",
       "      <td>15.981043</td>\n",
       "      <td>6.255522</td>\n",
       "      <td>2.869592</td>\n",
       "      <td>238.537589</td>\n",
       "      <td>182.158850</td>\n",
       "      <td>280.851078</td>\n",
       "      <td>1.081980</td>\n",
       "      <td>0.792281</td>\n",
       "      <td>0.323164</td>\n",
       "      <td>0.451841</td>\n",
       "    </tr>\n",
       "    <tr>\n",
       "      <th>min</th>\n",
       "      <td>4.000000</td>\n",
       "      <td>0.400000</td>\n",
       "      <td>0.100000</td>\n",
       "      <td>63.000000</td>\n",
       "      <td>10.000000</td>\n",
       "      <td>10.000000</td>\n",
       "      <td>2.700000</td>\n",
       "      <td>0.900000</td>\n",
       "      <td>0.300000</td>\n",
       "      <td>1.000000</td>\n",
       "    </tr>\n",
       "    <tr>\n",
       "      <th>25%</th>\n",
       "      <td>32.000000</td>\n",
       "      <td>0.800000</td>\n",
       "      <td>0.200000</td>\n",
       "      <td>175.000000</td>\n",
       "      <td>23.000000</td>\n",
       "      <td>26.000000</td>\n",
       "      <td>5.800000</td>\n",
       "      <td>2.600000</td>\n",
       "      <td>0.700000</td>\n",
       "      <td>1.000000</td>\n",
       "    </tr>\n",
       "    <tr>\n",
       "      <th>50%</th>\n",
       "      <td>45.000000</td>\n",
       "      <td>1.000000</td>\n",
       "      <td>0.300000</td>\n",
       "      <td>209.000000</td>\n",
       "      <td>35.000000</td>\n",
       "      <td>42.000000</td>\n",
       "      <td>6.600000</td>\n",
       "      <td>3.100000</td>\n",
       "      <td>0.900000</td>\n",
       "      <td>1.000000</td>\n",
       "    </tr>\n",
       "    <tr>\n",
       "      <th>75%</th>\n",
       "      <td>55.000000</td>\n",
       "      <td>2.700000</td>\n",
       "      <td>1.300000</td>\n",
       "      <td>298.000000</td>\n",
       "      <td>62.000000</td>\n",
       "      <td>88.000000</td>\n",
       "      <td>7.200000</td>\n",
       "      <td>3.800000</td>\n",
       "      <td>1.100000</td>\n",
       "      <td>2.000000</td>\n",
       "    </tr>\n",
       "    <tr>\n",
       "      <th>max</th>\n",
       "      <td>90.000000</td>\n",
       "      <td>75.000000</td>\n",
       "      <td>19.700000</td>\n",
       "      <td>2110.000000</td>\n",
       "      <td>2000.000000</td>\n",
       "      <td>4929.000000</td>\n",
       "      <td>9.600000</td>\n",
       "      <td>5.500000</td>\n",
       "      <td>2.800000</td>\n",
       "      <td>2.000000</td>\n",
       "    </tr>\n",
       "  </tbody>\n",
       "</table>\n",
       "</div>"
      ],
      "text/plain": [
       "       Age of the patient  Total Bilirubin  Direct Bilirubin  \\\n",
       "count        30689.000000     30043.000000      30130.000000   \n",
       "mean            44.107205         3.370319          1.528042   \n",
       "std             15.981043         6.255522          2.869592   \n",
       "min              4.000000         0.400000          0.100000   \n",
       "25%             32.000000         0.800000          0.200000   \n",
       "50%             45.000000         1.000000          0.300000   \n",
       "75%             55.000000         2.700000          1.300000   \n",
       "max             90.000000        75.000000         19.700000   \n",
       "\n",
       "        Alkphos Alkaline Phosphotase   Sgpt Alamine Aminotransferase  \\\n",
       "count                   29895.000000                    30153.000000   \n",
       "mean                      289.075364                       81.488641   \n",
       "std                       238.537589                      182.158850   \n",
       "min                        63.000000                       10.000000   \n",
       "25%                       175.000000                       23.000000   \n",
       "50%                       209.000000                       35.000000   \n",
       "75%                       298.000000                       62.000000   \n",
       "max                      2110.000000                     2000.000000   \n",
       "\n",
       "       Sgot Aspartate Aminotransferase  Total Protiens   ALB Albumin  \\\n",
       "count                     30229.000000    30228.000000  30197.000000   \n",
       "mean                        111.469979        6.480237      3.130142   \n",
       "std                         280.851078        1.081980      0.792281   \n",
       "min                          10.000000        2.700000      0.900000   \n",
       "25%                          26.000000        5.800000      2.600000   \n",
       "50%                          42.000000        6.600000      3.100000   \n",
       "75%                          88.000000        7.200000      3.800000   \n",
       "max                        4929.000000        9.600000      5.500000   \n",
       "\n",
       "       A/G Ratio Albumin and Globulin Ratio        Result  \n",
       "count                          30132.000000  30691.000000  \n",
       "mean                               0.943467      1.285882  \n",
       "std                                0.323164      0.451841  \n",
       "min                                0.300000      1.000000  \n",
       "25%                                0.700000      1.000000  \n",
       "50%                                0.900000      1.000000  \n",
       "75%                                1.100000      2.000000  \n",
       "max                                2.800000      2.000000  "
      ]
     },
     "execution_count": 40,
     "metadata": {},
     "output_type": "execute_result"
    }
   ],
   "source": [
    "#import  traain dataset\n",
    "df = pd.read_csv(\"train.csv\", encoding='ISO-8859-1')\n",
    "\n",
    "df.head()\n",
    "df.describe()"
   ]
  },
  {
   "cell_type": "code",
   "execution_count": 41,
   "id": "bf3ae9a9-f145-41c4-a5df-97821ed5ec17",
   "metadata": {},
   "outputs": [
    {
     "data": {
      "text/plain": [
       "Age of the patient                        2\n",
       "Gender of the patient                   902\n",
       "Total Bilirubin                         648\n",
       "Direct Bilirubin                        561\n",
       " Alkphos Alkaline Phosphotase           796\n",
       " Sgpt Alamine Aminotransferase          538\n",
       "Sgot Aspartate Aminotransferase         462\n",
       "Total Protiens                          463\n",
       " ALB Albumin                            494\n",
       "A/G Ratio Albumin and Globulin Ratio    559\n",
       "Result                                    0\n",
       "dtype: int64"
      ]
     },
     "execution_count": 41,
     "metadata": {},
     "output_type": "execute_result"
    }
   ],
   "source": [
    "#finding count of missing values in each column\n",
    "df.isna().sum()"
   ]
  },
  {
   "cell_type": "code",
   "execution_count": 42,
   "id": "f1aa5968-e4fc-42cf-8ab7-9d9e42d97f66",
   "metadata": {},
   "outputs": [
    {
     "name": "stdout",
     "output_type": "stream",
     "text": [
      "Unique categories in the 'Gender' column: ['Female' 'Male' nan]\n"
     ]
    }
   ],
   "source": [
    "unique_gender_categories = df['Gender of the patient'].unique()\n",
    "print(\"Unique categories in the 'Gender' column:\", unique_gender_categories)\n"
   ]
  },
  {
   "cell_type": "code",
   "execution_count": 43,
   "id": "694b079e-77ee-4f4c-9eb4-57c80e496a42",
   "metadata": {},
   "outputs": [
    {
     "data": {
      "text/html": [
       "<div>\n",
       "<style scoped>\n",
       "    .dataframe tbody tr th:only-of-type {\n",
       "        vertical-align: middle;\n",
       "    }\n",
       "\n",
       "    .dataframe tbody tr th {\n",
       "        vertical-align: top;\n",
       "    }\n",
       "\n",
       "    .dataframe thead th {\n",
       "        text-align: right;\n",
       "    }\n",
       "</style>\n",
       "<table border=\"1\" class=\"dataframe\">\n",
       "  <thead>\n",
       "    <tr style=\"text-align: right;\">\n",
       "      <th></th>\n",
       "      <th>Age</th>\n",
       "      <th>Total_Bilirubin</th>\n",
       "      <th>Direct_Bilirubin</th>\n",
       "      <th>Alkphos_Alkaline_Phosphotase</th>\n",
       "      <th>Sgpt_Alamine_Aminotransferase</th>\n",
       "      <th>Sgot_Aspartate_Aminotransferase</th>\n",
       "      <th>Total_Protiens</th>\n",
       "      <th>ALB_Albumin</th>\n",
       "      <th>A/G_Ratio_Albumin_and_Globulin_Ratio</th>\n",
       "      <th>Liver_disease</th>\n",
       "    </tr>\n",
       "  </thead>\n",
       "  <tbody>\n",
       "    <tr>\n",
       "      <th>count</th>\n",
       "      <td>30689.000000</td>\n",
       "      <td>30043.000000</td>\n",
       "      <td>30130.000000</td>\n",
       "      <td>29895.000000</td>\n",
       "      <td>30153.000000</td>\n",
       "      <td>30229.000000</td>\n",
       "      <td>30228.000000</td>\n",
       "      <td>30197.000000</td>\n",
       "      <td>30132.000000</td>\n",
       "      <td>30691.000000</td>\n",
       "    </tr>\n",
       "    <tr>\n",
       "      <th>mean</th>\n",
       "      <td>44.107205</td>\n",
       "      <td>3.370319</td>\n",
       "      <td>1.528042</td>\n",
       "      <td>289.075364</td>\n",
       "      <td>81.488641</td>\n",
       "      <td>111.469979</td>\n",
       "      <td>6.480237</td>\n",
       "      <td>3.130142</td>\n",
       "      <td>0.943467</td>\n",
       "      <td>1.285882</td>\n",
       "    </tr>\n",
       "    <tr>\n",
       "      <th>std</th>\n",
       "      <td>15.981043</td>\n",
       "      <td>6.255522</td>\n",
       "      <td>2.869592</td>\n",
       "      <td>238.537589</td>\n",
       "      <td>182.158850</td>\n",
       "      <td>280.851078</td>\n",
       "      <td>1.081980</td>\n",
       "      <td>0.792281</td>\n",
       "      <td>0.323164</td>\n",
       "      <td>0.451841</td>\n",
       "    </tr>\n",
       "    <tr>\n",
       "      <th>min</th>\n",
       "      <td>4.000000</td>\n",
       "      <td>0.400000</td>\n",
       "      <td>0.100000</td>\n",
       "      <td>63.000000</td>\n",
       "      <td>10.000000</td>\n",
       "      <td>10.000000</td>\n",
       "      <td>2.700000</td>\n",
       "      <td>0.900000</td>\n",
       "      <td>0.300000</td>\n",
       "      <td>1.000000</td>\n",
       "    </tr>\n",
       "    <tr>\n",
       "      <th>25%</th>\n",
       "      <td>32.000000</td>\n",
       "      <td>0.800000</td>\n",
       "      <td>0.200000</td>\n",
       "      <td>175.000000</td>\n",
       "      <td>23.000000</td>\n",
       "      <td>26.000000</td>\n",
       "      <td>5.800000</td>\n",
       "      <td>2.600000</td>\n",
       "      <td>0.700000</td>\n",
       "      <td>1.000000</td>\n",
       "    </tr>\n",
       "    <tr>\n",
       "      <th>50%</th>\n",
       "      <td>45.000000</td>\n",
       "      <td>1.000000</td>\n",
       "      <td>0.300000</td>\n",
       "      <td>209.000000</td>\n",
       "      <td>35.000000</td>\n",
       "      <td>42.000000</td>\n",
       "      <td>6.600000</td>\n",
       "      <td>3.100000</td>\n",
       "      <td>0.900000</td>\n",
       "      <td>1.000000</td>\n",
       "    </tr>\n",
       "    <tr>\n",
       "      <th>75%</th>\n",
       "      <td>55.000000</td>\n",
       "      <td>2.700000</td>\n",
       "      <td>1.300000</td>\n",
       "      <td>298.000000</td>\n",
       "      <td>62.000000</td>\n",
       "      <td>88.000000</td>\n",
       "      <td>7.200000</td>\n",
       "      <td>3.800000</td>\n",
       "      <td>1.100000</td>\n",
       "      <td>2.000000</td>\n",
       "    </tr>\n",
       "    <tr>\n",
       "      <th>max</th>\n",
       "      <td>90.000000</td>\n",
       "      <td>75.000000</td>\n",
       "      <td>19.700000</td>\n",
       "      <td>2110.000000</td>\n",
       "      <td>2000.000000</td>\n",
       "      <td>4929.000000</td>\n",
       "      <td>9.600000</td>\n",
       "      <td>5.500000</td>\n",
       "      <td>2.800000</td>\n",
       "      <td>2.000000</td>\n",
       "    </tr>\n",
       "  </tbody>\n",
       "</table>\n",
       "</div>"
      ],
      "text/plain": [
       "                Age  Total_Bilirubin  Direct_Bilirubin  \\\n",
       "count  30689.000000     30043.000000      30130.000000   \n",
       "mean      44.107205         3.370319          1.528042   \n",
       "std       15.981043         6.255522          2.869592   \n",
       "min        4.000000         0.400000          0.100000   \n",
       "25%       32.000000         0.800000          0.200000   \n",
       "50%       45.000000         1.000000          0.300000   \n",
       "75%       55.000000         2.700000          1.300000   \n",
       "max       90.000000        75.000000         19.700000   \n",
       "\n",
       "       Alkphos_Alkaline_Phosphotase  Sgpt_Alamine_Aminotransferase  \\\n",
       "count                  29895.000000                   30153.000000   \n",
       "mean                     289.075364                      81.488641   \n",
       "std                      238.537589                     182.158850   \n",
       "min                       63.000000                      10.000000   \n",
       "25%                      175.000000                      23.000000   \n",
       "50%                      209.000000                      35.000000   \n",
       "75%                      298.000000                      62.000000   \n",
       "max                     2110.000000                    2000.000000   \n",
       "\n",
       "       Sgot_Aspartate_Aminotransferase  Total_Protiens   ALB_Albumin  \\\n",
       "count                     30229.000000    30228.000000  30197.000000   \n",
       "mean                        111.469979        6.480237      3.130142   \n",
       "std                         280.851078        1.081980      0.792281   \n",
       "min                          10.000000        2.700000      0.900000   \n",
       "25%                          26.000000        5.800000      2.600000   \n",
       "50%                          42.000000        6.600000      3.100000   \n",
       "75%                          88.000000        7.200000      3.800000   \n",
       "max                        4929.000000        9.600000      5.500000   \n",
       "\n",
       "       A/G_Ratio_Albumin_and_Globulin_Ratio  Liver_disease  \n",
       "count                          30132.000000   30691.000000  \n",
       "mean                               0.943467       1.285882  \n",
       "std                                0.323164       0.451841  \n",
       "min                                0.300000       1.000000  \n",
       "25%                                0.700000       1.000000  \n",
       "50%                                0.900000       1.000000  \n",
       "75%                                1.100000       2.000000  \n",
       "max                                2.800000       2.000000  "
      ]
     },
     "execution_count": 43,
     "metadata": {},
     "output_type": "execute_result"
    }
   ],
   "source": [
    "df.columns = ['Age', 'Gender', 'Total_Bilirubin',\n",
    "       'Direct_Bilirubin', 'Alkphos_Alkaline_Phosphotase',\n",
    "       'Sgpt_Alamine_Aminotransferase', 'Sgot_Aspartate_Aminotransferase',\n",
    "       'Total_Protiens', 'ALB_Albumin',\n",
    "       'A/G_Ratio_Albumin_and_Globulin_Ratio', 'Liver_disease']\n",
    "## RENAMED RESULT AS Liver_disease\n",
    "# Renaming Done\n",
    "df.describe()"
   ]
  },
  {
   "cell_type": "code",
   "execution_count": 44,
   "id": "b2744a8f-1f7a-4d6a-bfd5-80ae2f57f9ad",
   "metadata": {},
   "outputs": [
    {
     "name": "stdout",
     "output_type": "stream",
     "text": [
      "Unique categories in the 'Gender' column: ['Female' 'Male' nan]\n"
     ]
    }
   ],
   "source": [
    "unique_gender_categories = df['Gender'].unique()\n",
    "print(\"Unique categories in the 'Gender' column:\", unique_gender_categories)\n"
   ]
  },
  {
   "cell_type": "code",
   "execution_count": 45,
   "id": "d80e3119-9972-4b84-95ca-c7bf17803a3e",
   "metadata": {},
   "outputs": [
    {
     "name": "stdout",
     "output_type": "stream",
     "text": [
      "[1 2]\n",
      "[1 0]\n"
     ]
    }
   ],
   "source": [
    "#unique values in Liver_disease variable\n",
    "values_in_Liver_disease = df[\"Liver_disease\"].unique()\n",
    "print(values_in_Liver_disease)\n",
    "\n",
    "#recoding Liver_disease variable - 2 means dont have disease - converted that to 0; 1 remains the same\n",
    "df['Liver_disease'] = df['Liver_disease'].replace(2, 0)\n",
    "print(df[\"Liver_disease\"].unique())"
   ]
  },
  {
   "cell_type": "code",
   "execution_count": 28,
   "id": "1f844dc8-16e2-40d5-92aa-cd25030bab59",
   "metadata": {},
   "outputs": [],
   "source": [
    "#encoding Gender column into categorical data \n",
    "LabelEncoder = LabelEncoder()\n",
    "df['is_male'] = LabelEncoder.fit_transform(df['Gender'])\n",
    "df = df.drop(columns='Gender')\n",
    "df =  df.rename(columns={'is_male':'Gender'}, inplace=False)\n",
    "\n",
    "#new gender column where male=1 and female=0"
   ]
  },
  {
   "cell_type": "code",
   "execution_count": 46,
   "id": "b5c5b141-56d1-44ea-9e58-f1fcd8db6c91",
   "metadata": {},
   "outputs": [],
   "source": [
    "# Assuming 'Male' and 'Female' are the original values in the 'Gender' column\n",
    "df['Gender'] = df['Gender'].replace({'Male': 1, 'Female': 0})\n",
    "## Male=1 Female=0"
   ]
  },
  {
   "cell_type": "code",
   "execution_count": 48,
   "id": "9963e998-769c-415c-aee4-4a6a66fbd4a0",
   "metadata": {},
   "outputs": [
    {
     "name": "stdout",
     "output_type": "stream",
     "text": [
      "Unique categories in the 'Gender' column: [ 0.  1. nan]\n"
     ]
    }
   ],
   "source": [
    "unique_gender_categories = df['Gender'].unique()\n",
    "print(\"Unique categories in the 'Gender' column:\", unique_gender_categories)\n"
   ]
  },
  {
   "cell_type": "code",
   "execution_count": 49,
   "id": "1b1a1924-2a5a-4407-8d5a-1cec9fc0a988",
   "metadata": {},
   "outputs": [
    {
     "data": {
      "text/html": [
       "<div>\n",
       "<style scoped>\n",
       "    .dataframe tbody tr th:only-of-type {\n",
       "        vertical-align: middle;\n",
       "    }\n",
       "\n",
       "    .dataframe tbody tr th {\n",
       "        vertical-align: top;\n",
       "    }\n",
       "\n",
       "    .dataframe thead th {\n",
       "        text-align: right;\n",
       "    }\n",
       "</style>\n",
       "<table border=\"1\" class=\"dataframe\">\n",
       "  <thead>\n",
       "    <tr style=\"text-align: right;\">\n",
       "      <th></th>\n",
       "      <th>Age</th>\n",
       "      <th>Gender</th>\n",
       "      <th>Total_Bilirubin</th>\n",
       "      <th>Direct_Bilirubin</th>\n",
       "      <th>Alkphos_Alkaline_Phosphotase</th>\n",
       "      <th>Sgpt_Alamine_Aminotransferase</th>\n",
       "      <th>Sgot_Aspartate_Aminotransferase</th>\n",
       "      <th>Total_Protiens</th>\n",
       "      <th>ALB_Albumin</th>\n",
       "      <th>A/G_Ratio_Albumin_and_Globulin_Ratio</th>\n",
       "      <th>Liver_disease</th>\n",
       "    </tr>\n",
       "  </thead>\n",
       "  <tbody>\n",
       "    <tr>\n",
       "      <th>0</th>\n",
       "      <td>65.0</td>\n",
       "      <td>0.0</td>\n",
       "      <td>0.7</td>\n",
       "      <td>0.1</td>\n",
       "      <td>187.0</td>\n",
       "      <td>16.0</td>\n",
       "      <td>18.0</td>\n",
       "      <td>6.8</td>\n",
       "      <td>3.3</td>\n",
       "      <td>0.90</td>\n",
       "      <td>1</td>\n",
       "    </tr>\n",
       "    <tr>\n",
       "      <th>1</th>\n",
       "      <td>62.0</td>\n",
       "      <td>1.0</td>\n",
       "      <td>10.9</td>\n",
       "      <td>5.5</td>\n",
       "      <td>699.0</td>\n",
       "      <td>64.0</td>\n",
       "      <td>100.0</td>\n",
       "      <td>7.5</td>\n",
       "      <td>3.2</td>\n",
       "      <td>0.74</td>\n",
       "      <td>1</td>\n",
       "    </tr>\n",
       "    <tr>\n",
       "      <th>2</th>\n",
       "      <td>62.0</td>\n",
       "      <td>1.0</td>\n",
       "      <td>7.3</td>\n",
       "      <td>4.1</td>\n",
       "      <td>490.0</td>\n",
       "      <td>60.0</td>\n",
       "      <td>68.0</td>\n",
       "      <td>7.0</td>\n",
       "      <td>3.3</td>\n",
       "      <td>0.89</td>\n",
       "      <td>1</td>\n",
       "    </tr>\n",
       "    <tr>\n",
       "      <th>3</th>\n",
       "      <td>58.0</td>\n",
       "      <td>1.0</td>\n",
       "      <td>1.0</td>\n",
       "      <td>0.4</td>\n",
       "      <td>182.0</td>\n",
       "      <td>14.0</td>\n",
       "      <td>20.0</td>\n",
       "      <td>6.8</td>\n",
       "      <td>3.4</td>\n",
       "      <td>1.00</td>\n",
       "      <td>1</td>\n",
       "    </tr>\n",
       "    <tr>\n",
       "      <th>4</th>\n",
       "      <td>72.0</td>\n",
       "      <td>1.0</td>\n",
       "      <td>3.9</td>\n",
       "      <td>2.0</td>\n",
       "      <td>195.0</td>\n",
       "      <td>27.0</td>\n",
       "      <td>59.0</td>\n",
       "      <td>7.3</td>\n",
       "      <td>2.4</td>\n",
       "      <td>0.40</td>\n",
       "      <td>1</td>\n",
       "    </tr>\n",
       "  </tbody>\n",
       "</table>\n",
       "</div>"
      ],
      "text/plain": [
       "    Age  Gender  Total_Bilirubin  Direct_Bilirubin  \\\n",
       "0  65.0     0.0              0.7               0.1   \n",
       "1  62.0     1.0             10.9               5.5   \n",
       "2  62.0     1.0              7.3               4.1   \n",
       "3  58.0     1.0              1.0               0.4   \n",
       "4  72.0     1.0              3.9               2.0   \n",
       "\n",
       "   Alkphos_Alkaline_Phosphotase  Sgpt_Alamine_Aminotransferase  \\\n",
       "0                         187.0                           16.0   \n",
       "1                         699.0                           64.0   \n",
       "2                         490.0                           60.0   \n",
       "3                         182.0                           14.0   \n",
       "4                         195.0                           27.0   \n",
       "\n",
       "   Sgot_Aspartate_Aminotransferase  Total_Protiens  ALB_Albumin  \\\n",
       "0                             18.0             6.8          3.3   \n",
       "1                            100.0             7.5          3.2   \n",
       "2                             68.0             7.0          3.3   \n",
       "3                             20.0             6.8          3.4   \n",
       "4                             59.0             7.3          2.4   \n",
       "\n",
       "   A/G_Ratio_Albumin_and_Globulin_Ratio  Liver_disease  \n",
       "0                                  0.90              1  \n",
       "1                                  0.74              1  \n",
       "2                                  0.89              1  \n",
       "3                                  1.00              1  \n",
       "4                                  0.40              1  "
      ]
     },
     "execution_count": 49,
     "metadata": {},
     "output_type": "execute_result"
    }
   ],
   "source": [
    "df.head()"
   ]
  },
  {
   "cell_type": "code",
   "execution_count": 50,
   "id": "01d0a989-f581-4648-a38a-22a37865369c",
   "metadata": {},
   "outputs": [
    {
     "data": {
      "text/plain": [
       "Age                                     0\n",
       "Gender                                  0\n",
       "Total_Bilirubin                         0\n",
       "Direct_Bilirubin                        0\n",
       "Alkphos_Alkaline_Phosphotase            0\n",
       "Sgpt_Alamine_Aminotransferase           0\n",
       "Sgot_Aspartate_Aminotransferase         0\n",
       "Total_Protiens                          0\n",
       "ALB_Albumin                             0\n",
       "A/G_Ratio_Albumin_and_Globulin_Ratio    0\n",
       "Liver_disease                           0\n",
       "dtype: int64"
      ]
     },
     "execution_count": 50,
     "metadata": {},
     "output_type": "execute_result"
    }
   ],
   "source": [
    "#dropping null values - does not affect data\n",
    "df = df.dropna()\n",
    "#finding count of missing values in each column\n",
    "df.isna().sum()"
   ]
  },
  {
   "cell_type": "code",
   "execution_count": 51,
   "id": "1b490d10-f57c-46fb-9ee3-5799127675bd",
   "metadata": {},
   "outputs": [
    {
     "name": "stdout",
     "output_type": "stream",
     "text": [
      "False\n"
     ]
    }
   ],
   "source": [
    "#identifying if there are duplicates\n",
    "duplicates = df.duplicated().all()\n",
    "print(duplicates)"
   ]
  },
  {
   "cell_type": "code",
   "execution_count": 52,
   "id": "24857f64-6e37-4adc-880e-e359dbc1f2ef",
   "metadata": {},
   "outputs": [
    {
     "name": "stdout",
     "output_type": "stream",
     "text": [
      "Total persons without liver disease :  7680 and its percentage is 28.28 %\n",
      "Total persons with liver disease :  19478 and its percentage is 71.72 %\n"
     ]
    }
   ],
   "source": [
    "print ('Total persons without liver disease :  {} and its percentage is {} %'.format(df.Liver_disease.value_counts()[0], round(df.Liver_disease.value_counts()[0]/df.Liver_disease.value_counts().sum()*100,2)) )\n",
    "print ('Total persons with liver disease :  {} and its percentage is {} %'.format(df.Liver_disease.value_counts()[1], round(df.Liver_disease.value_counts()[1]/df.Liver_disease.value_counts().sum()*100,2)) )"
   ]
  },
  {
   "cell_type": "markdown",
   "id": "e6fc00b8-6f6f-4909-ae08-454b9dda21b2",
   "metadata": {},
   "source": [
    "TEST TRAIN SPLIT"
   ]
  },
  {
   "cell_type": "code",
   "execution_count": 53,
   "id": "94a5f7cc-5124-4272-94df-9127044ce11d",
   "metadata": {},
   "outputs": [],
   "source": [
    "X = df.drop(columns=['Liver_disease'])\n",
    "y = df['Liver_disease']\n",
    "\n",
    "#20% allocated for test data and 80% for train data\n",
    "X_train, X_test, y_train, y_test = train_test_split(X, y, test_size=0.2, random_state=28)"
   ]
  },
  {
   "cell_type": "code",
   "execution_count": 54,
   "id": "51c998cd-7402-4251-9af4-690d00aea242",
   "metadata": {},
   "outputs": [],
   "source": [
    "#train data\n",
    "train = pd.concat([X_train, y_train], axis=1)\n",
    "#test data\n",
    "test = pd.concat([X_test, y_test], axis=1)"
   ]
  },
  {
   "cell_type": "markdown",
   "id": "988ece7e-aa19-479b-b30b-ebd8e19b6341",
   "metadata": {},
   "source": [
    "****** BEST MODEL 1 *****"
   ]
  },
  {
   "cell_type": "markdown",
   "id": "a11926ab-4495-413f-91b0-e7488375ea99",
   "metadata": {},
   "source": [
    "RANDOM FOREST : ORIGINAL SAMPLE : ACCURACY 0.9998"
   ]
  },
  {
   "cell_type": "code",
   "execution_count": 13,
   "id": "b44647d3-e8a3-4699-b5c8-51f2a55c09f6",
   "metadata": {},
   "outputs": [
    {
     "name": "stdout",
     "output_type": "stream",
     "text": [
      "{'max_depth': None, 'max_features': 'auto', 'min_samples_leaf': 1, 'min_samples_split': 2, 'n_estimators': 70}\n",
      "0.9998192805088031\n"
     ]
    }
   ],
   "source": [
    "np.random.seed(28)\n",
    "\n",
    "rf = RandomForestClassifier(random_state=28)\n",
    "param_grid = {\n",
    "    'n_estimators': [50, 60, 70, 80, 90, 100, 150],\n",
    "    'max_depth': [3, 4, 5, None],\n",
    "    'min_samples_split': [2, 3, 4],\n",
    "    'min_samples_leaf': [1, 2, 3],\n",
    "    'max_features': ['auto', 'sqrt', 'log2']\n",
    "}\n",
    "\n",
    "# Create the GridSearchCV object\n",
    "grid_search = GridSearchCV(estimator=rf, param_grid=param_grid, cv=5, n_jobs=-1)\n",
    "\n",
    "# Fit the GridSearchCV object to the data\n",
    "grid_search.fit(X_train, y_train)\n",
    "\n",
    "\n",
    "# Print the best hyperparameters\n",
    "print(grid_search.best_params_)\n",
    "\n",
    "# Print the best score\n",
    "print(grid_search.best_score_)\n"
   ]
  },
  {
   "cell_type": "code",
   "execution_count": null,
   "id": "dc76bde8-e662-41c6-93ab-e69fda87cda2",
   "metadata": {},
   "outputs": [],
   "source": []
  },
  {
   "cell_type": "code",
   "execution_count": 15,
   "id": "92864e53-7362-4926-8e0d-7c197a2c45a4",
   "metadata": {},
   "outputs": [
    {
     "name": "stdout",
     "output_type": "stream",
     "text": [
      "Accuracy score of this model:  99.98 %\n",
      "Misclassification rate of this model:  0.02 %\n",
      "\n",
      "Report card of this model: \n",
      "              precision    recall  f1-score   support\n",
      "\n",
      "           0      1.000     0.999     1.000      1556\n",
      "           1      1.000     1.000     1.000      3978\n",
      "\n",
      "    accuracy                          1.000      5534\n",
      "   macro avg      1.000     1.000     1.000      5534\n",
      "weighted avg      1.000     1.000     1.000      5534\n",
      "\n",
      "Confusion Matrix:\n",
      "+-----------------+----------------------+----------------------+\n",
      "|                 |   Predicted Negative |   Predicted Positive |\n",
      "+=================+======================+======================+\n",
      "| Actual Negative |                 1555 |                    1 |\n",
      "+-----------------+----------------------+----------------------+\n",
      "| Actual Positive |                    0 |                 3978 |\n",
      "+-----------------+----------------------+----------------------+\n"
     ]
    }
   ],
   "source": [
    "rf = RandomForestClassifier(n_estimators=70, max_depth=None, max_features='auto', min_samples_leaf=1, min_samples_split=2, random_state=28)\n",
    "rf_fit=rf.fit(X_train,y_train)\n",
    "y_pred = rf.predict(X_test)\n",
    "\n",
    "accuracy = round(metrics.accuracy_score(y_test, y_pred)*100, 2)\n",
    "print(\"Accuracy score of this model: \", accuracy, \"%\") \n",
    "\n",
    "misclassification_rate = round(np.mean(y_test != y_pred)*100, 2)\n",
    "print(\"Misclassification rate of this model: \", misclassification_rate, \"%\")\n",
    "\n",
    "print(\"\\nReport card of this model: \")\n",
    "print(metrics.classification_report(y_test, y_pred, digits=3))\n",
    "\n",
    "conf_matrix = metrics.confusion_matrix(y_test, y_pred)\n",
    "labels = ['Actual Negative', 'Actual Positive']\n",
    "columns = ['Predicted Negative', 'Predicted Positive']\n",
    "confusion_table = tabulate(conf_matrix, headers=columns, showindex=labels, tablefmt='grid')\n",
    "print(\"Confusion Matrix:\")\n",
    "print(confusion_table)"
   ]
  },
  {
   "cell_type": "code",
   "execution_count": 18,
   "id": "aa3dc44f-48ab-4859-b471-c36dffa6884a",
   "metadata": {},
   "outputs": [],
   "source": [
    "### Feature importance"
   ]
  },
  {
   "cell_type": "code",
   "execution_count": 16,
   "id": "d177c492-8bfd-4dfc-ba78-8e9241bd610f",
   "metadata": {},
   "outputs": [
    {
     "data": {
      "image/png": "[encoded data removed]",
      "text/plain": [
       "<Figure size 1000x600 with 1 Axes>"
      ]
     },
     "metadata": {},
     "output_type": "display_data"
    }
   ],
   "source": [
    "import matplotlib.pyplot as plt\n",
    "\n",
    "# Get feature importances\n",
    "importances = rf_fit.feature_importances_\n",
    "\n",
    "# Get feature names\n",
    "feature_names = X_train.columns  # Assuming X_train is a DataFrame with column names\n",
    "\n",
    "# Sort feature importances in descending order\n",
    "indices = np.argsort(importances)[::-1]\n",
    "\n",
    "# Rearrange feature names so they match the sorted feature importances\n",
    "sorted_feature_names = [feature_names[i] for i in indices]\n",
    "\n",
    "# Plot\n",
    "plt.figure(figsize=(10, 6))\n",
    "plt.title(\"Feature Importances\")\n",
    "plt.bar(range(X_train.shape[1]), importances[indices], align=\"center\")\n",
    "plt.xticks(range(X_train.shape[1]), sorted_feature_names, rotation=90)\n",
    "plt.xlim([-1, X_train.shape[1]])\n",
    "plt.xlabel(\"Features\")\n",
    "plt.ylabel(\"Importance\")\n",
    "plt.tight_layout()\n",
    "plt.show()\n"
   ]
  },
  {
   "cell_type": "code",
   "execution_count": null,
   "id": "efe10db0-673c-4e27-85e2-6c6827220e65",
   "metadata": {},
   "outputs": [],
   "source": []
  },
  {
   "cell_type": "code",
   "execution_count": 17,
   "id": "b336f072-bfa0-49a6-b928-749ff9e8764d",
   "metadata": {
    "scrolled": true
   },
   "outputs": [
    {
     "data": {
      "image/png": "[encoded data removed]",
      "text/plain": [
       "<Figure size 1000x600 with 1 Axes>"
      ]
     },
     "metadata": {},
     "output_type": "display_data"
    }
   ],
   "source": [
    "import matplotlib.pyplot as plt\n",
    "\n",
    "# Get feature importances\n",
    "importances = rf_fit.feature_importances_\n",
    "\n",
    "# Get feature names\n",
    "feature_names = X_train.columns  # Assuming X_train is a DataFrame with column names\n",
    "\n",
    "# Sort feature importances in descending order\n",
    "indices = np.argsort(importances)[::-1]\n",
    "\n",
    "# Rearrange feature names so they match the sorted feature importances\n",
    "sorted_feature_names = [feature_names[i] for i in indices]\n",
    "\n",
    "# Plot\n",
    "plt.figure(figsize=(10, 6))\n",
    "plt.title(\"Feature Importances\")\n",
    "plt.barh(range(X_train.shape[1]), importances[indices], align=\"center\")\n",
    "plt.yticks(range(X_train.shape[1]), sorted_feature_names)  # Use feature names for y-axis ticks\n",
    "plt.ylim([-1, X_train.shape[1]])  # Invert y-axis limits to start from top\n",
    "plt.xlabel(\"Importance\")  # Swap x and y axis labels\n",
    "plt.ylabel(\"Features\")\n",
    "plt.tight_layout()\n",
    "plt.show()\n"
   ]
  },
  {
   "cell_type": "code",
   "execution_count": null,
   "id": "64f3ea91-bdb6-4bd5-8fa9-05c7237f6483",
   "metadata": {},
   "outputs": [],
   "source": [
    "### Tests for checking actually they are aunnecessary variables"
   ]
  },
  {
   "cell_type": "code",
   "execution_count": 57,
   "id": "b67ac390-c19d-4355-95b7-12e3bc2f77ac",
   "metadata": {},
   "outputs": [
    {
     "name": "stdout",
     "output_type": "stream",
     "text": [
      "Contingency Table:\n",
      "Liver_disease     0      1\n",
      "Gender                    \n",
      "0.0            2020   5104\n",
      "1.0            5660  14374\n",
      "\n",
      "Chi-Square Statistic: 0.022589507271120246\n",
      "p-value: 0.880529462368887\n",
      "Degrees of Freedom: 1\n",
      "Expected Frequencies:\n",
      "[[ 2014.59312173  5109.40687827]\n",
      " [ 5665.40687827 14368.59312173]]\n"
     ]
    }
   ],
   "source": [
    "import pandas as pd\n",
    "from scipy.stats import chi2_contingency\n",
    "\n",
    "# Assuming you have a DataFrame named df containing the variables \"gender\" and \"Liver_disease\"\n",
    "# Create a contingency table\n",
    "contingency_table = pd.crosstab(df['Gender'], df['Liver_disease'])\n",
    "\n",
    "# Print the contingency table\n",
    "print(\"Contingency Table:\")\n",
    "print(contingency_table)\n",
    "\n",
    "# Perform chi-square test of independence\n",
    "chi2, p, dof, expected = chi2_contingency(contingency_table)\n",
    "print(\"\\nChi-Square Statistic:\", chi2)\n",
    "print(\"p-value:\", p)\n",
    "print(\"Degrees of Freedom:\", dof)\n",
    "print(\"Expected Frequencies:\")\n",
    "print(expected)\n"
   ]
  },
  {
   "cell_type": "code",
   "execution_count": null,
   "id": "cd724ddc-2ff8-4d4b-9ddf-ce313e7cf06f",
   "metadata": {},
   "outputs": [],
   "source": [
    "## With a p-value of 0.881, we fail to reject the null hypothesis of independence at the typical\n",
    "#significance level ( α = 0.05). Therefore, there is no significant association\n",
    "#between gender and liver disease "
   ]
  },
  {
   "cell_type": "code",
   "execution_count": 56,
   "id": "0ca3e33c-2db3-4873-8e6c-ecd001a97228",
   "metadata": {},
   "outputs": [
    {
     "name": "stdout",
     "output_type": "stream",
     "text": [
      "Independent Samples t-test:\n",
      "t-statistic: 1.1645063253384433\n",
      "p-value: 0.24422911141519432\n",
      "\n",
      "Mann-Whitney U Test:\n",
      "U-statistic: 75513653.5\n",
      "p-value: 0.21695674811389298\n"
     ]
    }
   ],
   "source": [
    "from scipy.stats import ttest_ind, mannwhitneyu\n",
    "\n",
    "# Split the data based on the values of \"Liver_disease\"\n",
    "age_with_disease = df[df['Liver_disease'] == 1]['Age']\n",
    "age_without_disease = df[df['Liver_disease'] == 0]['Age']\n",
    "\n",
    "# Perform independent samples t-test (assuming normality)\n",
    "t_statistic, p_value_ttest = ttest_ind(age_with_disease, age_without_disease)\n",
    "print(\"Independent Samples t-test:\")\n",
    "print(\"t-statistic:\", t_statistic)\n",
    "print(\"p-value:\", p_value_ttest)\n",
    "\n",
    "# Perform Mann-Whitney U test (if normality assumption is violated)\n",
    "u_statistic, p_value_mannwhitneyu = mannwhitneyu(age_with_disease, age_without_disease)\n",
    "print(\"\\nMann-Whitney U Test:\")\n",
    "print(\"U-statistic:\", u_statistic)\n",
    "print(\"p-value:\", p_value_mannwhitneyu)\n"
   ]
  },
  {
   "cell_type": "markdown",
   "id": "3da6dc8f-3727-4f68-bd98-291eb5aebeef",
   "metadata": {},
   "source": [
    "The results of both the independent samples t-test and the Mann-Whitney U test suggest that there is no significant difference in the mean age between individuals with liver disease and individuals without liver disease."
   ]
  },
  {
   "cell_type": "markdown",
   "id": "6424bcaf-11a1-4957-9a1d-a3012722566e",
   "metadata": {},
   "source": [
    "Since the p-value (0.2442) is greater than the typical significance level ( α = 0.05), we fail to reject the null hypothesis. This indicates that there is no significant difference in the mean age between the two groups."
   ]
  },
  {
   "cell_type": "markdown",
   "id": "39123e1f-22a0-48c4-9a7d-2dd7013dd6ca",
   "metadata": {},
   "source": [
    "Similarly, since the p-value (0.2170) is greater than the typical significance level, we fail to reject the null hypothesis. This indicates that there is no significant difference in the median age between the two groups."
   ]
  },
  {
   "cell_type": "markdown",
   "id": "70924995-93fc-4771-9d27-711aa699035c",
   "metadata": {},
   "source": [
    "Selecting only best 8 variables and fitting the model"
   ]
  },
  {
   "cell_type": "code",
   "execution_count": 58,
   "id": "74a3d4e8-0bb0-4e6c-a2dc-0a1d6698bb88",
   "metadata": {},
   "outputs": [
    {
     "data": {
      "text/html": [
       "<style>#sk-container-id-1 {color: black;background-color: white;}#sk-container-id-1 pre{padding: 0;}#sk-container-id-1 div.sk-toggleable {background-color: white;}#sk-container-id-1 label.sk-toggleable__label {cursor: pointer;display: block;width: 100%;margin-bottom: 0;padding: 0.3em;box-sizing: border-box;text-align: center;}#sk-container-id-1 label.sk-toggleable__label-arrow:before {content: \"▸\";float: left;margin-right: 0.25em;color: #696969;}#sk-container-id-1 label.sk-toggleable__label-arrow:hover:before {color: black;}#sk-container-id-1 div.sk-estimator:hover label.sk-toggleable__label-arrow:before {color: black;}#sk-container-id-1 div.sk-toggleable__content {max-height: 0;max-width: 0;overflow: hidden;text-align: left;background-color: #f0f8ff;}#sk-container-id-1 div.sk-toggleable__content pre {margin: 0.2em;color: black;border-radius: 0.25em;background-color: #f0f8ff;}#sk-container-id-1 input.sk-toggleable__control:checked~div.sk-toggleable__content {max-height: 200px;max-width: 100%;overflow: auto;}#sk-container-id-1 input.sk-toggleable__control:checked~label.sk-toggleable__label-arrow:before {content: \"▾\";}#sk-container-id-1 div.sk-estimator input.sk-toggleable__control:checked~label.sk-toggleable__label {background-color: #d4ebff;}#sk-container-id-1 div.sk-label input.sk-toggleable__control:checked~label.sk-toggleable__label {background-color: #d4ebff;}#sk-container-id-1 input.sk-hidden--visually {border: 0;clip: rect(1px 1px 1px 1px);clip: rect(1px, 1px, 1px, 1px);height: 1px;margin: -1px;overflow: hidden;padding: 0;position: absolute;width: 1px;}#sk-container-id-1 div.sk-estimator {font-family: monospace;background-color: #f0f8ff;border: 1px dotted black;border-radius: 0.25em;box-sizing: border-box;margin-bottom: 0.5em;}#sk-container-id-1 div.sk-estimator:hover {background-color: #d4ebff;}#sk-container-id-1 div.sk-parallel-item::after {content: \"\";width: 100%;border-bottom: 1px solid gray;flex-grow: 1;}#sk-container-id-1 div.sk-label:hover label.sk-toggleable__label {background-color: #d4ebff;}#sk-container-id-1 div.sk-serial::before {content: \"\";position: absolute;border-left: 1px solid gray;box-sizing: border-box;top: 0;bottom: 0;left: 50%;z-index: 0;}#sk-container-id-1 div.sk-serial {display: flex;flex-direction: column;align-items: center;background-color: white;padding-right: 0.2em;padding-left: 0.2em;position: relative;}#sk-container-id-1 div.sk-item {position: relative;z-index: 1;}#sk-container-id-1 div.sk-parallel {display: flex;align-items: stretch;justify-content: center;background-color: white;position: relative;}#sk-container-id-1 div.sk-item::before, #sk-container-id-1 div.sk-parallel-item::before {content: \"\";position: absolute;border-left: 1px solid gray;box-sizing: border-box;top: 0;bottom: 0;left: 50%;z-index: -1;}#sk-container-id-1 div.sk-parallel-item {display: flex;flex-direction: column;z-index: 1;position: relative;background-color: white;}#sk-container-id-1 div.sk-parallel-item:first-child::after {align-self: flex-end;width: 50%;}#sk-container-id-1 div.sk-parallel-item:last-child::after {align-self: flex-start;width: 50%;}#sk-container-id-1 div.sk-parallel-item:only-child::after {width: 0;}#sk-container-id-1 div.sk-dashed-wrapped {border: 1px dashed gray;margin: 0 0.4em 0.5em 0.4em;box-sizing: border-box;padding-bottom: 0.4em;background-color: white;}#sk-container-id-1 div.sk-label label {font-family: monospace;font-weight: bold;display: inline-block;line-height: 1.2em;}#sk-container-id-1 div.sk-label-container {text-align: center;}#sk-container-id-1 div.sk-container {/* jupyter's `normalize.less` sets `[hidden] { display: none; }` but bootstrap.min.css set `[hidden] { display: none !important; }` so we also need the `!important` here to be able to override the default hidden behavior on the sphinx rendered scikit-learn.org. See: https://github.com/scikit-learn/scikit-learn/issues/21755 */display: inline-block !important;position: relative;}#sk-container-id-1 div.sk-text-repr-fallback {display: none;}</style><div id=\"sk-container-id-1\" class=\"sk-top-container\"><div class=\"sk-text-repr-fallback\"><pre>RandomForestClassifier(max_features=&#x27;auto&#x27;, n_estimators=70, random_state=28)</pre><b>In a Jupyter environment, please rerun this cell to show the HTML representation or trust the notebook. <br />On GitHub, the HTML representation is unable to render, please try loading this page with nbviewer.org.</b></div><div class=\"sk-container\" hidden><div class=\"sk-item\"><div class=\"sk-estimator sk-toggleable\"><input class=\"sk-toggleable__control sk-hidden--visually\" id=\"sk-estimator-id-1\" type=\"checkbox\" checked><label for=\"sk-estimator-id-1\" class=\"sk-toggleable__label sk-toggleable__label-arrow\">RandomForestClassifier</label><div class=\"sk-toggleable__content\"><pre>RandomForestClassifier(max_features=&#x27;auto&#x27;, n_estimators=70, random_state=28)</pre></div></div></div></div></div>"
      ],
      "text/plain": [
       "RandomForestClassifier(max_features='auto', n_estimators=70, random_state=28)"
      ]
     },
     "execution_count": 58,
     "metadata": {},
     "output_type": "execute_result"
    }
   ],
   "source": [
    "# Get the top 8 important features\n",
    "top_features = sorted_feature_names[:8]\n",
    "\n",
    "# Select only the top 8 features from X_train\n",
    "X_train_selected = X_train[top_features]\n",
    "\n",
    "# Initialize and fit the RandomForestClassifier with the selected features\n",
    "rf_selected = RandomForestClassifier(n_estimators=70, max_depth=None, max_features='auto', min_samples_leaf=1, min_samples_split=2, random_state=28)\n",
    "rf_selected.fit(X_train_selected, y_train)\n"
   ]
  },
  {
   "cell_type": "code",
   "execution_count": 59,
   "id": "c1441272-ad4c-46c0-aa97-27969d540abc",
   "metadata": {},
   "outputs": [
    {
     "name": "stdout",
     "output_type": "stream",
     "text": [
      "Accuracy score of this model:  100.0 %\n",
      "Misclassification rate of this model:  0.0 %\n",
      "\n",
      "Report card of this model: \n",
      "              precision    recall  f1-score   support\n",
      "\n",
      "           0      1.000     1.000     1.000      1573\n",
      "           1      1.000     1.000     1.000      3859\n",
      "\n",
      "    accuracy                          1.000      5432\n",
      "   macro avg      1.000     1.000     1.000      5432\n",
      "weighted avg      1.000     1.000     1.000      5432\n",
      "\n",
      "Confusion Matrix:\n",
      "+-----------------+----------------------+----------------------+\n",
      "|                 |   Predicted Negative |   Predicted Positive |\n",
      "+=================+======================+======================+\n",
      "| Actual Negative |                 1573 |                    0 |\n",
      "+-----------------+----------------------+----------------------+\n",
      "| Actual Positive |                    0 |                 3859 |\n",
      "+-----------------+----------------------+----------------------+\n"
     ]
    }
   ],
   "source": [
    "# Select only the top 8 features from X_test\n",
    "X_test_selected = X_test[top_features]\n",
    "\n",
    "# Make predictions using the model trained with the selected features\n",
    "y_pred = rf_selected.predict(X_test_selected)\n",
    "\n",
    "# Compute accuracy score\n",
    "accuracy = round(metrics.accuracy_score(y_test, y_pred) * 100, 2)\n",
    "print(\"Accuracy score of this model: \", accuracy, \"%\")\n",
    "\n",
    "# Compute misclassification rate\n",
    "misclassification_rate = round(np.mean(y_test != y_pred) * 100, 2)\n",
    "print(\"Misclassification rate of this model: \", misclassification_rate, \"%\")\n",
    "\n",
    "# Print classification report\n",
    "print(\"\\nReport card of this model: \")\n",
    "print(metrics.classification_report(y_test, y_pred, digits=3))\n",
    "\n",
    "# Compute confusion matrix\n",
    "conf_matrix = metrics.confusion_matrix(y_test, y_pred)\n",
    "labels = ['Actual Negative', 'Actual Positive']\n",
    "columns = ['Predicted Negative', 'Predicted Positive']\n",
    "confusion_table = tabulate(conf_matrix, headers=columns, showindex=labels, tablefmt='grid')\n",
    "print(\"Confusion Matrix:\")\n",
    "print(confusion_table)\n"
   ]
  },
  {
   "cell_type": "code",
   "execution_count": null,
   "id": "f2cdb1f7-e579-4bc9-b02f-17d2452cdfba",
   "metadata": {},
   "outputs": [],
   "source": [
    "### TO check whether the model with only important features it is over fitted or not"
   ]
  },
  {
   "cell_type": "code",
   "execution_count": 60,
   "id": "aaeb087b-fb8e-4bf2-aef4-2ecadc440430",
   "metadata": {},
   "outputs": [
    {
     "name": "stdout",
     "output_type": "stream",
     "text": [
      "Accuracy score of this model:  100.0 %\n",
      "Misclassification rate of this model:  0.0 %\n",
      "\n",
      "Report card of this model: \n",
      "              precision    recall  f1-score   support\n",
      "\n",
      "           0      1.000     1.000     1.000      1573\n",
      "           1      1.000     1.000     1.000      3859\n",
      "\n",
      "    accuracy                          1.000      5432\n",
      "   macro avg      1.000     1.000     1.000      5432\n",
      "weighted avg      1.000     1.000     1.000      5432\n",
      "\n",
      "Confusion Matrix for y_pred_test:\n",
      "+-----------------+----------------------+----------------------+\n",
      "|                 |   Predicted Negative |   Predicted Positive |\n",
      "+=================+======================+======================+\n",
      "| Actual Negative |                 1573 |                    0 |\n",
      "+-----------------+----------------------+----------------------+\n",
      "| Actual Positive |                    0 |                 3859 |\n",
      "+-----------------+----------------------+----------------------+\n"
     ]
    }
   ],
   "source": [
    "from tabulate import tabulate\n",
    "\n",
    "# Select only the top 8 features from X_train and X_test\n",
    "X_train_selected = X_train[top_features]\n",
    "X_test_selected = X_test[top_features]\n",
    "\n",
    "# Fit the RandomForestClassifier to the training data with selected features\n",
    "rf = RandomForestClassifier(n_estimators=70, max_depth=None, max_features='auto', min_samples_leaf=1, min_samples_split=2, random_state=28)\n",
    "rf.fit(X_train_selected, y_train)\n",
    "\n",
    "# Predict on the test data with selected features\n",
    "y_pred_test = rf.predict(X_test_selected)\n",
    "\n",
    "# Compute accuracy score\n",
    "accuracy = round(metrics.accuracy_score(y_test, y_pred_test) * 100, 2)\n",
    "print(\"Accuracy score of this model: \", accuracy, \"%\")\n",
    "\n",
    "# Compute misclassification rate\n",
    "misclassification_rate = round(np.mean(y_test != y_pred_test) * 100, 2)\n",
    "print(\"Misclassification rate of this model: \", misclassification_rate, \"%\")\n",
    "\n",
    "# Print classification report\n",
    "print(\"\\nReport card of this model: \")\n",
    "print(metrics.classification_report(y_test, y_pred_test, digits=3))\n",
    "\n",
    "# Compute confusion matrix\n",
    "conf_matrix = metrics.confusion_matrix(y_test, y_pred_test)\n",
    "labels = ['Actual Negative', 'Actual Positive']\n",
    "columns = ['Predicted Negative', 'Predicted Positive']\n",
    "confusion_table = tabulate(conf_matrix, headers=columns, showindex=labels, tablefmt='grid')\n",
    "print(\"Confusion Matrix for y_pred_test:\")\n",
    "print(confusion_table)\n"
   ]
  },
  {
   "cell_type": "code",
   "execution_count": 61,
   "id": "7b551896-0bd3-4968-8c29-640761dcc7f2",
   "metadata": {},
   "outputs": [
    {
     "name": "stdout",
     "output_type": "stream",
     "text": [
      "Accuracy score of this model:  99.99 %\n",
      "Misclassification rate of this model:  0.01 %\n",
      "\n",
      "Report card of this model: \n",
      "              precision    recall  f1-score   support\n",
      "\n",
      "           0      1.000     1.000     1.000      6107\n",
      "           1      1.000     1.000     1.000     15619\n",
      "\n",
      "    accuracy                          1.000     21726\n",
      "   macro avg      1.000     1.000     1.000     21726\n",
      "weighted avg      1.000     1.000     1.000     21726\n",
      "\n",
      "Confusion Matrix for y_pred_train:\n",
      "+-----------------+----------------------+----------------------+\n",
      "|                 |   Predicted Negative |   Predicted Positive |\n",
      "+=================+======================+======================+\n",
      "| Actual Negative |                 6104 |                    3 |\n",
      "+-----------------+----------------------+----------------------+\n",
      "| Actual Positive |                    0 |                15619 |\n",
      "+-----------------+----------------------+----------------------+\n"
     ]
    }
   ],
   "source": [
    "# Select only the top 8 features from X_train\n",
    "X_train_selected = X_train[top_features]\n",
    "\n",
    "# Fit the RandomForestClassifier to the training data with the selected features\n",
    "rf = RandomForestClassifier(n_estimators=70, max_depth=None, max_features='auto', min_samples_leaf=1, min_samples_split=2, random_state=28)\n",
    "rf.fit(X_train_selected, y_train)\n",
    "\n",
    "# Predict on the training data\n",
    "y_pred_train = rf.predict(X_train_selected)\n",
    "\n",
    "# Compute accuracy score\n",
    "accuracy = round(metrics.accuracy_score(y_train, y_pred_train) * 100, 2)\n",
    "print(\"Accuracy score of this model: \", accuracy, \"%\")\n",
    "\n",
    "# Compute misclassification rate\n",
    "misclassification_rate = round(np.mean(y_train != y_pred_train) * 100, 2)\n",
    "print(\"Misclassification rate of this model: \", misclassification_rate, \"%\")\n",
    "\n",
    "# Print classification report\n",
    "print(\"\\nReport card of this model: \")\n",
    "print(metrics.classification_report(y_train, y_pred_train, digits=3))\n",
    "\n",
    "# Compute confusion matrix\n",
    "conf_matrix = metrics.confusion_matrix(y_train, y_pred_train)\n",
    "labels = ['Actual Negative', 'Actual Positive']\n",
    "columns = ['Predicted Negative', 'Predicted Positive']\n",
    "confusion_table = tabulate(conf_matrix, headers=columns, showindex=labels, tablefmt='grid')\n",
    "print(\"Confusion Matrix for y_pred_train:\")\n",
    "print(confusion_table)\n"
   ]
  },
  {
   "cell_type": "code",
   "execution_count": null,
   "id": "a0a0a60c-2cce-4663-8401-22fcd638bb33",
   "metadata": {},
   "outputs": [],
   "source": []
  },
  {
   "cell_type": "code",
   "execution_count": null,
   "id": "472d7d1a-733b-455d-9ff5-f678ca1756da",
   "metadata": {},
   "outputs": [],
   "source": [
    "## For both train accuracy and test accuracy"
   ]
  },
  {
   "cell_type": "code",
   "execution_count": 19,
   "id": "dda2a036-aae8-4a4b-a15e-61de81648d3d",
   "metadata": {},
   "outputs": [
    {
     "name": "stdout",
     "output_type": "stream",
     "text": [
      "Accuracy score of this model:  99.98 %\n",
      "Misclassification rate of this model:  0.02 %\n",
      "\n",
      "Report card of this model: \n",
      "              precision    recall  f1-score   support\n",
      "\n",
      "           0      1.000     0.999     1.000      1556\n",
      "           1      1.000     1.000     1.000      3978\n",
      "\n",
      "    accuracy                          1.000      5534\n",
      "   macro avg      1.000     1.000     1.000      5534\n",
      "weighted avg      1.000     1.000     1.000      5534\n",
      "\n",
      "Confusion Matrix for y_pred_test:\n",
      "+-----------------+----------------------+----------------------+\n",
      "|                 |   Predicted Negative |   Predicted Positive |\n",
      "+=================+======================+======================+\n",
      "| Actual Negative |                 1555 |                    1 |\n",
      "+-----------------+----------------------+----------------------+\n",
      "| Actual Positive |                    0 |                 3978 |\n",
      "+-----------------+----------------------+----------------------+\n"
     ]
    }
   ],
   "source": [
    "rf = RandomForestClassifier(n_estimators=70, max_depth=None, max_features='auto', min_samples_leaf=1, min_samples_split=2, random_state=28)\n",
    "rf.fit(X_train,y_train)\n",
    "y_pred_test = rf.predict(X_test)\n",
    "\n",
    "accuracy = round(metrics.accuracy_score(y_test, y_pred_test)*100, 2)\n",
    "print(\"Accuracy score of this model: \", accuracy, \"%\") \n",
    "\n",
    "misclassification_rate = round(np.mean(y_test != y_pred_test)*100, 2)\n",
    "print(\"Misclassification rate of this model: \", misclassification_rate, \"%\")\n",
    "\n",
    "print(\"\\nReport card of this model: \")\n",
    "print(metrics.classification_report(y_test, y_pred_test, digits=3))\n",
    "\n",
    "conf_matrix = metrics.confusion_matrix(y_test, y_pred_test)\n",
    "labels = ['Actual Negative', 'Actual Positive']\n",
    "columns = ['Predicted Negative', 'Predicted Positive']\n",
    "confusion_table = tabulate(conf_matrix, headers=columns, showindex=labels, tablefmt='grid')\n",
    "print(\"Confusion Matrix for y_pred_test:\")\n",
    "print(confusion_table)"
   ]
  },
  {
   "cell_type": "code",
   "execution_count": 20,
   "id": "07fff34c-a627-4e44-a2b9-b0fb01540c50",
   "metadata": {},
   "outputs": [
    {
     "name": "stdout",
     "output_type": "stream",
     "text": [
      "Accuracy score of this model:  99.99 %\n",
      "Misclassification rate of this model:  0.01 %\n",
      "\n",
      "Report card of this model: \n",
      "              precision    recall  f1-score   support\n",
      "\n",
      "           0      1.000     1.000     1.000      6277\n",
      "           1      1.000     1.000     1.000     15855\n",
      "\n",
      "    accuracy                          1.000     22132\n",
      "   macro avg      1.000     1.000     1.000     22132\n",
      "weighted avg      1.000     1.000     1.000     22132\n",
      "\n",
      "Confusion Matrix y_pred_train:\n",
      "+-----------------+----------------------+----------------------+\n",
      "|                 |   Predicted Negative |   Predicted Positive |\n",
      "+=================+======================+======================+\n",
      "| Actual Negative |                 6275 |                    2 |\n",
      "+-----------------+----------------------+----------------------+\n",
      "| Actual Positive |                    0 |                15855 |\n",
      "+-----------------+----------------------+----------------------+\n"
     ]
    }
   ],
   "source": [
    "rf = RandomForestClassifier(n_estimators=70, max_depth=None, max_features='auto', min_samples_leaf=1, min_samples_split=2, random_state=28)\n",
    "rf.fit(X_train,y_train)\n",
    "y_pred_train = rf.predict(X_train)\n",
    "\n",
    "accuracy = round(metrics.accuracy_score(y_train, y_pred_train)*100, 2)\n",
    "print(\"Accuracy score of this model: \", accuracy, \"%\") \n",
    "\n",
    "misclassification_rate = round(np.mean(y_train != y_pred_train)*100, 2)\n",
    "print(\"Misclassification rate of this model: \", misclassification_rate, \"%\")\n",
    "\n",
    "print(\"\\nReport card of this model: \")\n",
    "print(metrics.classification_report(y_train, y_pred_train, digits=3))\n",
    "\n",
    "conf_matrix = metrics.confusion_matrix(y_train, y_pred_train)\n",
    "labels = ['Actual Negative', 'Actual Positive']\n",
    "columns = ['Predicted Negative', 'Predicted Positive']\n",
    "confusion_table = tabulate(conf_matrix, headers=columns, showindex=labels, tablefmt='grid')\n",
    "print(\"Confusion Matrix y_pred_train:\")\n",
    "print(confusion_table)"
   ]
  },
  {
   "cell_type": "code",
   "execution_count": 20,
   "id": "6ff3d365-5278-4d2e-84da-1be4f4a769ad",
   "metadata": {},
   "outputs": [],
   "source": [
    "import pickle"
   ]
  },
  {
   "cell_type": "code",
   "execution_count": null,
   "id": "ffbc1bb4-e1d2-445b-8a81-f9c5c77d01de",
   "metadata": {},
   "outputs": [],
   "source": []
  },
  {
   "cell_type": "code",
   "execution_count": 36,
   "id": "8fda1f44-4761-41c6-ac54-fd885df7ee72",
   "metadata": {},
   "outputs": [],
   "source": [
    "import pickle\n",
    "\n",
    "# Save the model\n",
    "filename = r'C:\\Users\\HIRUNI\\Desktop\\3_2\\ST 3082 - Statistical Learning I\\Final Project\\VSCODE_APP\\model.pkl'\n",
    "pickle.dump(rf, open(filename, 'wb'))\n"
   ]
  },
  {
   "cell_type": "markdown",
   "id": "19645f34-9bd5-4da4-9d19-820c0f6a60ea",
   "metadata": {},
   "source": []
  },
  {
   "cell_type": "code",
   "execution_count": 39,
   "id": "35e30b1d-b16e-4ff7-a84c-977348b2972e",
   "metadata": {},
   "outputs": [
    {
     "name": "stdout",
     "output_type": "stream",
     "text": [
      "Model saved successfully.\n"
     ]
    }
   ],
   "source": [
    "filename =r'C:\\Users\\HIRUNI\\Desktop\\3_2\\ST 3082 - Statistical Learning I\\Final Project\\VSCODE_APP\\model.pkl'\n",
    "with open(filename, 'wb') as f:\n",
    "    pickle.dump(rf, f)\n",
    "\n",
    "print(\"Model saved successfully.\")"
   ]
  },
  {
   "cell_type": "code",
   "execution_count": 51,
   "id": "2583426d-0c4c-4986-8c6a-8c7ca6dfe5f0",
   "metadata": {},
   "outputs": [],
   "source": []
  },
  {
   "cell_type": "code",
   "execution_count": 52,
   "id": "aebc50f8-fc42-48f4-962d-984cff8e62a8",
   "metadata": {},
   "outputs": [],
   "source": []
  },
  {
   "cell_type": "markdown",
   "id": "0c230ddc-2430-4bc8-a5f8-b70fe6cb6c15",
   "metadata": {},
   "source": []
  },
  {
   "cell_type": "code",
   "execution_count": null,
   "id": "c9ee5228-5ae3-48d5-8ad0-5b64a7a1f247",
   "metadata": {},
   "outputs": [],
   "source": []
  },
  {
   "cell_type": "code",
   "execution_count": null,
   "id": "e1692f6c-bb03-4f97-a6d2-2342169845d0",
   "metadata": {},
   "outputs": [],
   "source": []
  },
  {
   "cell_type": "markdown",
   "id": "0b1677d4-47b3-4460-bb1b-7c212f1723a7",
   "metadata": {},
   "source": []
  },
  {
   "cell_type": "markdown",
   "id": "604f4134-3270-4b1a-9c60-9d1c9673e091",
   "metadata": {},
   "source": []
  },
  {
   "cell_type": "code",
   "execution_count": null,
   "id": "cc3f8b6d-7927-49bd-b852-374206925b6b",
   "metadata": {},
   "outputs": [],
   "source": []
  },
  {
   "cell_type": "code",
   "execution_count": null,
   "id": "55d67bb4-d2ff-48c0-bc6c-e57dfb9af621",
   "metadata": {},
   "outputs": [],
   "source": []
  },
  {
   "cell_type": "code",
   "execution_count": null,
   "id": "3a963066-ebae-47e9-9078-665ad40a484d",
   "metadata": {},
   "outputs": [],
   "source": []
  },
  {
   "cell_type": "code",
   "execution_count": null,
   "id": "8fa8793c-281f-4f59-b734-867319d85a0e",
   "metadata": {},
   "outputs": [],
   "source": []
  },
  {
   "cell_type": "code",
   "execution_count": null,
   "id": "4291c886-3f6d-4dd2-8af4-379a4331a1da",
   "metadata": {},
   "outputs": [],
   "source": []
  },
  {
   "cell_type": "markdown",
   "id": "e1347f4a-a603-4a50-82a0-a45ff9d3197d",
   "metadata": {},
   "source": []
  },
  {
   "cell_type": "code",
   "execution_count": null,
   "id": "c1433028-4517-4927-9ddc-c0d9271d5b45",
   "metadata": {},
   "outputs": [],
   "source": []
  },
  {
   "cell_type": "code",
   "execution_count": null,
   "id": "e7e87402-654c-451e-a085-171096f7381b",
   "metadata": {},
   "outputs": [],
   "source": []
  },
  {
   "cell_type": "code",
   "execution_count": null,
   "id": "e47e2e61-7f10-4d6a-b8a2-71a00c000c36",
   "metadata": {},
   "outputs": [],
   "source": []
  },
  {
   "cell_type": "code",
   "execution_count": null,
   "id": "d8de0a4a-a129-488a-bfce-b3e8d64624af",
   "metadata": {},
   "outputs": [],
   "source": []
  },
  {
   "cell_type": "code",
   "execution_count": null,
   "id": "89244dbb-1679-4135-91d8-9b5961c7a5f2",
   "metadata": {},
   "outputs": [],
   "source": []
  },
  {
   "cell_type": "code",
   "execution_count": null,
   "id": "79c6af7b-b422-4e67-8aa4-d446b8b22c67",
   "metadata": {},
   "outputs": [],
   "source": []
  },
  {
   "cell_type": "code",
   "execution_count": null,
   "id": "0eded003-84df-463d-8fdb-7f4771a43231",
   "metadata": {},
   "outputs": [],
   "source": []
  },
  {
   "cell_type": "code",
   "execution_count": null,
   "id": "08fe408b-795c-415c-80f5-22fc34756faa",
   "metadata": {},
   "outputs": [],
   "source": []
  },
  {
   "cell_type": "markdown",
   "id": "e6b7e7af-adbf-45a6-a94a-75e7664d36e6",
   "metadata": {},
   "source": []
  },
  {
   "cell_type": "markdown",
   "id": "06b27aeb-dc81-4573-b17c-8cfd6d91bf0f",
   "metadata": {},
   "source": []
  },
  {
   "cell_type": "code",
   "execution_count": null,
   "id": "08a9ddf3-22e0-44db-9f5c-c7cba628c506",
   "metadata": {},
   "outputs": [],
   "source": []
  },
  {
   "cell_type": "code",
   "execution_count": null,
   "id": "eb648652-ea28-459e-88bf-ae6072038bf8",
   "metadata": {},
   "outputs": [],
   "source": []
  },
  {
   "cell_type": "code",
   "execution_count": null,
   "id": "bc783732-b903-42e5-827a-ae47f6c51d5b",
   "metadata": {},
   "outputs": [],
   "source": []
  },
  {
   "cell_type": "code",
   "execution_count": null,
   "id": "ae0b52fb-0b86-41ad-bd20-ad33b31b215d",
   "metadata": {},
   "outputs": [],
   "source": []
  },
  {
   "cell_type": "code",
   "execution_count": null,
   "id": "938a5c4d-4893-40ca-80c3-e6badd13d2d9",
   "metadata": {},
   "outputs": [],
   "source": []
  },
  {
   "cell_type": "code",
   "execution_count": null,
   "id": "cf08649c-6c82-4342-b548-eaffde66b057",
   "metadata": {},
   "outputs": [],
   "source": []
  },
  {
   "cell_type": "code",
   "execution_count": null,
   "id": "d88e734f-9862-47ed-9b6f-4c0bfa5f7bd8",
   "metadata": {},
   "outputs": [],
   "source": []
  }
 ],
 "metadata": {
  "kernelspec": {
   "display_name": "Python 3 (ipykernel)",
   "language": "python",
   "name": "python3"
  },
  "language_info": {
   "codemirror_mode": {
    "name": "ipython",
    "version": 3
   },
   "file_extension": ".py",
   "mimetype": "text/x-python",
   "name": "python",
   "nbconvert_exporter": "python",
   "pygments_lexer": "ipython3",
   "version": "3.11.7"
  }
 },
 "nbformat": 4,
 "nbformat_minor": 5
}
